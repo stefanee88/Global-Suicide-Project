{
 "cells": [
  {
   "cell_type": "code",
   "execution_count": 1,
   "metadata": {},
   "outputs": [],
   "source": [
    "%matplotlib inline"
   ]
  },
  {
   "cell_type": "code",
   "execution_count": 2,
   "metadata": {},
   "outputs": [],
   "source": [
    "import matplotlib.pyplot as plt\n",
    "from matplotlib import cm\n",
    "import pandas as pd\n",
    "from datapackage import Package\n",
    "import scipy.stats as st\n",
    "from sklearn import datasets\n",
    "import numpy as np\n",
    "import seaborn as sns\n",
    "import json\n",
    "plt.style.use('seaborn')"
   ]
  },
  {
   "cell_type": "code",
   "execution_count": 3,
   "metadata": {},
   "outputs": [],
   "source": [
    "global_suicide_data = \"master.csv\"\n",
    "global_suicide_data = pd.read_csv(global_suicide_data)"
   ]
  },
  {
   "cell_type": "code",
   "execution_count": 4,
   "metadata": {},
   "outputs": [
    {
     "data": {
      "text/html": [
       "<div>\n",
       "<style scoped>\n",
       "    .dataframe tbody tr th:only-of-type {\n",
       "        vertical-align: middle;\n",
       "    }\n",
       "\n",
       "    .dataframe tbody tr th {\n",
       "        vertical-align: top;\n",
       "    }\n",
       "\n",
       "    .dataframe thead th {\n",
       "        text-align: right;\n",
       "    }\n",
       "</style>\n",
       "<table border=\"1\" class=\"dataframe\">\n",
       "  <thead>\n",
       "    <tr style=\"text-align: right;\">\n",
       "      <th></th>\n",
       "      <th>country</th>\n",
       "      <th>year</th>\n",
       "      <th>sex</th>\n",
       "      <th>age</th>\n",
       "      <th>suicides_no</th>\n",
       "      <th>population</th>\n",
       "      <th>suicides/100k pop</th>\n",
       "      <th>country-year</th>\n",
       "      <th>HDI for year</th>\n",
       "      <th>gdp_for_year ($)</th>\n",
       "      <th>gdp_per_capita ($)</th>\n",
       "      <th>generation</th>\n",
       "    </tr>\n",
       "  </thead>\n",
       "  <tbody>\n",
       "    <tr>\n",
       "      <th>0</th>\n",
       "      <td>Albania</td>\n",
       "      <td>1987</td>\n",
       "      <td>male</td>\n",
       "      <td>15-24 years</td>\n",
       "      <td>21</td>\n",
       "      <td>312900</td>\n",
       "      <td>6.71</td>\n",
       "      <td>Albania1987</td>\n",
       "      <td>NaN</td>\n",
       "      <td>2,156,624,900</td>\n",
       "      <td>796</td>\n",
       "      <td>Generation X</td>\n",
       "    </tr>\n",
       "    <tr>\n",
       "      <th>1</th>\n",
       "      <td>Albania</td>\n",
       "      <td>1987</td>\n",
       "      <td>male</td>\n",
       "      <td>35-54 years</td>\n",
       "      <td>16</td>\n",
       "      <td>308000</td>\n",
       "      <td>5.19</td>\n",
       "      <td>Albania1987</td>\n",
       "      <td>NaN</td>\n",
       "      <td>2,156,624,900</td>\n",
       "      <td>796</td>\n",
       "      <td>Silent</td>\n",
       "    </tr>\n",
       "    <tr>\n",
       "      <th>2</th>\n",
       "      <td>Albania</td>\n",
       "      <td>1987</td>\n",
       "      <td>female</td>\n",
       "      <td>15-24 years</td>\n",
       "      <td>14</td>\n",
       "      <td>289700</td>\n",
       "      <td>4.83</td>\n",
       "      <td>Albania1987</td>\n",
       "      <td>NaN</td>\n",
       "      <td>2,156,624,900</td>\n",
       "      <td>796</td>\n",
       "      <td>Generation X</td>\n",
       "    </tr>\n",
       "    <tr>\n",
       "      <th>3</th>\n",
       "      <td>Albania</td>\n",
       "      <td>1987</td>\n",
       "      <td>male</td>\n",
       "      <td>75+ years</td>\n",
       "      <td>1</td>\n",
       "      <td>21800</td>\n",
       "      <td>4.59</td>\n",
       "      <td>Albania1987</td>\n",
       "      <td>NaN</td>\n",
       "      <td>2,156,624,900</td>\n",
       "      <td>796</td>\n",
       "      <td>G.I. Generation</td>\n",
       "    </tr>\n",
       "    <tr>\n",
       "      <th>4</th>\n",
       "      <td>Albania</td>\n",
       "      <td>1987</td>\n",
       "      <td>male</td>\n",
       "      <td>25-34 years</td>\n",
       "      <td>9</td>\n",
       "      <td>274300</td>\n",
       "      <td>3.28</td>\n",
       "      <td>Albania1987</td>\n",
       "      <td>NaN</td>\n",
       "      <td>2,156,624,900</td>\n",
       "      <td>796</td>\n",
       "      <td>Boomers</td>\n",
       "    </tr>\n",
       "  </tbody>\n",
       "</table>\n",
       "</div>"
      ],
      "text/plain": [
       "   country  year     sex          age  suicides_no  population  \\\n",
       "0  Albania  1987    male  15-24 years           21      312900   \n",
       "1  Albania  1987    male  35-54 years           16      308000   \n",
       "2  Albania  1987  female  15-24 years           14      289700   \n",
       "3  Albania  1987    male    75+ years            1       21800   \n",
       "4  Albania  1987    male  25-34 years            9      274300   \n",
       "\n",
       "   suicides/100k pop country-year  HDI for year  gdp_for_year ($)   \\\n",
       "0               6.71  Albania1987           NaN      2,156,624,900   \n",
       "1               5.19  Albania1987           NaN      2,156,624,900   \n",
       "2               4.83  Albania1987           NaN      2,156,624,900   \n",
       "3               4.59  Albania1987           NaN      2,156,624,900   \n",
       "4               3.28  Albania1987           NaN      2,156,624,900   \n",
       "\n",
       "   gdp_per_capita ($)       generation  \n",
       "0                 796     Generation X  \n",
       "1                 796           Silent  \n",
       "2                 796     Generation X  \n",
       "3                 796  G.I. Generation  \n",
       "4                 796          Boomers  "
      ]
     },
     "execution_count": 4,
     "metadata": {},
     "output_type": "execute_result"
    }
   ],
   "source": [
    "global_suicide_data.head()\n"
   ]
  },
  {
   "cell_type": "code",
   "execution_count": 5,
   "metadata": {},
   "outputs": [
    {
     "name": "stdout",
     "output_type": "stream",
     "text": [
      "<class 'pandas.core.frame.DataFrame'>\n",
      "RangeIndex: 27820 entries, 0 to 27819\n",
      "Data columns (total 12 columns):\n",
      " #   Column              Non-Null Count  Dtype  \n",
      "---  ------              --------------  -----  \n",
      " 0   country             27820 non-null  object \n",
      " 1   year                27820 non-null  int64  \n",
      " 2   sex                 27820 non-null  object \n",
      " 3   age                 27820 non-null  object \n",
      " 4   suicides_no         27820 non-null  int64  \n",
      " 5   population          27820 non-null  int64  \n",
      " 6   suicides/100k pop   27820 non-null  float64\n",
      " 7   country-year        27820 non-null  object \n",
      " 8   HDI for year        8364 non-null   float64\n",
      " 9    gdp_for_year ($)   27820 non-null  object \n",
      " 10  gdp_per_capita ($)  27820 non-null  int64  \n",
      " 11  generation          27820 non-null  object \n",
      "dtypes: float64(2), int64(4), object(6)\n",
      "memory usage: 2.5+ MB\n"
     ]
    }
   ],
   "source": [
    "global_suicide_data.info()\n",
    "#global_suicide_data.count()"
   ]
  },
  {
   "cell_type": "code",
   "execution_count": 6,
   "metadata": {},
   "outputs": [
    {
     "data": {
      "text/plain": [
       "Index(['country', 'year', 'sex', 'age', 'suicides_no', 'population',\n",
       "       'suicides/100k pop', 'country-year', 'HDI for year',\n",
       "       ' gdp_for_year ($) ', 'gdp_per_capita ($)', 'generation'],\n",
       "      dtype='object')"
      ]
     },
     "execution_count": 6,
     "metadata": {},
     "output_type": "execute_result"
    }
   ],
   "source": [
    "global_suicide_data.columns"
   ]
  },
  {
   "cell_type": "code",
   "execution_count": 7,
   "metadata": {},
   "outputs": [],
   "source": [
    "#clean columns\n",
    "global_suicide_data=global_suicide_data.rename(columns={'country':'Country','year':'Year','sex':'Gender','age':'Age'\n",
    "                     ,'suicides_no':'SuicidesNo','population':'Population',\n",
    "                      'suicides/100k pop':'Suicides/100kPop','country-year':'Country/Year',\n",
    "                      'HDI for year':'HDIForYear',' gdp_for_year ($) ':'GdpForYear($)',\n",
    "                      'gdp_per_capita ($)':'GdpPerCapital($)','generation':'Generation'})"
   ]
  },
  {
   "cell_type": "code",
   "execution_count": 8,
   "metadata": {},
   "outputs": [
    {
     "data": {
      "text/plain": [
       "Country             False\n",
       "Year                False\n",
       "Gender              False\n",
       "Age                 False\n",
       "SuicidesNo          False\n",
       "Population          False\n",
       "Suicides/100kPop    False\n",
       "Country/Year        False\n",
       "HDIForYear           True\n",
       "GdpForYear($)       False\n",
       "GdpPerCapital($)    False\n",
       "Generation          False\n",
       "dtype: bool"
      ]
     },
     "execution_count": 8,
     "metadata": {},
     "output_type": "execute_result"
    }
   ],
   "source": [
    "#checking for null values\n",
    "global_suicide_data.isnull().any()"
   ]
  },
  {
   "cell_type": "code",
   "execution_count": 9,
   "metadata": {},
   "outputs": [
    {
     "data": {
      "text/plain": [
       "Country                 0\n",
       "Year                    0\n",
       "Gender                  0\n",
       "Age                     0\n",
       "SuicidesNo              0\n",
       "Population              0\n",
       "Suicides/100kPop        0\n",
       "Country/Year            0\n",
       "HDIForYear          19456\n",
       "GdpForYear($)           0\n",
       "GdpPerCapital($)        0\n",
       "Generation              0\n",
       "dtype: int64"
      ]
     },
     "execution_count": 9,
     "metadata": {},
     "output_type": "execute_result"
    }
   ],
   "source": [
    "#count amount of null values\n",
    "global_suicide_data.isnull().sum()"
   ]
  },
  {
   "cell_type": "code",
   "execution_count": 10,
   "metadata": {},
   "outputs": [],
   "source": [
    "global_suicide_data.drop('HDIForYear', axis=1, inplace = True)"
   ]
  },
  {
   "cell_type": "code",
   "execution_count": 11,
   "metadata": {},
   "outputs": [
    {
     "data": {
      "text/html": [
       "<div>\n",
       "<style scoped>\n",
       "    .dataframe tbody tr th:only-of-type {\n",
       "        vertical-align: middle;\n",
       "    }\n",
       "\n",
       "    .dataframe tbody tr th {\n",
       "        vertical-align: top;\n",
       "    }\n",
       "\n",
       "    .dataframe thead th {\n",
       "        text-align: right;\n",
       "    }\n",
       "</style>\n",
       "<table border=\"1\" class=\"dataframe\">\n",
       "  <thead>\n",
       "    <tr style=\"text-align: right;\">\n",
       "      <th></th>\n",
       "      <th>Country</th>\n",
       "      <th>Year</th>\n",
       "      <th>Gender</th>\n",
       "      <th>Age</th>\n",
       "      <th>SuicidesNo</th>\n",
       "      <th>Population</th>\n",
       "      <th>Suicides/100kPop</th>\n",
       "      <th>Country/Year</th>\n",
       "      <th>GdpForYear($)</th>\n",
       "      <th>GdpPerCapital($)</th>\n",
       "      <th>Generation</th>\n",
       "    </tr>\n",
       "  </thead>\n",
       "  <tbody>\n",
       "    <tr>\n",
       "      <th>0</th>\n",
       "      <td>Albania</td>\n",
       "      <td>1987</td>\n",
       "      <td>male</td>\n",
       "      <td>15-24 years</td>\n",
       "      <td>21</td>\n",
       "      <td>312900</td>\n",
       "      <td>6.71</td>\n",
       "      <td>Albania1987</td>\n",
       "      <td>2,156,624,900</td>\n",
       "      <td>796</td>\n",
       "      <td>Generation X</td>\n",
       "    </tr>\n",
       "    <tr>\n",
       "      <th>1</th>\n",
       "      <td>Albania</td>\n",
       "      <td>1987</td>\n",
       "      <td>male</td>\n",
       "      <td>35-54 years</td>\n",
       "      <td>16</td>\n",
       "      <td>308000</td>\n",
       "      <td>5.19</td>\n",
       "      <td>Albania1987</td>\n",
       "      <td>2,156,624,900</td>\n",
       "      <td>796</td>\n",
       "      <td>Silent</td>\n",
       "    </tr>\n",
       "    <tr>\n",
       "      <th>2</th>\n",
       "      <td>Albania</td>\n",
       "      <td>1987</td>\n",
       "      <td>female</td>\n",
       "      <td>15-24 years</td>\n",
       "      <td>14</td>\n",
       "      <td>289700</td>\n",
       "      <td>4.83</td>\n",
       "      <td>Albania1987</td>\n",
       "      <td>2,156,624,900</td>\n",
       "      <td>796</td>\n",
       "      <td>Generation X</td>\n",
       "    </tr>\n",
       "    <tr>\n",
       "      <th>3</th>\n",
       "      <td>Albania</td>\n",
       "      <td>1987</td>\n",
       "      <td>male</td>\n",
       "      <td>75+ years</td>\n",
       "      <td>1</td>\n",
       "      <td>21800</td>\n",
       "      <td>4.59</td>\n",
       "      <td>Albania1987</td>\n",
       "      <td>2,156,624,900</td>\n",
       "      <td>796</td>\n",
       "      <td>G.I. Generation</td>\n",
       "    </tr>\n",
       "    <tr>\n",
       "      <th>4</th>\n",
       "      <td>Albania</td>\n",
       "      <td>1987</td>\n",
       "      <td>male</td>\n",
       "      <td>25-34 years</td>\n",
       "      <td>9</td>\n",
       "      <td>274300</td>\n",
       "      <td>3.28</td>\n",
       "      <td>Albania1987</td>\n",
       "      <td>2,156,624,900</td>\n",
       "      <td>796</td>\n",
       "      <td>Boomers</td>\n",
       "    </tr>\n",
       "    <tr>\n",
       "      <th>...</th>\n",
       "      <td>...</td>\n",
       "      <td>...</td>\n",
       "      <td>...</td>\n",
       "      <td>...</td>\n",
       "      <td>...</td>\n",
       "      <td>...</td>\n",
       "      <td>...</td>\n",
       "      <td>...</td>\n",
       "      <td>...</td>\n",
       "      <td>...</td>\n",
       "      <td>...</td>\n",
       "    </tr>\n",
       "    <tr>\n",
       "      <th>27815</th>\n",
       "      <td>Uzbekistan</td>\n",
       "      <td>2014</td>\n",
       "      <td>female</td>\n",
       "      <td>35-54 years</td>\n",
       "      <td>107</td>\n",
       "      <td>3620833</td>\n",
       "      <td>2.96</td>\n",
       "      <td>Uzbekistan2014</td>\n",
       "      <td>63,067,077,179</td>\n",
       "      <td>2309</td>\n",
       "      <td>Generation X</td>\n",
       "    </tr>\n",
       "    <tr>\n",
       "      <th>27816</th>\n",
       "      <td>Uzbekistan</td>\n",
       "      <td>2014</td>\n",
       "      <td>female</td>\n",
       "      <td>75+ years</td>\n",
       "      <td>9</td>\n",
       "      <td>348465</td>\n",
       "      <td>2.58</td>\n",
       "      <td>Uzbekistan2014</td>\n",
       "      <td>63,067,077,179</td>\n",
       "      <td>2309</td>\n",
       "      <td>Silent</td>\n",
       "    </tr>\n",
       "    <tr>\n",
       "      <th>27817</th>\n",
       "      <td>Uzbekistan</td>\n",
       "      <td>2014</td>\n",
       "      <td>male</td>\n",
       "      <td>5-14 years</td>\n",
       "      <td>60</td>\n",
       "      <td>2762158</td>\n",
       "      <td>2.17</td>\n",
       "      <td>Uzbekistan2014</td>\n",
       "      <td>63,067,077,179</td>\n",
       "      <td>2309</td>\n",
       "      <td>Generation Z</td>\n",
       "    </tr>\n",
       "    <tr>\n",
       "      <th>27818</th>\n",
       "      <td>Uzbekistan</td>\n",
       "      <td>2014</td>\n",
       "      <td>female</td>\n",
       "      <td>5-14 years</td>\n",
       "      <td>44</td>\n",
       "      <td>2631600</td>\n",
       "      <td>1.67</td>\n",
       "      <td>Uzbekistan2014</td>\n",
       "      <td>63,067,077,179</td>\n",
       "      <td>2309</td>\n",
       "      <td>Generation Z</td>\n",
       "    </tr>\n",
       "    <tr>\n",
       "      <th>27819</th>\n",
       "      <td>Uzbekistan</td>\n",
       "      <td>2014</td>\n",
       "      <td>female</td>\n",
       "      <td>55-74 years</td>\n",
       "      <td>21</td>\n",
       "      <td>1438935</td>\n",
       "      <td>1.46</td>\n",
       "      <td>Uzbekistan2014</td>\n",
       "      <td>63,067,077,179</td>\n",
       "      <td>2309</td>\n",
       "      <td>Boomers</td>\n",
       "    </tr>\n",
       "  </tbody>\n",
       "</table>\n",
       "<p>27820 rows × 11 columns</p>\n",
       "</div>"
      ],
      "text/plain": [
       "          Country  Year  Gender          Age  SuicidesNo  Population  \\\n",
       "0         Albania  1987    male  15-24 years          21      312900   \n",
       "1         Albania  1987    male  35-54 years          16      308000   \n",
       "2         Albania  1987  female  15-24 years          14      289700   \n",
       "3         Albania  1987    male    75+ years           1       21800   \n",
       "4         Albania  1987    male  25-34 years           9      274300   \n",
       "...           ...   ...     ...          ...         ...         ...   \n",
       "27815  Uzbekistan  2014  female  35-54 years         107     3620833   \n",
       "27816  Uzbekistan  2014  female    75+ years           9      348465   \n",
       "27817  Uzbekistan  2014    male   5-14 years          60     2762158   \n",
       "27818  Uzbekistan  2014  female   5-14 years          44     2631600   \n",
       "27819  Uzbekistan  2014  female  55-74 years          21     1438935   \n",
       "\n",
       "       Suicides/100kPop    Country/Year   GdpForYear($)  GdpPerCapital($)  \\\n",
       "0                  6.71     Albania1987   2,156,624,900               796   \n",
       "1                  5.19     Albania1987   2,156,624,900               796   \n",
       "2                  4.83     Albania1987   2,156,624,900               796   \n",
       "3                  4.59     Albania1987   2,156,624,900               796   \n",
       "4                  3.28     Albania1987   2,156,624,900               796   \n",
       "...                 ...             ...             ...               ...   \n",
       "27815              2.96  Uzbekistan2014  63,067,077,179              2309   \n",
       "27816              2.58  Uzbekistan2014  63,067,077,179              2309   \n",
       "27817              2.17  Uzbekistan2014  63,067,077,179              2309   \n",
       "27818              1.67  Uzbekistan2014  63,067,077,179              2309   \n",
       "27819              1.46  Uzbekistan2014  63,067,077,179              2309   \n",
       "\n",
       "            Generation  \n",
       "0         Generation X  \n",
       "1               Silent  \n",
       "2         Generation X  \n",
       "3      G.I. Generation  \n",
       "4              Boomers  \n",
       "...                ...  \n",
       "27815     Generation X  \n",
       "27816           Silent  \n",
       "27817     Generation Z  \n",
       "27818     Generation Z  \n",
       "27819          Boomers  \n",
       "\n",
       "[27820 rows x 11 columns]"
      ]
     },
     "execution_count": 11,
     "metadata": {},
     "output_type": "execute_result"
    }
   ],
   "source": [
    "global_suicide_data #------- added this cell"
   ]
  },
  {
   "cell_type": "code",
   "execution_count": 12,
   "metadata": {},
   "outputs": [],
   "source": [
    "global_suicide_data.drop('Country/Year', axis=1, inplace=True)"
   ]
  },
  {
   "cell_type": "code",
   "execution_count": 15,
   "metadata": {},
   "outputs": [],
   "source": [
    "#--------------Keeping 1990-2015 based on value counts global_suicide_data2\n",
    "global_suicide_data2 = global_suicide_data.loc[(global_suicide_data.Year >= 1990) & (global_suicide_data.Year < 2016)]\n",
    "global_suicide_data = global_suicide_data[global_suicide_data.Year >= 2000]"
   ]
  },
  {
   "cell_type": "code",
   "execution_count": 17,
   "metadata": {},
   "outputs": [
    {
     "data": {
      "text/plain": [
       "2009    1068\n",
       "2001    1056\n",
       "2010    1056\n",
       "2011    1032\n",
       "2007    1032\n",
       "2002    1032\n",
       "2003    1032\n",
       "2000    1032\n",
       "2006    1020\n",
       "2008    1020\n",
       "2004    1008\n",
       "2005    1008\n",
       "2012     972\n",
       "2013     960\n",
       "2014     936\n",
       "2015     744\n",
       "2016     160\n",
       "Name: Year, dtype: int64"
      ]
     },
     "execution_count": 17,
     "metadata": {},
     "output_type": "execute_result"
    }
   ],
   "source": [
    "global_suicide_data[\"Year\"].value_counts()"
   ]
  },
  {
   "cell_type": "code",
   "execution_count": 18,
   "metadata": {},
   "outputs": [
    {
     "name": "stdout",
     "output_type": "stream",
     "text": [
      "[1992 1993 1994 1995 1996 1997 1998 1999 2000 2001 2002 2003 2004 2005\n",
      " 2006 2007 2008 2009 2010 1990 1991 2012 2013 2014 2015 2011]\n"
     ]
    }
   ],
   "source": [
    "print(global_suicide_data2['Year'].unique()) #----1990-2015"
   ]
  },
  {
   "cell_type": "code",
   "execution_count": 19,
   "metadata": {},
   "outputs": [
    {
     "data": {
      "text/plain": [
       "(16168, 10)"
      ]
     },
     "execution_count": 19,
     "metadata": {},
     "output_type": "execute_result"
    }
   ],
   "source": [
    "#here we have dropped unneeded columns, as well as filtered the data\n",
    "global_suicide_data.shape"
   ]
  },
  {
   "cell_type": "code",
   "execution_count": 20,
   "metadata": {
    "scrolled": true
   },
   "outputs": [
    {
     "data": {
      "text/html": [
       "<div>\n",
       "<style scoped>\n",
       "    .dataframe tbody tr th:only-of-type {\n",
       "        vertical-align: middle;\n",
       "    }\n",
       "\n",
       "    .dataframe tbody tr th {\n",
       "        vertical-align: top;\n",
       "    }\n",
       "\n",
       "    .dataframe thead th {\n",
       "        text-align: right;\n",
       "    }\n",
       "</style>\n",
       "<table border=\"1\" class=\"dataframe\">\n",
       "  <thead>\n",
       "    <tr style=\"text-align: right;\">\n",
       "      <th></th>\n",
       "      <th>SuicidesNo</th>\n",
       "      <th>Population</th>\n",
       "      <th>Suicides/100kPop</th>\n",
       "      <th>GdpPerCapital($)</th>\n",
       "    </tr>\n",
       "    <tr>\n",
       "      <th>Year</th>\n",
       "      <th></th>\n",
       "      <th></th>\n",
       "      <th></th>\n",
       "      <th></th>\n",
       "    </tr>\n",
       "  </thead>\n",
       "  <tbody>\n",
       "    <tr>\n",
       "      <th>2000</th>\n",
       "      <td>255832</td>\n",
       "      <td>1799227908</td>\n",
       "      <td>14387.45</td>\n",
       "      <td>12865476</td>\n",
       "    </tr>\n",
       "    <tr>\n",
       "      <th>2001</th>\n",
       "      <td>250652</td>\n",
       "      <td>1755565489</td>\n",
       "      <td>14276.21</td>\n",
       "      <td>12677892</td>\n",
       "    </tr>\n",
       "    <tr>\n",
       "      <th>2002</th>\n",
       "      <td>256095</td>\n",
       "      <td>1822152815</td>\n",
       "      <td>14227.72</td>\n",
       "      <td>13017420</td>\n",
       "    </tr>\n",
       "    <tr>\n",
       "      <th>2003</th>\n",
       "      <td>256079</td>\n",
       "      <td>1838458020</td>\n",
       "      <td>13627.58</td>\n",
       "      <td>15187104</td>\n",
       "    </tr>\n",
       "    <tr>\n",
       "      <th>2004</th>\n",
       "      <td>240861</td>\n",
       "      <td>1745246613</td>\n",
       "      <td>12581.80</td>\n",
       "      <td>17895936</td>\n",
       "    </tr>\n",
       "    <tr>\n",
       "      <th>2005</th>\n",
       "      <td>234375</td>\n",
       "      <td>1734909645</td>\n",
       "      <td>12164.99</td>\n",
       "      <td>20317212</td>\n",
       "    </tr>\n",
       "    <tr>\n",
       "      <th>2006</th>\n",
       "      <td>233361</td>\n",
       "      <td>1840908837</td>\n",
       "      <td>12166.01</td>\n",
       "      <td>21563784</td>\n",
       "    </tr>\n",
       "    <tr>\n",
       "      <th>2007</th>\n",
       "      <td>233408</td>\n",
       "      <td>1859564353</td>\n",
       "      <td>12410.15</td>\n",
       "      <td>24709620</td>\n",
       "    </tr>\n",
       "    <tr>\n",
       "      <th>2008</th>\n",
       "      <td>235447</td>\n",
       "      <td>1860620851</td>\n",
       "      <td>12145.84</td>\n",
       "      <td>26936208</td>\n",
       "    </tr>\n",
       "    <tr>\n",
       "      <th>2009</th>\n",
       "      <td>243487</td>\n",
       "      <td>1976228366</td>\n",
       "      <td>12176.04</td>\n",
       "      <td>24145248</td>\n",
       "    </tr>\n",
       "    <tr>\n",
       "      <th>2010</th>\n",
       "      <td>238702</td>\n",
       "      <td>1997297329</td>\n",
       "      <td>11843.99</td>\n",
       "      <td>25193196</td>\n",
       "    </tr>\n",
       "    <tr>\n",
       "      <th>2011</th>\n",
       "      <td>236484</td>\n",
       "      <td>1993362332</td>\n",
       "      <td>11367.84</td>\n",
       "      <td>26936148</td>\n",
       "    </tr>\n",
       "    <tr>\n",
       "      <th>2012</th>\n",
       "      <td>230160</td>\n",
       "      <td>1912812088</td>\n",
       "      <td>11101.91</td>\n",
       "      <td>26058300</td>\n",
       "    </tr>\n",
       "    <tr>\n",
       "      <th>2013</th>\n",
       "      <td>223199</td>\n",
       "      <td>1890161710</td>\n",
       "      <td>10663.64</td>\n",
       "      <td>26911368</td>\n",
       "    </tr>\n",
       "    <tr>\n",
       "      <th>2014</th>\n",
       "      <td>222984</td>\n",
       "      <td>1912057309</td>\n",
       "      <td>10306.73</td>\n",
       "      <td>25665252</td>\n",
       "    </tr>\n",
       "    <tr>\n",
       "      <th>2015</th>\n",
       "      <td>203640</td>\n",
       "      <td>1774657932</td>\n",
       "      <td>8253.99</td>\n",
       "      <td>19516008</td>\n",
       "    </tr>\n",
       "    <tr>\n",
       "      <th>2016</th>\n",
       "      <td>15603</td>\n",
       "      <td>132101896</td>\n",
       "      <td>2147.39</td>\n",
       "      <td>4106420</td>\n",
       "    </tr>\n",
       "  </tbody>\n",
       "</table>\n",
       "</div>"
      ],
      "text/plain": [
       "      SuicidesNo  Population  Suicides/100kPop  GdpPerCapital($)\n",
       "Year                                                            \n",
       "2000      255832  1799227908          14387.45          12865476\n",
       "2001      250652  1755565489          14276.21          12677892\n",
       "2002      256095  1822152815          14227.72          13017420\n",
       "2003      256079  1838458020          13627.58          15187104\n",
       "2004      240861  1745246613          12581.80          17895936\n",
       "2005      234375  1734909645          12164.99          20317212\n",
       "2006      233361  1840908837          12166.01          21563784\n",
       "2007      233408  1859564353          12410.15          24709620\n",
       "2008      235447  1860620851          12145.84          26936208\n",
       "2009      243487  1976228366          12176.04          24145248\n",
       "2010      238702  1997297329          11843.99          25193196\n",
       "2011      236484  1993362332          11367.84          26936148\n",
       "2012      230160  1912812088          11101.91          26058300\n",
       "2013      223199  1890161710          10663.64          26911368\n",
       "2014      222984  1912057309          10306.73          25665252\n",
       "2015      203640  1774657932           8253.99          19516008\n",
       "2016       15603   132101896           2147.39           4106420"
      ]
     },
     "execution_count": 20,
     "metadata": {},
     "output_type": "execute_result"
    }
   ],
   "source": [
    "#create new data frame grouped by year to check\n",
    "yearlyStats = global_suicide_data.groupby('Year').sum()\n",
    "yearlyStats"
   ]
  },
  {
   "cell_type": "code",
   "execution_count": 26,
   "metadata": {},
   "outputs": [
    {
     "data": {
      "text/html": [
       "<div>\n",
       "<style scoped>\n",
       "    .dataframe tbody tr th:only-of-type {\n",
       "        vertical-align: middle;\n",
       "    }\n",
       "\n",
       "    .dataframe tbody tr th {\n",
       "        vertical-align: top;\n",
       "    }\n",
       "\n",
       "    .dataframe thead th {\n",
       "        text-align: right;\n",
       "    }\n",
       "</style>\n",
       "<table border=\"1\" class=\"dataframe\">\n",
       "  <thead>\n",
       "    <tr style=\"text-align: right;\">\n",
       "      <th></th>\n",
       "      <th>Year</th>\n",
       "      <th>SuicidesNo</th>\n",
       "      <th>Population</th>\n",
       "      <th>Suicides/100kPop</th>\n",
       "      <th>GdpPerCapital($)</th>\n",
       "    </tr>\n",
       "    <tr>\n",
       "      <th>Country</th>\n",
       "      <th></th>\n",
       "      <th></th>\n",
       "      <th></th>\n",
       "      <th></th>\n",
       "      <th></th>\n",
       "    </tr>\n",
       "  </thead>\n",
       "  <tbody>\n",
       "    <tr>\n",
       "      <th>Albania</th>\n",
       "      <td>264660</td>\n",
       "      <td>956</td>\n",
       "      <td>30706067</td>\n",
       "      <td>446.38</td>\n",
       "      <td>388020</td>\n",
       "    </tr>\n",
       "    <tr>\n",
       "      <th>Antigua and Barbuda</th>\n",
       "      <td>337188</td>\n",
       "      <td>9</td>\n",
       "      <td>1164590</td>\n",
       "      <td>146.90</td>\n",
       "      <td>2200824</td>\n",
       "    </tr>\n",
       "    <tr>\n",
       "      <th>Argentina</th>\n",
       "      <td>385440</td>\n",
       "      <td>48927</td>\n",
       "      <td>585500629</td>\n",
       "      <td>1955.73</td>\n",
       "      <td>1780188</td>\n",
       "    </tr>\n",
       "    <tr>\n",
       "      <th>Armenia</th>\n",
       "      <td>357492</td>\n",
       "      <td>1004</td>\n",
       "      <td>43460973</td>\n",
       "      <td>557.41</td>\n",
       "      <td>499376</td>\n",
       "    </tr>\n",
       "    <tr>\n",
       "      <th>Aruba</th>\n",
       "      <td>288792</td>\n",
       "      <td>84</td>\n",
       "      <td>1104162</td>\n",
       "      <td>1172.54</td>\n",
       "      <td>3601524</td>\n",
       "    </tr>\n",
       "    <tr>\n",
       "      <th>...</th>\n",
       "      <td>...</td>\n",
       "      <td>...</td>\n",
       "      <td>...</td>\n",
       "      <td>...</td>\n",
       "      <td>...</td>\n",
       "    </tr>\n",
       "    <tr>\n",
       "      <th>United Arab Emirates</th>\n",
       "      <td>144540</td>\n",
       "      <td>622</td>\n",
       "      <td>36502275</td>\n",
       "      <td>94.89</td>\n",
       "      <td>3035664</td>\n",
       "    </tr>\n",
       "    <tr>\n",
       "      <th>United Kingdom</th>\n",
       "      <td>385440</td>\n",
       "      <td>68815</td>\n",
       "      <td>925960697</td>\n",
       "      <td>1299.77</td>\n",
       "      <td>8146224</td>\n",
       "    </tr>\n",
       "    <tr>\n",
       "      <th>United States</th>\n",
       "      <td>385440</td>\n",
       "      <td>575514</td>\n",
       "      <td>4508454430</td>\n",
       "      <td>2485.52</td>\n",
       "      <td>9537960</td>\n",
       "    </tr>\n",
       "    <tr>\n",
       "      <th>Uruguay</th>\n",
       "      <td>361308</td>\n",
       "      <td>8333</td>\n",
       "      <td>46571743</td>\n",
       "      <td>3877.36</td>\n",
       "      <td>1784772</td>\n",
       "    </tr>\n",
       "    <tr>\n",
       "      <th>Uzbekistan</th>\n",
       "      <td>289008</td>\n",
       "      <td>19680</td>\n",
       "      <td>293989116</td>\n",
       "      <td>982.16</td>\n",
       "      <td>170292</td>\n",
       "    </tr>\n",
       "  </tbody>\n",
       "</table>\n",
       "<p>98 rows × 5 columns</p>\n",
       "</div>"
      ],
      "text/plain": [
       "                        Year  SuicidesNo  Population  Suicides/100kPop  \\\n",
       "Country                                                                  \n",
       "Albania               264660         956    30706067            446.38   \n",
       "Antigua and Barbuda   337188           9     1164590            146.90   \n",
       "Argentina             385440       48927   585500629           1955.73   \n",
       "Armenia               357492        1004    43460973            557.41   \n",
       "Aruba                 288792          84     1104162           1172.54   \n",
       "...                      ...         ...         ...               ...   \n",
       "United Arab Emirates  144540         622    36502275             94.89   \n",
       "United Kingdom        385440       68815   925960697           1299.77   \n",
       "United States         385440      575514  4508454430           2485.52   \n",
       "Uruguay               361308        8333    46571743           3877.36   \n",
       "Uzbekistan            289008       19680   293989116            982.16   \n",
       "\n",
       "                      GdpPerCapital($)  \n",
       "Country                                 \n",
       "Albania                         388020  \n",
       "Antigua and Barbuda            2200824  \n",
       "Argentina                      1780188  \n",
       "Armenia                         499376  \n",
       "Aruba                          3601524  \n",
       "...                                ...  \n",
       "United Arab Emirates           3035664  \n",
       "United Kingdom                 8146224  \n",
       "United States                  9537960  \n",
       "Uruguay                        1784772  \n",
       "Uzbekistan                      170292  \n",
       "\n",
       "[98 rows x 5 columns]"
      ]
     },
     "execution_count": 26,
     "metadata": {},
     "output_type": "execute_result"
    }
   ],
   "source": [
    "#Checking countries for bad values\n",
    "countryStats = global_suicide_data.groupby('Country').sum()\n",
    "countryStats.to_csv('CountryNumbers.csv')\n",
    "countryStats"
   ]
  },
  {
   "cell_type": "code",
   "execution_count": 22,
   "metadata": {},
   "outputs": [
    {
     "data": {
      "text/plain": [
       "array(['Albania', 'Antigua and Barbuda', 'Argentina', 'Armenia', 'Aruba',\n",
       "       'Australia', 'Austria', 'Azerbaijan', 'Bahamas', 'Bahrain',\n",
       "       'Barbados', 'Belarus', 'Belgium', 'Belize',\n",
       "       'Bosnia and Herzegovina', 'Brazil', 'Bulgaria', 'Cabo Verde',\n",
       "       'Canada', 'Chile', 'Colombia', 'Costa Rica', 'Croatia', 'Cuba',\n",
       "       'Cyprus', 'Czech Republic', 'Denmark', 'Ecuador', 'El Salvador',\n",
       "       'Estonia', 'Fiji', 'Finland', 'France', 'Georgia', 'Germany',\n",
       "       'Greece', 'Grenada', 'Guatemala', 'Guyana', 'Hungary', 'Iceland',\n",
       "       'Ireland', 'Israel', 'Italy', 'Jamaica', 'Japan', 'Kazakhstan',\n",
       "       'Kiribati', 'Kuwait', 'Kyrgyzstan', 'Latvia', 'Lithuania',\n",
       "       'Luxembourg', 'Maldives', 'Malta', 'Mauritius', 'Mexico',\n",
       "       'Mongolia', 'Montenegro', 'Netherlands', 'New Zealand',\n",
       "       'Nicaragua', 'Norway', 'Oman', 'Panama', 'Paraguay', 'Philippines',\n",
       "       'Poland', 'Portugal', 'Puerto Rico', 'Qatar', 'Republic of Korea',\n",
       "       'Romania', 'Russian Federation', 'Saint Lucia',\n",
       "       'Saint Vincent and Grenadines', 'San Marino', 'Serbia',\n",
       "       'Seychelles', 'Singapore', 'Slovakia', 'Slovenia', 'South Africa',\n",
       "       'Spain', 'Sri Lanka', 'Suriname', 'Sweden', 'Switzerland',\n",
       "       'Thailand', 'Trinidad and Tobago', 'Turkey', 'Turkmenistan',\n",
       "       'Ukraine', 'United Arab Emirates', 'United Kingdom',\n",
       "       'United States', 'Uruguay', 'Uzbekistan'], dtype=object)"
      ]
     },
     "execution_count": 22,
     "metadata": {},
     "output_type": "execute_result"
    }
   ],
   "source": [
    "global_suicide_data['Country'].unique() #---- added cell to double check names of countries below"
   ]
  },
  {
   "cell_type": "code",
   "execution_count": 31,
   "metadata": {},
   "outputs": [],
   "source": [
    "#dropping countries with bad data --- how was this decided??\n",
    "country_1 = global_suicide_data['Country'] != 'Antigua and Barbuda' #-----changed the name to match above\n",
    "country_2 = global_suicide_data['Country'] != 'Barbados'\n",
    "country_3 = global_suicide_data['Country'] != 'Grenada'\n",
    "country_4 = global_suicide_data['Country'] != 'Maldives'\n",
    "country_5 = global_suicide_data['Country'] != 'Montenegro'\n",
    "country_6 = global_suicide_data['Country'] != 'Saint Vincent'\n",
    "\n",
    "countryStats = countryStats[countryStats['SuicidesNo'] > 40] #----trying something: instead of above, we can drop the \n",
    "#suicide no. < 40 (or whatever number) - might be easier anyway. I found other countries than the one listed above\n",
    "#with lower numbers and Montenegro has a number in the 80's i believe.\n",
    "\n",
    "#countryStats.to_csv('CleanCountryStats')\n",
    "\n",
    "countryStats #----dropped all suicide no. < 40 - if we want to go this route, we should only need to change a few things\n",
    "#below\n",
    "\n",
    "country_all = country_1 | country_2 | country_3 | country_4 | country_5 | country_6\n",
    "global_suicide_data= global_suicide_data[country_all]"
   ]
  },
  {
   "cell_type": "code",
   "execution_count": 32,
   "metadata": {},
   "outputs": [],
   "source": [
    "#removing 2016 due to being incomplete\n",
    "global_suicide_data = global_suicide_data[global_suicide_data.Year != 2016]"
   ]
  },
  {
   "cell_type": "code",
   "execution_count": 33,
   "metadata": {},
   "outputs": [
    {
     "data": {
      "text/plain": [
       "(16008, 10)"
      ]
     },
     "execution_count": 33,
     "metadata": {},
     "output_type": "execute_result"
    }
   ],
   "source": [
    "global_suicide_data.shape"
   ]
  },
  {
   "cell_type": "code",
   "execution_count": 34,
   "metadata": {},
   "outputs": [
    {
     "data": {
      "text/html": [
       "<div>\n",
       "<style scoped>\n",
       "    .dataframe tbody tr th:only-of-type {\n",
       "        vertical-align: middle;\n",
       "    }\n",
       "\n",
       "    .dataframe tbody tr th {\n",
       "        vertical-align: top;\n",
       "    }\n",
       "\n",
       "    .dataframe thead th {\n",
       "        text-align: right;\n",
       "    }\n",
       "</style>\n",
       "<table border=\"1\" class=\"dataframe\">\n",
       "  <thead>\n",
       "    <tr style=\"text-align: right;\">\n",
       "      <th></th>\n",
       "      <th>Country</th>\n",
       "      <th>Year</th>\n",
       "      <th>Gender</th>\n",
       "      <th>Age</th>\n",
       "      <th>SuicidesNo</th>\n",
       "      <th>Population</th>\n",
       "      <th>Suicides/100kPop</th>\n",
       "      <th>GdpForYear($)</th>\n",
       "      <th>GdpPerCapital($)</th>\n",
       "      <th>Generation</th>\n",
       "    </tr>\n",
       "  </thead>\n",
       "  <tbody>\n",
       "    <tr>\n",
       "      <th>17680</th>\n",
       "      <td>New Zealand</td>\n",
       "      <td>2004</td>\n",
       "      <td>male</td>\n",
       "      <td>55-74 years</td>\n",
       "      <td>58</td>\n",
       "      <td>325010</td>\n",
       "      <td>17.85</td>\n",
       "      <td>103,904,537,815</td>\n",
       "      <td>27325</td>\n",
       "      <td>Silent</td>\n",
       "    </tr>\n",
       "    <tr>\n",
       "      <th>27761</th>\n",
       "      <td>Uzbekistan</td>\n",
       "      <td>2010</td>\n",
       "      <td>male</td>\n",
       "      <td>25-34 years</td>\n",
       "      <td>235</td>\n",
       "      <td>2375259</td>\n",
       "      <td>9.89</td>\n",
       "      <td>39,332,770,929</td>\n",
       "      <td>1533</td>\n",
       "      <td>Generation X</td>\n",
       "    </tr>\n",
       "    <tr>\n",
       "      <th>7915</th>\n",
       "      <td>Ecuador</td>\n",
       "      <td>2003</td>\n",
       "      <td>male</td>\n",
       "      <td>75+ years</td>\n",
       "      <td>11</td>\n",
       "      <td>125204</td>\n",
       "      <td>8.79</td>\n",
       "      <td>32,432,858,000</td>\n",
       "      <td>2755</td>\n",
       "      <td>Silent</td>\n",
       "    </tr>\n",
       "    <tr>\n",
       "      <th>25663</th>\n",
       "      <td>Turkey</td>\n",
       "      <td>2011</td>\n",
       "      <td>male</td>\n",
       "      <td>25-34 years</td>\n",
       "      <td>180</td>\n",
       "      <td>6458549</td>\n",
       "      <td>2.79</td>\n",
       "      <td>832,523,681,194</td>\n",
       "      <td>12237</td>\n",
       "      <td>Millenials</td>\n",
       "    </tr>\n",
       "    <tr>\n",
       "      <th>24585</th>\n",
       "      <td>Sweden</td>\n",
       "      <td>2005</td>\n",
       "      <td>male</td>\n",
       "      <td>55-74 years</td>\n",
       "      <td>253</td>\n",
       "      <td>962782</td>\n",
       "      <td>26.28</td>\n",
       "      <td>389,042,298,377</td>\n",
       "      <td>45563</td>\n",
       "      <td>Silent</td>\n",
       "    </tr>\n",
       "    <tr>\n",
       "      <th>8946</th>\n",
       "      <td>Finland</td>\n",
       "      <td>2004</td>\n",
       "      <td>male</td>\n",
       "      <td>15-24 years</td>\n",
       "      <td>110</td>\n",
       "      <td>332773</td>\n",
       "      <td>33.06</td>\n",
       "      <td>196,768,065,557</td>\n",
       "      <td>39793</td>\n",
       "      <td>Millenials</td>\n",
       "    </tr>\n",
       "    <tr>\n",
       "      <th>27100</th>\n",
       "      <td>United States</td>\n",
       "      <td>2006</td>\n",
       "      <td>male</td>\n",
       "      <td>75+ years</td>\n",
       "      <td>2494</td>\n",
       "      <td>6986609</td>\n",
       "      <td>35.70</td>\n",
       "      <td>13,855,888,000,000</td>\n",
       "      <td>49666</td>\n",
       "      <td>Silent</td>\n",
       "    </tr>\n",
       "    <tr>\n",
       "      <th>9065</th>\n",
       "      <td>Finland</td>\n",
       "      <td>2014</td>\n",
       "      <td>male</td>\n",
       "      <td>55-74 years</td>\n",
       "      <td>157</td>\n",
       "      <td>654576</td>\n",
       "      <td>23.98</td>\n",
       "      <td>272,609,288,690</td>\n",
       "      <td>52832</td>\n",
       "      <td>Boomers</td>\n",
       "    </tr>\n",
       "    <tr>\n",
       "      <th>24957</th>\n",
       "      <td>Switzerland</td>\n",
       "      <td>2014</td>\n",
       "      <td>male</td>\n",
       "      <td>25-34 years</td>\n",
       "      <td>68</td>\n",
       "      <td>572530</td>\n",
       "      <td>11.88</td>\n",
       "      <td>709,182,559,935</td>\n",
       "      <td>90809</td>\n",
       "      <td>Millenials</td>\n",
       "    </tr>\n",
       "    <tr>\n",
       "      <th>11331</th>\n",
       "      <td>Guyana</td>\n",
       "      <td>2011</td>\n",
       "      <td>male</td>\n",
       "      <td>15-24 years</td>\n",
       "      <td>31</td>\n",
       "      <td>71216</td>\n",
       "      <td>43.53</td>\n",
       "      <td>2,576,024,116</td>\n",
       "      <td>3815</td>\n",
       "      <td>Millenials</td>\n",
       "    </tr>\n",
       "  </tbody>\n",
       "</table>\n",
       "</div>"
      ],
      "text/plain": [
       "             Country  Year Gender          Age  SuicidesNo  Population  \\\n",
       "17680    New Zealand  2004   male  55-74 years          58      325010   \n",
       "27761     Uzbekistan  2010   male  25-34 years         235     2375259   \n",
       "7915         Ecuador  2003   male    75+ years          11      125204   \n",
       "25663         Turkey  2011   male  25-34 years         180     6458549   \n",
       "24585         Sweden  2005   male  55-74 years         253      962782   \n",
       "8946         Finland  2004   male  15-24 years         110      332773   \n",
       "27100  United States  2006   male    75+ years        2494     6986609   \n",
       "9065         Finland  2014   male  55-74 years         157      654576   \n",
       "24957    Switzerland  2014   male  25-34 years          68      572530   \n",
       "11331         Guyana  2011   male  15-24 years          31       71216   \n",
       "\n",
       "       Suicides/100kPop       GdpForYear($)  GdpPerCapital($)    Generation  \n",
       "17680             17.85     103,904,537,815             27325        Silent  \n",
       "27761              9.89      39,332,770,929              1533  Generation X  \n",
       "7915               8.79      32,432,858,000              2755        Silent  \n",
       "25663              2.79     832,523,681,194             12237    Millenials  \n",
       "24585             26.28     389,042,298,377             45563        Silent  \n",
       "8946              33.06     196,768,065,557             39793    Millenials  \n",
       "27100             35.70  13,855,888,000,000             49666        Silent  \n",
       "9065              23.98     272,609,288,690             52832       Boomers  \n",
       "24957             11.88     709,182,559,935             90809    Millenials  \n",
       "11331             43.53       2,576,024,116              3815    Millenials  "
      ]
     },
     "execution_count": 34,
     "metadata": {},
     "output_type": "execute_result"
    }
   ],
   "source": [
    "global_suicide_data.sample(10)"
   ]
  },
  {
   "cell_type": "code",
   "execution_count": 35,
   "metadata": {},
   "outputs": [
    {
     "data": {
      "text/plain": [
       "array(['Albania', 'Antigua and Barbuda', 'Argentina', 'Armenia', 'Aruba',\n",
       "       'Australia', 'Austria', 'Azerbaijan', 'Bahamas', 'Bahrain',\n",
       "       'Barbados', 'Belarus', 'Belgium', 'Belize',\n",
       "       'Bosnia and Herzegovina', 'Brazil', 'Bulgaria', 'Cabo Verde',\n",
       "       'Canada', 'Chile', 'Colombia', 'Costa Rica', 'Croatia', 'Cuba',\n",
       "       'Cyprus', 'Czech Republic', 'Denmark', 'Ecuador', 'El Salvador',\n",
       "       'Estonia', 'Fiji', 'Finland', 'France', 'Georgia', 'Germany',\n",
       "       'Greece', 'Grenada', 'Guatemala', 'Guyana', 'Hungary', 'Iceland',\n",
       "       'Ireland', 'Israel', 'Italy', 'Jamaica', 'Japan', 'Kazakhstan',\n",
       "       'Kiribati', 'Kuwait', 'Kyrgyzstan', 'Latvia', 'Lithuania',\n",
       "       'Luxembourg', 'Maldives', 'Malta', 'Mauritius', 'Mexico',\n",
       "       'Montenegro', 'Netherlands', 'New Zealand', 'Nicaragua', 'Norway',\n",
       "       'Oman', 'Panama', 'Paraguay', 'Philippines', 'Poland', 'Portugal',\n",
       "       'Puerto Rico', 'Qatar', 'Republic of Korea', 'Romania',\n",
       "       'Russian Federation', 'Saint Lucia',\n",
       "       'Saint Vincent and Grenadines', 'San Marino', 'Serbia',\n",
       "       'Seychelles', 'Singapore', 'Slovakia', 'Slovenia', 'South Africa',\n",
       "       'Spain', 'Sri Lanka', 'Suriname', 'Sweden', 'Switzerland',\n",
       "       'Thailand', 'Trinidad and Tobago', 'Turkey', 'Turkmenistan',\n",
       "       'Ukraine', 'United Arab Emirates', 'United Kingdom',\n",
       "       'United States', 'Uruguay', 'Uzbekistan'], dtype=object)"
      ]
     },
     "execution_count": 35,
     "metadata": {},
     "output_type": "execute_result"
    }
   ],
   "source": [
    "global_suicide_data.Country.unique()"
   ]
  },
  {
   "cell_type": "code",
   "execution_count": 36,
   "metadata": {},
   "outputs": [],
   "source": [
    "#create lists of countries per continent\n",
    "europe = ['Albania', 'Austria', 'Azerbaijan', 'Belarus', 'Belgium', 'Bosnia and Herzegovina', 'Bulgaria', 'Croatia', 'Cyprus', 'Czech Republic', 'Denmark', 'Estonia', 'Finland', 'France', 'Georgia', 'Germany', 'Greece', 'Hungary', 'Iceland', 'Ireland', 'Italy', 'Latvia', 'Lithuania', 'Luxembourg', 'Malta', 'Montenegro', 'Netherlands', 'Norway', 'Poland', 'Portugal', 'Romania', 'Russian Federation', 'San Marino', 'Serbia', 'Slovakia', 'Slovenia', 'Spain', 'Sweden', 'Switzerland', 'Ukraine', 'United Kingdom'] \n",
    "asia = ['Armenia', 'Bahrain', 'Israel', 'Japan', 'Kazakhstan', 'Kuwait', 'Kyrgyzstan', 'Macau', 'Maldives', 'Mongolia', 'Oman', 'Philippines', 'Qatar', 'Republic of Korea', 'Singapore', 'Sri Lanka', 'Thailand', 'Turkey', 'Turkmenistan', 'United Arab Emirates', 'Uzbekistan']\n",
    "northamerica = ['Antigua and Barbuda', 'Bahamas', 'Barbados', 'Belize', 'Canada', 'Costa Rica', 'Cuba', 'Dominica', 'El Salvador', 'Grenada', 'Guatemala', 'Jamaica', 'Mexico', 'Nicaragua', 'Panama', 'Puerto Rico', 'Saint Kitts and Nevis', 'Saint Lucia', 'Saint Vincent and Grenadines', 'United States']\n",
    "southamerica =  ['Argentina', 'Aruba', 'Brazil', 'Chile', 'Colombia', 'Ecuador', 'Guyana', 'Paraguay', 'Suriname', 'Trinidad and Tobago', 'Uruguay']\n",
    "africa = ['Cabo Verde', 'Mauritius', 'Seychelles', 'South Africa'] \n",
    "australiaoceania = ['Australia', 'Fiji', 'Kiribati', 'New Zealand']"
   ]
  },
  {
   "cell_type": "code",
   "execution_count": 37,
   "metadata": {},
   "outputs": [],
   "source": [
    "#move these to a dictionary of continents\n",
    "continents = {country: 'Asia' for country in asia}\n",
    "continents.update({country: 'Europe' for country in europe})\n",
    "continents.update({country: 'Africa' for country in africa})\n",
    "continents.update({country: 'North_America' for country in northamerica})\n",
    "continents.update({country: 'South_America' for country in southamerica})\n",
    "continents.update({country: 'Australia_Oceania' for country in australiaoceania})"
   ]
  },
  {
   "cell_type": "code",
   "execution_count": 38,
   "metadata": {},
   "outputs": [
    {
     "data": {
      "text/plain": [
       "array(['Albania', 'Antigua and Barbuda', 'Argentina', 'Armenia', 'Aruba',\n",
       "       'Australia', 'Austria', 'Azerbaijan', 'Bahamas', 'Bahrain',\n",
       "       'Barbados', 'Belarus', 'Belgium', 'Belize',\n",
       "       'Bosnia and Herzegovina', 'Brazil', 'Bulgaria', 'Cabo Verde',\n",
       "       'Canada', 'Chile', 'Colombia', 'Costa Rica', 'Croatia', 'Cuba',\n",
       "       'Cyprus', 'Czech Republic', 'Denmark', 'Ecuador', 'El Salvador',\n",
       "       'Estonia', 'Fiji', 'Finland', 'France', 'Georgia', 'Germany',\n",
       "       'Greece', 'Grenada', 'Guatemala', 'Guyana', 'Hungary', 'Iceland',\n",
       "       'Ireland', 'Israel', 'Italy', 'Jamaica', 'Japan', 'Kazakhstan',\n",
       "       'Kiribati', 'Kuwait', 'Kyrgyzstan', 'Latvia', 'Lithuania',\n",
       "       'Luxembourg', 'Maldives', 'Malta', 'Mauritius', 'Mexico',\n",
       "       'Montenegro', 'Netherlands', 'New Zealand', 'Nicaragua', 'Norway',\n",
       "       'Oman', 'Panama', 'Paraguay', 'Philippines', 'Poland', 'Portugal',\n",
       "       'Puerto Rico', 'Qatar', 'Republic of Korea', 'Romania',\n",
       "       'Russian Federation', 'Saint Lucia',\n",
       "       'Saint Vincent and Grenadines', 'San Marino', 'Serbia',\n",
       "       'Seychelles', 'Singapore', 'Slovakia', 'Slovenia', 'South Africa',\n",
       "       'Spain', 'Sri Lanka', 'Suriname', 'Sweden', 'Switzerland',\n",
       "       'Thailand', 'Trinidad and Tobago', 'Turkey', 'Turkmenistan',\n",
       "       'Ukraine', 'United Arab Emirates', 'United Kingdom',\n",
       "       'United States', 'Uruguay', 'Uzbekistan'], dtype=object)"
      ]
     },
     "execution_count": 38,
     "metadata": {},
     "output_type": "execute_result"
    }
   ],
   "source": [
    "global_suicide_data.Country.unique()"
   ]
  },
  {
   "cell_type": "code",
   "execution_count": 39,
   "metadata": {},
   "outputs": [],
   "source": [
    "#map continents to countries\n",
    "global_suicide_data['Continent'] = global_suicide_data['Country'].map(continents)"
   ]
  },
  {
   "cell_type": "code",
   "execution_count": 40,
   "metadata": {},
   "outputs": [
    {
     "data": {
      "text/plain": [
       "(16008, 11)"
      ]
     },
     "execution_count": 40,
     "metadata": {},
     "output_type": "execute_result"
    }
   ],
   "source": [
    "global_suicide_data.shape"
   ]
  },
  {
   "cell_type": "code",
   "execution_count": 41,
   "metadata": {},
   "outputs": [
    {
     "data": {
      "text/plain": [
       "Year\n",
       "2000    255832\n",
       "2001    250652\n",
       "2002    256095\n",
       "2003    256079\n",
       "2004    240861\n",
       "2005    234375\n",
       "2006    233361\n",
       "2007    233408\n",
       "2008    235447\n",
       "2009    243487\n",
       "2010    238702\n",
       "2011    236484\n",
       "2012    230160\n",
       "2013    223199\n",
       "2014    222984\n",
       "2015    203640\n",
       "Name: SuicidesNo, dtype: int64"
      ]
     },
     "execution_count": 41,
     "metadata": {},
     "output_type": "execute_result"
    }
   ],
   "source": [
    "data_per_year = global_suicide_data.groupby('Year').sum()\n",
    "data_per_year['SuicidesNo']"
   ]
  },
  {
   "cell_type": "code",
   "execution_count": 42,
   "metadata": {},
   "outputs": [],
   "source": [
    "plt.rcParams['figure.figsize'] = [12, 8]\n",
    "plt.close()"
   ]
  },
  {
   "cell_type": "code",
   "execution_count": 43,
   "metadata": {},
   "outputs": [
    {
     "data": {
      "image/png": "[encoded data removed]",
      "text/plain": [
       "<Figure size 432x72 with 1 Axes>"
      ]
     },
     "metadata": {},
     "output_type": "display_data"
    }
   ],
   "source": [
    "flatui = [\"#6cdae7\", \"#fd3a4a\", \"#ffaa1d\", \"#ff23e5\", \"#34495e\", \"#2ecc71\"]\n",
    "sns.set_palette(flatui)\n",
    "sns.palplot(sns.color_palette())"
   ]
  },
  {
   "cell_type": "code",
   "execution_count": 47,
   "metadata": {},
   "outputs": [
    {
     "data": {
      "image/png": "[encoded data removed]",
      "text/plain": [
       "<Figure size 576x432 with 1 Axes>"
      ]
     },
     "metadata": {},
     "output_type": "display_data"
    }
   ],
   "source": [
    "#----adding to observe overall trends from 1990-2015\n",
    "curr = global_suicide_data2.dropna().groupby(['Year']).sum().reset_index()\n",
    "curr['per_100k'] = curr['Suicides/100kPop']\n",
    "plt.figure(figsize = (8,6))\n",
    "plt.plot(curr['Year'], curr['per_100k'], label = \"Suicide Rate\")\n",
    "plt.plot(curr['Year'], [curr['per_100k'].mean()] * len(curr), '--', label = \"Mean\")\n",
    "plt.title(\"Global Suicide Rate from 1990 to 2015\", fontsize = 16)\n",
    "plt.xlabel(\"Year\", fontsize = 14)\n",
    "plt.ylabel(\"Total Suicides\", fontsize = 14)\n",
    "plt.legend()\n",
    "plt.show()"
   ]
  },
  {
   "cell_type": "code",
   "execution_count": 73,
   "metadata": {},
   "outputs": [
    {
     "data": {
      "image/png": "[encoded data removed]",
      "text/plain": [
       "<Figure size 576x432 with 1 Axes>"
      ]
     },
     "metadata": {},
     "output_type": "display_data"
    }
   ],
   "source": [
    "curr = global_suicide_data.dropna().groupby(['Year']).sum().reset_index()\n",
    "curr['per_100k'] = curr['SuicidesNo'] * 100000 / curr['Population'] #--- isn't there a column for this in the dataframe?\n",
    "plt.figure(figsize = (8,6))\n",
    "plt.plot(curr['Year'], curr['per_100k'], label = \"Suicide Rate\")\n",
    "plt.plot(curr['Year'], [curr['per_100k'].mean()] * len(curr), '--', label = \"Mean\")\n",
    "plt.title(\"Global Suicide Rate from 2000 to 2015\", fontsize = 16) #-----adjusted year\n",
    "plt.xlabel(\"Year\", fontsize = 14)\n",
    "plt.ylabel(\"Suicide Rate per 100,000\", fontsize = 14)\n",
    "plt.legend()\n",
    "plt.savefig('Graphs/GlobalSuicideRate.png') #----saving image\n",
    "plt.show()"
   ]
  },
  {
   "cell_type": "code",
   "execution_count": 50,
   "metadata": {},
   "outputs": [
    {
     "data": {
      "text/html": [
       "<div>\n",
       "<style scoped>\n",
       "    .dataframe tbody tr th:only-of-type {\n",
       "        vertical-align: middle;\n",
       "    }\n",
       "\n",
       "    .dataframe tbody tr th {\n",
       "        vertical-align: top;\n",
       "    }\n",
       "\n",
       "    .dataframe thead th {\n",
       "        text-align: right;\n",
       "    }\n",
       "</style>\n",
       "<table border=\"1\" class=\"dataframe\">\n",
       "  <thead>\n",
       "    <tr style=\"text-align: right;\">\n",
       "      <th></th>\n",
       "      <th>Year</th>\n",
       "      <th>SuicidesNo</th>\n",
       "      <th>Population</th>\n",
       "      <th>Suicides/100kPop</th>\n",
       "      <th>GdpPerCapital($)</th>\n",
       "    </tr>\n",
       "    <tr>\n",
       "      <th>Continent</th>\n",
       "      <th></th>\n",
       "      <th></th>\n",
       "      <th></th>\n",
       "      <th></th>\n",
       "      <th></th>\n",
       "    </tr>\n",
       "  </thead>\n",
       "  <tbody>\n",
       "    <tr>\n",
       "      <th>Africa</th>\n",
       "      <td>2007.729167</td>\n",
       "      <td>14.770833</td>\n",
       "      <td>1.280232e+06</td>\n",
       "      <td>6.163090</td>\n",
       "      <td>8369.833333</td>\n",
       "    </tr>\n",
       "    <tr>\n",
       "      <th>Asia</th>\n",
       "      <td>2007.430380</td>\n",
       "      <td>307.735584</td>\n",
       "      <td>2.075328e+06</td>\n",
       "      <td>10.571902</td>\n",
       "      <td>20760.978903</td>\n",
       "    </tr>\n",
       "    <tr>\n",
       "      <th>Australia_Oceania</th>\n",
       "      <td>2006.547619</td>\n",
       "      <td>86.882937</td>\n",
       "      <td>7.198890e+05</td>\n",
       "      <td>9.840972</td>\n",
       "      <td>27726.380952</td>\n",
       "    </tr>\n",
       "    <tr>\n",
       "      <th>Europe</th>\n",
       "      <td>2007.324232</td>\n",
       "      <td>259.448379</td>\n",
       "      <td>1.537148e+06</td>\n",
       "      <td>15.605151</td>\n",
       "      <td>28637.912969</td>\n",
       "    </tr>\n",
       "    <tr>\n",
       "      <th>North_America</th>\n",
       "      <td>2007.281853</td>\n",
       "      <td>242.648970</td>\n",
       "      <td>2.333570e+06</td>\n",
       "      <td>6.508729</td>\n",
       "      <td>14040.142857</td>\n",
       "    </tr>\n",
       "    <tr>\n",
       "      <th>South_America</th>\n",
       "      <td>2007.049383</td>\n",
       "      <td>148.495370</td>\n",
       "      <td>2.391359e+06</td>\n",
       "      <td>12.942932</td>\n",
       "      <td>8610.216049</td>\n",
       "    </tr>\n",
       "  </tbody>\n",
       "</table>\n",
       "</div>"
      ],
      "text/plain": [
       "                          Year  SuicidesNo    Population  Suicides/100kPop  \\\n",
       "Continent                                                                    \n",
       "Africa             2007.729167   14.770833  1.280232e+06          6.163090   \n",
       "Asia               2007.430380  307.735584  2.075328e+06         10.571902   \n",
       "Australia_Oceania  2006.547619   86.882937  7.198890e+05          9.840972   \n",
       "Europe             2007.324232  259.448379  1.537148e+06         15.605151   \n",
       "North_America      2007.281853  242.648970  2.333570e+06          6.508729   \n",
       "South_America      2007.049383  148.495370  2.391359e+06         12.942932   \n",
       "\n",
       "                   GdpPerCapital($)  \n",
       "Continent                            \n",
       "Africa                  8369.833333  \n",
       "Asia                   20760.978903  \n",
       "Australia_Oceania      27726.380952  \n",
       "Europe                 28637.912969  \n",
       "North_America          14040.142857  \n",
       "South_America           8610.216049  "
      ]
     },
     "execution_count": 50,
     "metadata": {},
     "output_type": "execute_result"
    }
   ],
   "source": [
    "#group data by continent\n",
    "data_per_continent = global_suicide_data.groupby('Continent').mean()\n",
    "data_per_continent"
   ]
  },
  {
   "cell_type": "code",
   "execution_count": 69,
   "metadata": {},
   "outputs": [
    {
     "data": {
      "image/png": "[encoded data removed]",
      "text/plain": [
       "<Figure size 1080x720 with 1 Axes>"
      ]
     },
     "metadata": {},
     "output_type": "display_data"
    }
   ],
   "source": [
    "#plot mean suicides/year by continent\n",
    "ax = data_per_continent['Suicides/100kPop'].plot(kind='bar', figsize=(15, 10), fontsize=14)\n",
    "plt.title('Mean Suicides/Year by Continent', fontsize = 22)\n",
    "#ax.set_xlabel(\"Continent\", fontsize=20) #---- do we need this?? legend instead???\n",
    "ax.set_xlabel('') #---- added this\n",
    "plt.xticks(rotation=45) #---- added this\n",
    "ax.set_ylabel(\"Suicides/100k Population\", fontsize=20)\n",
    "plt.legend(['Continent'], prop={'size':15})\n",
    "plt.show()"
   ]
  },
  {
   "cell_type": "code",
   "execution_count": 71,
   "metadata": {},
   "outputs": [
    {
     "data": {
      "text/html": [
       "<div>\n",
       "<style scoped>\n",
       "    .dataframe tbody tr th:only-of-type {\n",
       "        vertical-align: middle;\n",
       "    }\n",
       "\n",
       "    .dataframe tbody tr th {\n",
       "        vertical-align: top;\n",
       "    }\n",
       "\n",
       "    .dataframe thead th {\n",
       "        text-align: right;\n",
       "    }\n",
       "</style>\n",
       "<table border=\"1\" class=\"dataframe\">\n",
       "  <thead>\n",
       "    <tr style=\"text-align: right;\">\n",
       "      <th></th>\n",
       "      <th>Continent</th>\n",
       "      <th>Year</th>\n",
       "      <th>Suicides/100kPop</th>\n",
       "    </tr>\n",
       "  </thead>\n",
       "  <tbody>\n",
       "    <tr>\n",
       "      <th>132</th>\n",
       "      <td>Europe</td>\n",
       "      <td>2000</td>\n",
       "      <td>7.33</td>\n",
       "    </tr>\n",
       "    <tr>\n",
       "      <th>133</th>\n",
       "      <td>Europe</td>\n",
       "      <td>2000</td>\n",
       "      <td>5.64</td>\n",
       "    </tr>\n",
       "    <tr>\n",
       "      <th>134</th>\n",
       "      <td>Europe</td>\n",
       "      <td>2000</td>\n",
       "      <td>5.29</td>\n",
       "    </tr>\n",
       "    <tr>\n",
       "      <th>135</th>\n",
       "      <td>Europe</td>\n",
       "      <td>2000</td>\n",
       "      <td>4.02</td>\n",
       "    </tr>\n",
       "    <tr>\n",
       "      <th>136</th>\n",
       "      <td>Europe</td>\n",
       "      <td>2000</td>\n",
       "      <td>2.27</td>\n",
       "    </tr>\n",
       "    <tr>\n",
       "      <th>...</th>\n",
       "      <td>...</td>\n",
       "      <td>...</td>\n",
       "      <td>...</td>\n",
       "    </tr>\n",
       "    <tr>\n",
       "      <th>27815</th>\n",
       "      <td>Asia</td>\n",
       "      <td>2014</td>\n",
       "      <td>2.96</td>\n",
       "    </tr>\n",
       "    <tr>\n",
       "      <th>27816</th>\n",
       "      <td>Asia</td>\n",
       "      <td>2014</td>\n",
       "      <td>2.58</td>\n",
       "    </tr>\n",
       "    <tr>\n",
       "      <th>27817</th>\n",
       "      <td>Asia</td>\n",
       "      <td>2014</td>\n",
       "      <td>2.17</td>\n",
       "    </tr>\n",
       "    <tr>\n",
       "      <th>27818</th>\n",
       "      <td>Asia</td>\n",
       "      <td>2014</td>\n",
       "      <td>1.67</td>\n",
       "    </tr>\n",
       "    <tr>\n",
       "      <th>27819</th>\n",
       "      <td>Asia</td>\n",
       "      <td>2014</td>\n",
       "      <td>1.46</td>\n",
       "    </tr>\n",
       "  </tbody>\n",
       "</table>\n",
       "<p>16008 rows × 3 columns</p>\n",
       "</div>"
      ],
      "text/plain": [
       "      Continent  Year  Suicides/100kPop\n",
       "132      Europe  2000              7.33\n",
       "133      Europe  2000              5.64\n",
       "134      Europe  2000              5.29\n",
       "135      Europe  2000              4.02\n",
       "136      Europe  2000              2.27\n",
       "...         ...   ...               ...\n",
       "27815      Asia  2014              2.96\n",
       "27816      Asia  2014              2.58\n",
       "27817      Asia  2014              2.17\n",
       "27818      Asia  2014              1.67\n",
       "27819      Asia  2014              1.46\n",
       "\n",
       "[16008 rows x 3 columns]"
      ]
     },
     "execution_count": 71,
     "metadata": {},
     "output_type": "execute_result"
    }
   ],
   "source": [
    "\n",
    "dftesting = global_suicide_data[['Continent','Year','Suicides/100kPop']]\n",
    "dftesting"
   ]
  },
  {
   "cell_type": "code",
   "execution_count": 72,
   "metadata": {},
   "outputs": [],
   "source": [
    "dfAgg = dftesting.groupby(['Continent','Year'],sort=True,as_index=False)['Suicides/100kPop'].mean()"
   ]
  },
  {
   "cell_type": "code",
   "execution_count": 109,
   "metadata": {},
   "outputs": [
    {
     "data": {
      "text/plain": [
       "<function matplotlib.pyplot.show(*args, **kw)>"
      ]
     },
     "execution_count": 109,
     "metadata": {},
     "output_type": "execute_result"
    },
    {
     "data": {
      "image/png": "[encoded data removed]",
      "text/plain": [
       "<Figure size 864x576 with 1 Axes>"
      ]
     },
     "metadata": {},
     "output_type": "display_data"
    }
   ],
   "source": [
    "#plotting mean suicide/100k by continent, year by year\n",
    "by_cont = dfAgg.groupby('Continent')\n",
    "\n",
    "for name, group in by_cont:\n",
    "    plt.plot(group['Year'], group['Suicides/100kPop'], label=name, linewidth=6.0)\n",
    "    \n",
    "\n",
    "plt.title('Mean Suicide/100k, Year by Year, per Continent', fontsize = 22)\n",
    "plt.ylabel('Suicides/100k', fontsize = 20)\n",
    "plt.yticks(fontsize = 12) #----added\n",
    "plt.ylim(0, max(group['Suicides/100kPop'])+8) #----added\n",
    "plt.xlabel('Year', fontsize = 20)\n",
    "plt.xticks(fontsize = 12) #----added\n",
    "leg = plt.legend(fontsize = 12)\n",
    "for line in leg.get_lines():\n",
    "    line.set_linewidth(10)\n",
    "plt.show"
   ]
  },
  {
   "cell_type": "code",
   "execution_count": 83,
   "metadata": {},
   "outputs": [
    {
     "data": {
      "text/plain": [
       "(array([ 0.,  5., 10., 15., 20., 25., 30., 35., 40.]),\n",
       " <a list of 9 Text yticklabel objects>)"
      ]
     },
     "execution_count": 83,
     "metadata": {},
     "output_type": "execute_result"
    },
    {
     "data": {
      "image/png": "[encoded data removed]",
      "text/plain": [
       "<Figure size 1080x288 with 1 Axes>"
      ]
     },
     "metadata": {},
     "output_type": "display_data"
    }
   ],
   "source": [
    "#plotting countries with the highest suicide rate\n",
    "data_suicide_mean = global_suicide_data['Suicides/100kPop'].groupby(global_suicide_data.Country).mean().sort_values(ascending=False)\n",
    "f,ax = plt.subplots(1,1,figsize=(15,4))\n",
    "ax = sns.barplot(data_suicide_mean.head(10).index,data_suicide_mean.head(10))\n",
    "plt.ylabel('Suicides/100k', fontsize = 20)\n",
    "plt.xlabel('Country', fontsize = 20)\n",
    "plt.title('Countries with the Highest Suicide Rates - (2000-2015)', fontsize = 20) #----added this\n",
    "plt.xticks(fontsize = 12,rotation=45) #----added this; do we want to increase font size\n",
    "plt.yticks(fontsize = 12) #----added this"
   ]
  },
  {
   "cell_type": "code",
   "execution_count": null,
   "metadata": {},
   "outputs": [],
   "source": [
    "#creating sub frame for USA only \n",
    "dfUSA = global_suicide_data[global_suicide_data.Country == 'United States']\n",
    "usa_by_year = dfUSA.groupby('Year').sum()"
   ]
  },
  {
   "cell_type": "code",
   "execution_count": null,
   "metadata": {},
   "outputs": [],
   "source": [
    "dfUSA.corr(method ='pearson')"
   ]
  },
  {
   "cell_type": "code",
   "execution_count": null,
   "metadata": {},
   "outputs": [],
   "source": [
    "sns.heatmap(dfUSA.corr(method = 'pearson'),cmap='YlGnBu',annot=True)"
   ]
  },
  {
   "cell_type": "code",
   "execution_count": null,
   "metadata": {},
   "outputs": [],
   "source": [
    "usa_by_year['Suicides/100kPop'].plot()\n",
    "plt.title('USA Suicides Rate', fontsize = 22)\n",
    "plt.ylabel('Suicides/100k Population', fontsize = 20)\n",
    "plt.xlabel('Year', fontsize = 20)\n",
    "plt.show()"
   ]
  },
  {
   "cell_type": "code",
   "execution_count": null,
   "metadata": {},
   "outputs": [],
   "source": [
    "\n",
    "#new data frame with only data from 2015\n",
    "df2015 = global_suicide_data[global_suicide_data.Year == 2015]"
   ]
  },
  {
   "cell_type": "code",
   "execution_count": null,
   "metadata": {},
   "outputs": [],
   "source": [
    "df2015 = df2015[['Country','Suicides/100kPop','GdpPerCapital($)', 'Continent']]"
   ]
  },
  {
   "cell_type": "code",
   "execution_count": null,
   "metadata": {},
   "outputs": [],
   "source": [
    "df2015"
   ]
  },
  {
   "cell_type": "code",
   "execution_count": null,
   "metadata": {},
   "outputs": [],
   "source": [
    "df2015check = df2015.groupby('Country').sum()"
   ]
  },
  {
   "cell_type": "code",
   "execution_count": null,
   "metadata": {},
   "outputs": [],
   "source": [
    "df2015check['GdpPerCapital($)'] = df2015check['GdpPerCapital($)'].div(2)"
   ]
  },
  {
   "cell_type": "code",
   "execution_count": null,
   "metadata": {},
   "outputs": [],
   "source": [
    "df2015check.reset_index(level=0, inplace=True)\n",
    "df2015check"
   ]
  },
  {
   "cell_type": "code",
   "execution_count": null,
   "metadata": {},
   "outputs": [],
   "source": [
    "sns.scatterplot(x='GdpPerCapital($)', y='Suicides/100kPop', data=df2015check, hue='Country',legend=False) \n",
    "plt.title('Suicide Rates: 2015')\n",
    "plt.ylabel('Suicide Rate')\n",
    "plt.xlabel('GDP')\n",
    "plt.show()\n",
    "# Checking data for rates"
   ]
  },
  {
   "cell_type": "code",
   "execution_count": null,
   "metadata": {},
   "outputs": [],
   "source": [
    "df2015.shape"
   ]
  },
  {
   "cell_type": "code",
   "execution_count": null,
   "metadata": {},
   "outputs": [],
   "source": [
    "dfcont = df2015.groupby(['Continent','Country'],sort=True,as_index=False)['Suicides/100kPop','GdpPerCapital($)'].sum()"
   ]
  },
  {
   "cell_type": "code",
   "execution_count": null,
   "metadata": {},
   "outputs": [],
   "source": [
    "dfcont['GdpPerCapital($)'] = dfcont['GdpPerCapital($)'].div(2)\n",
    "dfcont.reset_index(level=0, inplace=True)"
   ]
  },
  {
   "cell_type": "code",
   "execution_count": null,
   "metadata": {},
   "outputs": [],
   "source": [
    "dfcont"
   ]
  },
  {
   "cell_type": "code",
   "execution_count": null,
   "metadata": {},
   "outputs": [],
   "source": [
    "#plot suicide rate vs gdp\n",
    "plt.figure(figsize=(20,16))\n",
    "sns.scatterplot(x='GdpPerCapital($)',s=300, y='Suicides/100kPop',data=dfcont, hue='Continent') \n",
    "plt.title('Suicide Rates: 2015', fontsize= 30)\n",
    "plt.ylabel('Suicide Rate /100k Population', fontsize = 22)\n",
    "plt.xlabel('GDP ($)', fontsize = 22)\n",
    "plt.xticks(fontsize=20)\n",
    "plt.yticks(fontsize=20)\n",
    "plt.legend(loc=1, prop={'size': 30})\n",
    "\n",
    "\n",
    "plt.show()"
   ]
  },
  {
   "cell_type": "code",
   "execution_count": null,
   "metadata": {},
   "outputs": [],
   "source": [
    "#regression plot for suicide rates vs gdp\n",
    "plt.figure(figsize=(20,16))\n",
    "sns.regplot(x=\"GdpPerCapital($)\", y=\"Suicides/100kPop\", data=dfcont, color = 'b')\n",
    "plt.title('Suicide Rates: 2015', fontsize= 30)\n",
    "plt.ylabel('Suicide Rate /100k Population', fontsize = 22)\n",
    "plt.xlabel('GDP($)', fontsize = 22)\n",
    "plt.xticks(fontsize=20)\n",
    "plt.yticks(fontsize=20)\n",
    "plt.show()"
   ]
  },
  {
   "cell_type": "code",
   "execution_count": null,
   "metadata": {},
   "outputs": [],
   "source": [
    "plt.figure(figsize=(6,6))\n",
    "curr = global_suicide_data.groupby(['Age']).sum().reset_index()\n",
    "plt.bar(curr['Age'].values, curr['SuicidesNo'].values * 100000 / curr['Population'].values)\n",
    "plt.title('Global Suicide Count per Age Group', fontsize = 14)\n",
    "plt.xlabel('Age Group', fontsize = 14)\n",
    "plt.ylabel('Suicide Count per 100,000', fontsize = 14)\n",
    "plt.xticks(rotation = 45)\n",
    "plt.show()"
   ]
  },
  {
   "cell_type": "code",
   "execution_count": null,
   "metadata": {},
   "outputs": [],
   "source": [
    "curr = global_suicide_data.groupby(['Year', 'Age']).sum().reset_index()\n",
    "plt.figure(figsize = (8,6))\n",
    "for age_group in curr['Age'].unique():\n",
    "    sub = curr[curr['Age'] == age_group]\n",
    "    sub['per_100k'] = sub['SuicidesNo'] * 100000 / sub['Population']\n",
    "    plt.plot(sub['Year'], sub['per_100k'], label = age_group)\n",
    "\n",
    "plt.title('Suicide count from 1985 - 2015', fontsize = 18)\n",
    "plt.xlabel('Year', fontsize = 14)\n",
    "plt.ylabel('Suicide Count per 100,000', fontsize = 14)\n",
    "plt.legend()\n",
    "plt.show()\n",
    "\n"
   ]
  },
  {
   "cell_type": "code",
   "execution_count": null,
   "metadata": {},
   "outputs": [],
   "source": [
    "curr = global_suicide_data[(global_suicide_data['SuicidesNo'] != np.NaN) & (global_suicide_data['Population'] != np.NaN)]\n",
    "curr = global_suicide_data.groupby(['Year', 'Gender']).sum().reset_index()\n",
    "plt.figure(figsize = (8,6))\n",
    "for sex in curr['Gender'].unique():\n",
    "    sub = curr[curr['Gender'] == sex]\n",
    "    sub['per_100k'] = sub['SuicidesNo'] * 100000 / sub['Population']\n",
    "    plt.plot(sub['Year'], sub['per_100k'], label = sex)\n",
    "\n",
    "plt.title('Suicide count based on Gender', fontsize = 18)\n",
    "plt.xlabel('Year', fontsize = 14)\n",
    "plt.ylabel('Suicide count per 100,000', fontsize = 14)\n",
    "plt.ylim(bottom = 0)\n",
    "plt.legend()\n",
    "plt.show()\n",
    "\n",
    "plt.figure(figsize = (8,6))\n",
    "for sex in curr['Gender'].unique():\n",
    "    sub = curr[curr['Gender'] == sex]\n",
    "    plt.plot(sub['Year'], sub['SuicidesNo'], label = sex)\n",
    "\n",
    "plt.title('Suicide count based on Gender', fontsize = 18)\n",
    "plt.xlabel('Year', fontsize = 14)\n",
    "plt.ylabel('Total Suicide Count', fontsize = 14)\n",
    "plt.ylim(bottom = 0)\n",
    "plt.legend()\n",
    "plt.show()"
   ]
  },
  {
   "cell_type": "code",
   "execution_count": null,
   "metadata": {},
   "outputs": [],
   "source": [
    "\n",
    "# Generate pie plot showing the distribution of female versus male suicide percent\n",
    "suicide_gender = global_suicide_data.groupby(\"Gender\")\n",
    "\n",
    "gender_suicide_percent = 100*suicide_gender['SuicidesNo'].sum()/global_suicide_data['SuicidesNo'].sum()\n",
    "gender_suicide_percent"
   ]
  },
  {
   "cell_type": "code",
   "execution_count": null,
   "metadata": {},
   "outputs": [],
   "source": [
    "\n",
    "# Pie Plot\n",
    "suicide_vs_age = gender_suicide_percent.plot(kind='pie', y='Gender', title=\"Female Vs. Male Suicide Rate Percent (2000-2015)\",\\\n",
    "                startangle=100, autopct='%1.1f%%',shadow=True, fontsize=20, colors =[\"r\",\"b\"],legend =False, explode =(0, 0.1))\n",
    "plt.tight_layout()\n",
    "\n",
    "plt.show()"
   ]
  },
  {
   "cell_type": "code",
   "execution_count": null,
   "metadata": {},
   "outputs": [],
   "source": []
  }
 ],
 "metadata": {
  "kernelspec": {
   "display_name": "Python [conda env:PythonData] *",
   "language": "python",
   "name": "conda-env-PythonData-py"
  },
  "language_info": {
   "codemirror_mode": {
    "name": "ipython",
    "version": 3
   },
   "file_extension": ".py",
   "mimetype": "text/x-python",
   "name": "python",
   "nbconvert_exporter": "python",
   "pygments_lexer": "ipython3",
   "version": "3.6.10"
  }
 },
 "nbformat": 4,
 "nbformat_minor": 4
}
