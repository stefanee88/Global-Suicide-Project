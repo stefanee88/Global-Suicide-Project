{
 "cells": [
  {
   "cell_type": "code",
   "execution_count": 83,
   "metadata": {},
   "outputs": [],
   "source": [
    "%matplotlib inline"
   ]
  },
  {
   "cell_type": "code",
   "execution_count": 84,
   "metadata": {},
   "outputs": [],
   "source": [
    "import matplotlib.pyplot as plt\n",
    "from matplotlib import cm\n",
    "import pandas as pd\n",
    "import datapackage\n",
    "import scipy.stats as st\n",
    "from sklearn import datasets\n",
    "import numpy as np\n",
    "import seaborn as sns\n",
    "import json\n",
    "plt.style.use('seaborn')\n",
    "\n",
    "\n",
    "\n"
   ]
  },
  {
   "cell_type": "code",
   "execution_count": 85,
   "metadata": {},
   "outputs": [],
   "source": [
    "global_suicide_data = \"master.csv\"\n",
    "global_suicide_data = pd.read_csv(global_suicide_data)\n"
   ]
  },
  {
   "cell_type": "code",
   "execution_count": 114,
   "metadata": {},
   "outputs": [
    {
     "data": {
      "text/html": [
       "<div>\n",
       "<style scoped>\n",
       "    .dataframe tbody tr th:only-of-type {\n",
       "        vertical-align: middle;\n",
       "    }\n",
       "\n",
       "    .dataframe tbody tr th {\n",
       "        vertical-align: top;\n",
       "    }\n",
       "\n",
       "    .dataframe thead th {\n",
       "        text-align: right;\n",
       "    }\n",
       "</style>\n",
       "<table border=\"1\" class=\"dataframe\">\n",
       "  <thead>\n",
       "    <tr style=\"text-align: right;\">\n",
       "      <th></th>\n",
       "      <th>country</th>\n",
       "      <th>year</th>\n",
       "      <th>sex</th>\n",
       "      <th>age</th>\n",
       "      <th>suicides_no</th>\n",
       "      <th>population</th>\n",
       "      <th>suicides/100k pop</th>\n",
       "      <th>country-year</th>\n",
       "      <th>HDI for year</th>\n",
       "      <th>gdp_for_year ($)</th>\n",
       "      <th>gdp_per_capita ($)</th>\n",
       "      <th>generation</th>\n",
       "    </tr>\n",
       "  </thead>\n",
       "  <tbody>\n",
       "    <tr>\n",
       "      <th>0</th>\n",
       "      <td>Albania</td>\n",
       "      <td>1987</td>\n",
       "      <td>male</td>\n",
       "      <td>15-24 years</td>\n",
       "      <td>21</td>\n",
       "      <td>312900</td>\n",
       "      <td>6.71</td>\n",
       "      <td>Albania1987</td>\n",
       "      <td>NaN</td>\n",
       "      <td>2,156,624,900</td>\n",
       "      <td>796</td>\n",
       "      <td>Generation X</td>\n",
       "    </tr>\n",
       "    <tr>\n",
       "      <th>1</th>\n",
       "      <td>Albania</td>\n",
       "      <td>1987</td>\n",
       "      <td>male</td>\n",
       "      <td>35-54 years</td>\n",
       "      <td>16</td>\n",
       "      <td>308000</td>\n",
       "      <td>5.19</td>\n",
       "      <td>Albania1987</td>\n",
       "      <td>NaN</td>\n",
       "      <td>2,156,624,900</td>\n",
       "      <td>796</td>\n",
       "      <td>Silent</td>\n",
       "    </tr>\n",
       "    <tr>\n",
       "      <th>2</th>\n",
       "      <td>Albania</td>\n",
       "      <td>1987</td>\n",
       "      <td>female</td>\n",
       "      <td>15-24 years</td>\n",
       "      <td>14</td>\n",
       "      <td>289700</td>\n",
       "      <td>4.83</td>\n",
       "      <td>Albania1987</td>\n",
       "      <td>NaN</td>\n",
       "      <td>2,156,624,900</td>\n",
       "      <td>796</td>\n",
       "      <td>Generation X</td>\n",
       "    </tr>\n",
       "    <tr>\n",
       "      <th>3</th>\n",
       "      <td>Albania</td>\n",
       "      <td>1987</td>\n",
       "      <td>male</td>\n",
       "      <td>75+ years</td>\n",
       "      <td>1</td>\n",
       "      <td>21800</td>\n",
       "      <td>4.59</td>\n",
       "      <td>Albania1987</td>\n",
       "      <td>NaN</td>\n",
       "      <td>2,156,624,900</td>\n",
       "      <td>796</td>\n",
       "      <td>G.I. Generation</td>\n",
       "    </tr>\n",
       "    <tr>\n",
       "      <th>4</th>\n",
       "      <td>Albania</td>\n",
       "      <td>1987</td>\n",
       "      <td>male</td>\n",
       "      <td>25-34 years</td>\n",
       "      <td>9</td>\n",
       "      <td>274300</td>\n",
       "      <td>3.28</td>\n",
       "      <td>Albania1987</td>\n",
       "      <td>NaN</td>\n",
       "      <td>2,156,624,900</td>\n",
       "      <td>796</td>\n",
       "      <td>Boomers</td>\n",
       "    </tr>\n",
       "  </tbody>\n",
       "</table>\n",
       "</div>"
      ],
      "text/plain": [
       "   country  year     sex          age  suicides_no  population  \\\n",
       "0  Albania  1987    male  15-24 years           21      312900   \n",
       "1  Albania  1987    male  35-54 years           16      308000   \n",
       "2  Albania  1987  female  15-24 years           14      289700   \n",
       "3  Albania  1987    male    75+ years            1       21800   \n",
       "4  Albania  1987    male  25-34 years            9      274300   \n",
       "\n",
       "   suicides/100k pop country-year  HDI for year  gdp_for_year ($)   \\\n",
       "0               6.71  Albania1987           NaN      2,156,624,900   \n",
       "1               5.19  Albania1987           NaN      2,156,624,900   \n",
       "2               4.83  Albania1987           NaN      2,156,624,900   \n",
       "3               4.59  Albania1987           NaN      2,156,624,900   \n",
       "4               3.28  Albania1987           NaN      2,156,624,900   \n",
       "\n",
       "   gdp_per_capita ($)       generation  \n",
       "0                 796     Generation X  \n",
       "1                 796           Silent  \n",
       "2                 796     Generation X  \n",
       "3                 796  G.I. Generation  \n",
       "4                 796          Boomers  "
      ]
     },
     "execution_count": 114,
     "metadata": {},
     "output_type": "execute_result"
    }
   ],
   "source": [
    "tiffany_copy=pd.read_csv('master.csv')\n",
    "tiffany_copy_df = pd.DataFrame(tiffany_copy)\n",
    "tiffany_copy_df.head()"
   ]
  },
  {
   "cell_type": "code",
   "execution_count": 116,
   "metadata": {},
   "outputs": [
    {
     "data": {
      "text/html": [
       "<div>\n",
       "<style scoped>\n",
       "    .dataframe tbody tr th:only-of-type {\n",
       "        vertical-align: middle;\n",
       "    }\n",
       "\n",
       "    .dataframe tbody tr th {\n",
       "        vertical-align: top;\n",
       "    }\n",
       "\n",
       "    .dataframe thead th {\n",
       "        text-align: right;\n",
       "    }\n",
       "</style>\n",
       "<table border=\"1\" class=\"dataframe\">\n",
       "  <thead>\n",
       "    <tr style=\"text-align: right;\">\n",
       "      <th></th>\n",
       "      <th>year</th>\n",
       "      <th>suicides_no</th>\n",
       "      <th>population</th>\n",
       "    </tr>\n",
       "    <tr>\n",
       "      <th>country</th>\n",
       "      <th></th>\n",
       "      <th></th>\n",
       "      <th></th>\n",
       "    </tr>\n",
       "  </thead>\n",
       "  <tbody>\n",
       "    <tr>\n",
       "      <th>Russian Federation</th>\n",
       "      <td>648648</td>\n",
       "      <td>1209742</td>\n",
       "      <td>3690802620</td>\n",
       "    </tr>\n",
       "    <tr>\n",
       "      <th>United States</th>\n",
       "      <td>744000</td>\n",
       "      <td>1034013</td>\n",
       "      <td>8054027201</td>\n",
       "    </tr>\n",
       "    <tr>\n",
       "      <th>Japan</th>\n",
       "      <td>744000</td>\n",
       "      <td>806902</td>\n",
       "      <td>3681024844</td>\n",
       "    </tr>\n",
       "    <tr>\n",
       "      <th>France</th>\n",
       "      <td>719820</td>\n",
       "      <td>329127</td>\n",
       "      <td>1670756775</td>\n",
       "    </tr>\n",
       "    <tr>\n",
       "      <th>Ukraine</th>\n",
       "      <td>672192</td>\n",
       "      <td>319950</td>\n",
       "      <td>1286469184</td>\n",
       "    </tr>\n",
       "    <tr>\n",
       "      <th>...</th>\n",
       "      <td>...</td>\n",
       "      <td>...</td>\n",
       "      <td>...</td>\n",
       "    </tr>\n",
       "    <tr>\n",
       "      <th>Maldives</th>\n",
       "      <td>240612</td>\n",
       "      <td>20</td>\n",
       "      <td>2900246</td>\n",
       "    </tr>\n",
       "    <tr>\n",
       "      <th>Antigua and Barbuda</th>\n",
       "      <td>647832</td>\n",
       "      <td>11</td>\n",
       "      <td>1990228</td>\n",
       "    </tr>\n",
       "    <tr>\n",
       "      <th>San Marino</th>\n",
       "      <td>72048</td>\n",
       "      <td>4</td>\n",
       "      <td>78825</td>\n",
       "    </tr>\n",
       "    <tr>\n",
       "      <th>Saint Kitts and Nevis</th>\n",
       "      <td>71676</td>\n",
       "      <td>0</td>\n",
       "      <td>117300</td>\n",
       "    </tr>\n",
       "    <tr>\n",
       "      <th>Dominica</th>\n",
       "      <td>23820</td>\n",
       "      <td>0</td>\n",
       "      <td>66400</td>\n",
       "    </tr>\n",
       "  </tbody>\n",
       "</table>\n",
       "<p>101 rows × 3 columns</p>\n",
       "</div>"
      ],
      "text/plain": [
       "                         year  suicides_no  population\n",
       "country                                               \n",
       "Russian Federation     648648      1209742  3690802620\n",
       "United States          744000      1034013  8054027201\n",
       "Japan                  744000       806902  3681024844\n",
       "France                 719820       329127  1670756775\n",
       "Ukraine                672192       319950  1286469184\n",
       "...                       ...          ...         ...\n",
       "Maldives               240612           20     2900246\n",
       "Antigua and Barbuda    647832           11     1990228\n",
       "San Marino              72048            4       78825\n",
       "Saint Kitts and Nevis   71676            0      117300\n",
       "Dominica                23820            0       66400\n",
       "\n",
       "[101 rows x 3 columns]"
      ]
     },
     "execution_count": 116,
     "metadata": {},
     "output_type": "execute_result"
    }
   ],
   "source": [
    "tiffany_clean = tiffany_copy_df[['country','year','sex','age','suicides_no','population']].groupby(['country']).sum().sort_values(by=['suicides_no'], ascending=False)\n",
    "tiffany_clean"
   ]
  },
  {
   "cell_type": "code",
   "execution_count": 126,
   "metadata": {
    "scrolled": true
   },
   "outputs": [
    {
     "data": {
      "text/html": [
       "<div>\n",
       "<style scoped>\n",
       "    .dataframe tbody tr th:only-of-type {\n",
       "        vertical-align: middle;\n",
       "    }\n",
       "\n",
       "    .dataframe tbody tr th {\n",
       "        vertical-align: top;\n",
       "    }\n",
       "\n",
       "    .dataframe thead th {\n",
       "        text-align: right;\n",
       "    }\n",
       "</style>\n",
       "<table border=\"1\" class=\"dataframe\">\n",
       "  <thead>\n",
       "    <tr style=\"text-align: right;\">\n",
       "      <th></th>\n",
       "      <th>country</th>\n",
       "      <th>year</th>\n",
       "      <th>sex</th>\n",
       "      <th>age</th>\n",
       "      <th>suicides_no</th>\n",
       "      <th>population</th>\n",
       "      <th>suicides/100k pop</th>\n",
       "      <th>country-year</th>\n",
       "      <th>HDI for year</th>\n",
       "      <th>gdp_for_year ($)</th>\n",
       "      <th>gdp_per_capita ($)</th>\n",
       "      <th>generation</th>\n",
       "    </tr>\n",
       "  </thead>\n",
       "  <tbody>\n",
       "    <tr>\n",
       "      <th>9086</th>\n",
       "      <td>France</td>\n",
       "      <td>1985</td>\n",
       "      <td>male</td>\n",
       "      <td>75+ years</td>\n",
       "      <td>1522</td>\n",
       "      <td>1263200</td>\n",
       "      <td>120.49</td>\n",
       "      <td>France1985</td>\n",
       "      <td>0.741</td>\n",
       "      <td>553,138,414,367</td>\n",
       "      <td>10765</td>\n",
       "      <td>G.I. Generation</td>\n",
       "    </tr>\n",
       "    <tr>\n",
       "      <th>9087</th>\n",
       "      <td>France</td>\n",
       "      <td>1985</td>\n",
       "      <td>male</td>\n",
       "      <td>55-74 years</td>\n",
       "      <td>2363</td>\n",
       "      <td>4471600</td>\n",
       "      <td>52.84</td>\n",
       "      <td>France1985</td>\n",
       "      <td>0.741</td>\n",
       "      <td>553,138,414,367</td>\n",
       "      <td>10765</td>\n",
       "      <td>G.I. Generation</td>\n",
       "    </tr>\n",
       "    <tr>\n",
       "      <th>9088</th>\n",
       "      <td>France</td>\n",
       "      <td>1985</td>\n",
       "      <td>male</td>\n",
       "      <td>35-54 years</td>\n",
       "      <td>2752</td>\n",
       "      <td>6799400</td>\n",
       "      <td>40.47</td>\n",
       "      <td>France1985</td>\n",
       "      <td>0.741</td>\n",
       "      <td>553,138,414,367</td>\n",
       "      <td>10765</td>\n",
       "      <td>Silent</td>\n",
       "    </tr>\n",
       "    <tr>\n",
       "      <th>9089</th>\n",
       "      <td>France</td>\n",
       "      <td>1985</td>\n",
       "      <td>male</td>\n",
       "      <td>25-34 years</td>\n",
       "      <td>1492</td>\n",
       "      <td>4240100</td>\n",
       "      <td>35.19</td>\n",
       "      <td>France1985</td>\n",
       "      <td>0.741</td>\n",
       "      <td>553,138,414,367</td>\n",
       "      <td>10765</td>\n",
       "      <td>Boomers</td>\n",
       "    </tr>\n",
       "    <tr>\n",
       "      <th>9090</th>\n",
       "      <td>France</td>\n",
       "      <td>1985</td>\n",
       "      <td>female</td>\n",
       "      <td>75+ years</td>\n",
       "      <td>670</td>\n",
       "      <td>2434600</td>\n",
       "      <td>27.52</td>\n",
       "      <td>France1985</td>\n",
       "      <td>0.741</td>\n",
       "      <td>553,138,414,367</td>\n",
       "      <td>10765</td>\n",
       "      <td>G.I. Generation</td>\n",
       "    </tr>\n",
       "    <tr>\n",
       "      <th>...</th>\n",
       "      <td>...</td>\n",
       "      <td>...</td>\n",
       "      <td>...</td>\n",
       "      <td>...</td>\n",
       "      <td>...</td>\n",
       "      <td>...</td>\n",
       "      <td>...</td>\n",
       "      <td>...</td>\n",
       "      <td>...</td>\n",
       "      <td>...</td>\n",
       "      <td>...</td>\n",
       "      <td>...</td>\n",
       "    </tr>\n",
       "    <tr>\n",
       "      <th>27215</th>\n",
       "      <td>United States</td>\n",
       "      <td>2015</td>\n",
       "      <td>female</td>\n",
       "      <td>25-34 years</td>\n",
       "      <td>1444</td>\n",
       "      <td>21555712</td>\n",
       "      <td>6.70</td>\n",
       "      <td>United States2015</td>\n",
       "      <td>NaN</td>\n",
       "      <td>18,120,714,000,000</td>\n",
       "      <td>60387</td>\n",
       "      <td>Millenials</td>\n",
       "    </tr>\n",
       "    <tr>\n",
       "      <th>27216</th>\n",
       "      <td>United States</td>\n",
       "      <td>2015</td>\n",
       "      <td>female</td>\n",
       "      <td>15-24 years</td>\n",
       "      <td>1132</td>\n",
       "      <td>21633813</td>\n",
       "      <td>5.23</td>\n",
       "      <td>United States2015</td>\n",
       "      <td>NaN</td>\n",
       "      <td>18,120,714,000,000</td>\n",
       "      <td>60387</td>\n",
       "      <td>Millenials</td>\n",
       "    </tr>\n",
       "    <tr>\n",
       "      <th>27217</th>\n",
       "      <td>United States</td>\n",
       "      <td>2015</td>\n",
       "      <td>female</td>\n",
       "      <td>75+ years</td>\n",
       "      <td>540</td>\n",
       "      <td>11778666</td>\n",
       "      <td>4.58</td>\n",
       "      <td>United States2015</td>\n",
       "      <td>NaN</td>\n",
       "      <td>18,120,714,000,000</td>\n",
       "      <td>60387</td>\n",
       "      <td>Silent</td>\n",
       "    </tr>\n",
       "    <tr>\n",
       "      <th>27218</th>\n",
       "      <td>United States</td>\n",
       "      <td>2015</td>\n",
       "      <td>male</td>\n",
       "      <td>5-14 years</td>\n",
       "      <td>255</td>\n",
       "      <td>21273987</td>\n",
       "      <td>1.20</td>\n",
       "      <td>United States2015</td>\n",
       "      <td>NaN</td>\n",
       "      <td>18,120,714,000,000</td>\n",
       "      <td>60387</td>\n",
       "      <td>Generation Z</td>\n",
       "    </tr>\n",
       "    <tr>\n",
       "      <th>27219</th>\n",
       "      <td>United States</td>\n",
       "      <td>2015</td>\n",
       "      <td>female</td>\n",
       "      <td>5-14 years</td>\n",
       "      <td>158</td>\n",
       "      <td>20342901</td>\n",
       "      <td>0.78</td>\n",
       "      <td>United States2015</td>\n",
       "      <td>NaN</td>\n",
       "      <td>18,120,714,000,000</td>\n",
       "      <td>60387</td>\n",
       "      <td>Generation Z</td>\n",
       "    </tr>\n",
       "  </tbody>\n",
       "</table>\n",
       "<p>1764 rows × 12 columns</p>\n",
       "</div>"
      ],
      "text/plain": [
       "             country  year     sex          age  suicides_no  population  \\\n",
       "9086          France  1985    male    75+ years         1522     1263200   \n",
       "9087          France  1985    male  55-74 years         2363     4471600   \n",
       "9088          France  1985    male  35-54 years         2752     6799400   \n",
       "9089          France  1985    male  25-34 years         1492     4240100   \n",
       "9090          France  1985  female    75+ years          670     2434600   \n",
       "...              ...   ...     ...          ...          ...         ...   \n",
       "27215  United States  2015  female  25-34 years         1444    21555712   \n",
       "27216  United States  2015  female  15-24 years         1132    21633813   \n",
       "27217  United States  2015  female    75+ years          540    11778666   \n",
       "27218  United States  2015    male   5-14 years          255    21273987   \n",
       "27219  United States  2015  female   5-14 years          158    20342901   \n",
       "\n",
       "       suicides/100k pop       country-year  HDI for year   gdp_for_year ($)   \\\n",
       "9086              120.49         France1985         0.741     553,138,414,367   \n",
       "9087               52.84         France1985         0.741     553,138,414,367   \n",
       "9088               40.47         France1985         0.741     553,138,414,367   \n",
       "9089               35.19         France1985         0.741     553,138,414,367   \n",
       "9090               27.52         France1985         0.741     553,138,414,367   \n",
       "...                  ...                ...           ...                 ...   \n",
       "27215               6.70  United States2015           NaN  18,120,714,000,000   \n",
       "27216               5.23  United States2015           NaN  18,120,714,000,000   \n",
       "27217               4.58  United States2015           NaN  18,120,714,000,000   \n",
       "27218               1.20  United States2015           NaN  18,120,714,000,000   \n",
       "27219               0.78  United States2015           NaN  18,120,714,000,000   \n",
       "\n",
       "       gdp_per_capita ($)       generation  \n",
       "9086                10765  G.I. Generation  \n",
       "9087                10765  G.I. Generation  \n",
       "9088                10765           Silent  \n",
       "9089                10765          Boomers  \n",
       "9090                10765  G.I. Generation  \n",
       "...                   ...              ...  \n",
       "27215               60387       Millenials  \n",
       "27216               60387       Millenials  \n",
       "27217               60387           Silent  \n",
       "27218               60387     Generation Z  \n",
       "27219               60387     Generation Z  \n",
       "\n",
       "[1764 rows x 12 columns]"
      ]
     },
     "execution_count": 126,
     "metadata": {},
     "output_type": "execute_result"
    }
   ],
   "source": [
    "tiff_top_five = tiffany_copy_df[tiffany_copy_df['country'].isin(['Russian Federation','United States','Japan','France','Ukraine'])]\n",
    "tiff_top_five_df= pd.DataFrame(tiff_top_five)\n",
    "tiff_top_five_df"
   ]
  },
  {
   "cell_type": "code",
   "execution_count": 127,
   "metadata": {},
   "outputs": [
    {
     "name": "stdout",
     "output_type": "stream",
     "text": [
      "Potential outliers are values below -2882.62 and greater than 5908.38.\n"
     ]
    }
   ],
   "source": [
    "#Calculate the IQR and quantitatively determine if there are any potential outliers. \n",
    "quartiles=tiff_top_five['suicides_no'].quantile([.25,.50,.75])\n",
    "iqr=quartiles[.75]-quartiles[.25] #iqr = Q3-Q1\n",
    "min_outlier_value = quartiles[.25] - (1.5*iqr)\n",
    "max_outlier_value = quartiles[.75] + (1.5*iqr)\n",
    "outliers_values =tiff_top_five.loc[(tiff_top_five['suicides_no'] < min_outlier_value)|(tiff_top_five['suicides_no'] > max_outlier_value)]\n",
    "print(f'Potential outliers are values below {np.round(min_outlier_value, decimals =2)} and greater than {np.round(max_outlier_value, decimals =2)}.')"
   ]
  },
  {
   "cell_type": "code",
   "execution_count": 130,
   "metadata": {},
   "outputs": [
    {
     "data": {
      "text/plain": [
       "<matplotlib.axes._subplots.AxesSubplot at 0x7fc6843ef9b0>"
      ]
     },
     "execution_count": 130,
     "metadata": {},
     "output_type": "execute_result"
    },
    {
     "data": {
      "image/png": "[encoded data removed]",
      "text/plain": [
       "<Figure size 576x396 with 1 Axes>"
      ]
     },
     "metadata": {},
     "output_type": "display_data"
    }
   ],
   "source": [
    "tiff_top_five_no_outliers=tiff_top_five.loc[tiff_top_five['suicides_no']<max_outlier_value]\n",
    "tiff_top_five_no_outliers.boxplot(column=['suicides_no'],by=['country'])"
   ]
  },
  {
   "cell_type": "code",
   "execution_count": 134,
   "metadata": {},
   "outputs": [
    {
     "data": {
      "text/plain": [
       "<matplotlib.axes._subplots.AxesSubplot at 0x7fc68503c160>"
      ]
     },
     "execution_count": 134,
     "metadata": {},
     "output_type": "execute_result"
    },
    {
     "data": {
      "image/png": "[encoded data removed]",
      "text/plain": [
       "<Figure size 576x396 with 1 Axes>"
      ]
     },
     "metadata": {},
     "output_type": "display_data"
    }
   ],
   "source": [
    "# Generate a pie plot showing the distribution of female versus male \n",
    "#using pandas\n",
    "pie_chart=tiff_top_five_df['sex'].value_counts().plot.pie(autopct='%1.2f%%')\n",
    "pie_chart"
   ]
  },
  {
   "cell_type": "code",
   "execution_count": 162,
   "metadata": {},
   "outputs": [
    {
     "data": {
      "text/plain": [
       "[<matplotlib.lines.Line2D at 0x7fc681e12400>]"
      ]
     },
     "execution_count": 162,
     "metadata": {},
     "output_type": "execute_result"
    },
    {
     "data": {
      "image/png": "[encoded data removed]",
      "text/plain": [
       "<Figure size 576x396 with 1 Axes>"
      ]
     },
     "metadata": {},
     "output_type": "display_data"
    }
   ],
   "source": [
    "# Scatter plot of year versus number of suicides\n",
    "tiff_usa= tiff_top_five.loc[tiff_top_five['country']=='United States']\n",
    "tiff_usa\n",
    "plt.figure(figsize=(10,10))\n",
    "plt.plot(tiff_usa['year'] ,tiff_usa['suicides_no'])\n"
   ]
  },
  {
   "cell_type": "code",
   "execution_count": 67,
   "metadata": {},
   "outputs": [
    {
     "data": {
      "text/html": [
       "<div>\n",
       "<style scoped>\n",
       "    .dataframe tbody tr th:only-of-type {\n",
       "        vertical-align: middle;\n",
       "    }\n",
       "\n",
       "    .dataframe tbody tr th {\n",
       "        vertical-align: top;\n",
       "    }\n",
       "\n",
       "    .dataframe thead th {\n",
       "        text-align: right;\n",
       "    }\n",
       "</style>\n",
       "<table border=\"1\" class=\"dataframe\">\n",
       "  <thead>\n",
       "    <tr style=\"text-align: right;\">\n",
       "      <th></th>\n",
       "      <th>country</th>\n",
       "      <th>year</th>\n",
       "      <th>sex</th>\n",
       "      <th>age</th>\n",
       "      <th>suicides_no</th>\n",
       "      <th>population</th>\n",
       "      <th>suicides/100k pop</th>\n",
       "      <th>country-year</th>\n",
       "      <th>HDI for year</th>\n",
       "      <th>gdp_for_year ($)</th>\n",
       "      <th>gdp_per_capita ($)</th>\n",
       "      <th>generation</th>\n",
       "    </tr>\n",
       "  </thead>\n",
       "  <tbody>\n",
       "    <tr>\n",
       "      <th>0</th>\n",
       "      <td>Albania</td>\n",
       "      <td>1987</td>\n",
       "      <td>male</td>\n",
       "      <td>15-24 years</td>\n",
       "      <td>21</td>\n",
       "      <td>312900</td>\n",
       "      <td>6.71</td>\n",
       "      <td>Albania1987</td>\n",
       "      <td>NaN</td>\n",
       "      <td>2,156,624,900</td>\n",
       "      <td>796</td>\n",
       "      <td>Generation X</td>\n",
       "    </tr>\n",
       "    <tr>\n",
       "      <th>1</th>\n",
       "      <td>Albania</td>\n",
       "      <td>1987</td>\n",
       "      <td>male</td>\n",
       "      <td>35-54 years</td>\n",
       "      <td>16</td>\n",
       "      <td>308000</td>\n",
       "      <td>5.19</td>\n",
       "      <td>Albania1987</td>\n",
       "      <td>NaN</td>\n",
       "      <td>2,156,624,900</td>\n",
       "      <td>796</td>\n",
       "      <td>Silent</td>\n",
       "    </tr>\n",
       "    <tr>\n",
       "      <th>2</th>\n",
       "      <td>Albania</td>\n",
       "      <td>1987</td>\n",
       "      <td>female</td>\n",
       "      <td>15-24 years</td>\n",
       "      <td>14</td>\n",
       "      <td>289700</td>\n",
       "      <td>4.83</td>\n",
       "      <td>Albania1987</td>\n",
       "      <td>NaN</td>\n",
       "      <td>2,156,624,900</td>\n",
       "      <td>796</td>\n",
       "      <td>Generation X</td>\n",
       "    </tr>\n",
       "    <tr>\n",
       "      <th>3</th>\n",
       "      <td>Albania</td>\n",
       "      <td>1987</td>\n",
       "      <td>male</td>\n",
       "      <td>75+ years</td>\n",
       "      <td>1</td>\n",
       "      <td>21800</td>\n",
       "      <td>4.59</td>\n",
       "      <td>Albania1987</td>\n",
       "      <td>NaN</td>\n",
       "      <td>2,156,624,900</td>\n",
       "      <td>796</td>\n",
       "      <td>G.I. Generation</td>\n",
       "    </tr>\n",
       "    <tr>\n",
       "      <th>4</th>\n",
       "      <td>Albania</td>\n",
       "      <td>1987</td>\n",
       "      <td>male</td>\n",
       "      <td>25-34 years</td>\n",
       "      <td>9</td>\n",
       "      <td>274300</td>\n",
       "      <td>3.28</td>\n",
       "      <td>Albania1987</td>\n",
       "      <td>NaN</td>\n",
       "      <td>2,156,624,900</td>\n",
       "      <td>796</td>\n",
       "      <td>Boomers</td>\n",
       "    </tr>\n",
       "  </tbody>\n",
       "</table>\n",
       "</div>"
      ],
      "text/plain": [
       "   country  year     sex          age  suicides_no  population  \\\n",
       "0  Albania  1987    male  15-24 years           21      312900   \n",
       "1  Albania  1987    male  35-54 years           16      308000   \n",
       "2  Albania  1987  female  15-24 years           14      289700   \n",
       "3  Albania  1987    male    75+ years            1       21800   \n",
       "4  Albania  1987    male  25-34 years            9      274300   \n",
       "\n",
       "   suicides/100k pop country-year  HDI for year  gdp_for_year ($)   \\\n",
       "0               6.71  Albania1987           NaN      2,156,624,900   \n",
       "1               5.19  Albania1987           NaN      2,156,624,900   \n",
       "2               4.83  Albania1987           NaN      2,156,624,900   \n",
       "3               4.59  Albania1987           NaN      2,156,624,900   \n",
       "4               3.28  Albania1987           NaN      2,156,624,900   \n",
       "\n",
       "   gdp_per_capita ($)       generation  \n",
       "0                 796     Generation X  \n",
       "1                 796           Silent  \n",
       "2                 796     Generation X  \n",
       "3                 796  G.I. Generation  \n",
       "4                 796          Boomers  "
      ]
     },
     "execution_count": 67,
     "metadata": {},
     "output_type": "execute_result"
    }
   ],
   "source": [
    "global_suicide_data.head()\n"
   ]
  },
  {
   "cell_type": "code",
   "execution_count": 5,
   "metadata": {},
   "outputs": [
    {
     "name": "stdout",
     "output_type": "stream",
     "text": [
      "<class 'pandas.core.frame.DataFrame'>\n",
      "RangeIndex: 27820 entries, 0 to 27819\n",
      "Data columns (total 12 columns):\n",
      " #   Column              Non-Null Count  Dtype  \n",
      "---  ------              --------------  -----  \n",
      " 0   country             27820 non-null  object \n",
      " 1   year                27820 non-null  int64  \n",
      " 2   sex                 27820 non-null  object \n",
      " 3   age                 27820 non-null  object \n",
      " 4   suicides_no         27820 non-null  int64  \n",
      " 5   population          27820 non-null  int64  \n",
      " 6   suicides/100k pop   27820 non-null  float64\n",
      " 7   country-year        27820 non-null  object \n",
      " 8   HDI for year        8364 non-null   float64\n",
      " 9    gdp_for_year ($)   27820 non-null  object \n",
      " 10  gdp_per_capita ($)  27820 non-null  int64  \n",
      " 11  generation          27820 non-null  object \n",
      "dtypes: float64(2), int64(4), object(6)\n",
      "memory usage: 2.5+ MB\n"
     ]
    }
   ],
   "source": [
    "global_suicide_data.info()"
   ]
  },
  {
   "cell_type": "code",
   "execution_count": 6,
   "metadata": {},
   "outputs": [
    {
     "data": {
      "text/plain": [
       "Index(['country', 'year', 'sex', 'age', 'suicides_no', 'population',\n",
       "       'suicides/100k pop', 'country-year', 'HDI for year',\n",
       "       ' gdp_for_year ($) ', 'gdp_per_capita ($)', 'generation'],\n",
       "      dtype='object')"
      ]
     },
     "execution_count": 6,
     "metadata": {},
     "output_type": "execute_result"
    }
   ],
   "source": [
    "global_suicide_data.columns"
   ]
  },
  {
   "cell_type": "code",
   "execution_count": 7,
   "metadata": {},
   "outputs": [],
   "source": [
    "#clean columns\n",
    "global_suicide_data=global_suicide_data.rename(columns={'country':'Country','year':'Year','sex':'Gender','age':'Age'\n",
    "                     ,'suicides_no':'SuicidesNo','population':'Population',\n",
    "                      'suicides/100k pop':'Suicides/100kPop','country-year':'Country/Year',\n",
    "                      'HDI for year':'HDIForYear',' gdp_for_year ($) ':'GdpForYear($)',\n",
    "                      'gdp_per_capita ($)':'GdpPerCapital($)','generation':'Generation'})"
   ]
  },
  {
   "cell_type": "code",
   "execution_count": 8,
   "metadata": {},
   "outputs": [
    {
     "data": {
      "text/plain": [
       "Country             False\n",
       "Year                False\n",
       "Gender              False\n",
       "Age                 False\n",
       "SuicidesNo          False\n",
       "Population          False\n",
       "Suicides/100kPop    False\n",
       "Country/Year        False\n",
       "HDIForYear           True\n",
       "GdpForYear($)       False\n",
       "GdpPerCapital($)    False\n",
       "Generation          False\n",
       "dtype: bool"
      ]
     },
     "execution_count": 8,
     "metadata": {},
     "output_type": "execute_result"
    }
   ],
   "source": [
    "#checking for null values\n",
    "global_suicide_data.isnull().any()"
   ]
  },
  {
   "cell_type": "code",
   "execution_count": 9,
   "metadata": {},
   "outputs": [
    {
     "data": {
      "text/plain": [
       "Country                 0\n",
       "Year                    0\n",
       "Gender                  0\n",
       "Age                     0\n",
       "SuicidesNo              0\n",
       "Population              0\n",
       "Suicides/100kPop        0\n",
       "Country/Year            0\n",
       "HDIForYear          19456\n",
       "GdpForYear($)           0\n",
       "GdpPerCapital($)        0\n",
       "Generation              0\n",
       "dtype: int64"
      ]
     },
     "execution_count": 9,
     "metadata": {},
     "output_type": "execute_result"
    }
   ],
   "source": [
    "#count amount of null values\n",
    "global_suicide_data.isnull().sum()"
   ]
  },
  {
   "cell_type": "code",
   "execution_count": 10,
   "metadata": {},
   "outputs": [],
   "source": [
    "global_suicide_data.drop('HDIForYear', axis=1, inplace = True)"
   ]
  },
  {
   "cell_type": "code",
   "execution_count": 11,
   "metadata": {},
   "outputs": [],
   "source": [
    "global_suicide_data.drop('Country/Year', axis=1, inplace=True)"
   ]
  },
  {
   "cell_type": "code",
   "execution_count": 12,
   "metadata": {},
   "outputs": [],
   "source": [
    "global_suicide_data = global_suicide_data[global_suicide_data.Year >= 2000]"
   ]
  },
  {
   "cell_type": "code",
   "execution_count": 13,
   "metadata": {},
   "outputs": [
    {
     "data": {
      "text/plain": [
       "2009    1068\n",
       "2001    1056\n",
       "2010    1056\n",
       "2011    1032\n",
       "2007    1032\n",
       "2002    1032\n",
       "2003    1032\n",
       "2000    1032\n",
       "2006    1020\n",
       "2008    1020\n",
       "2004    1008\n",
       "2005    1008\n",
       "2012     972\n",
       "2013     960\n",
       "2014     936\n",
       "2015     744\n",
       "2016     160\n",
       "Name: Year, dtype: int64"
      ]
     },
     "execution_count": 13,
     "metadata": {},
     "output_type": "execute_result"
    }
   ],
   "source": [
    "global_suicide_data[\"Year\"].value_counts()"
   ]
  },
  {
   "cell_type": "code",
   "execution_count": 14,
   "metadata": {},
   "outputs": [
    {
     "data": {
      "text/plain": [
       "(16168, 10)"
      ]
     },
     "execution_count": 14,
     "metadata": {},
     "output_type": "execute_result"
    }
   ],
   "source": [
    "#here we have dropped unneeded columns, as well as filtered the data\n",
    "global_suicide_data.shape"
   ]
  },
  {
   "cell_type": "code",
   "execution_count": 82,
   "metadata": {
    "scrolled": true
   },
   "outputs": [
    {
     "ename": "KeyError",
     "evalue": "'Year'",
     "output_type": "error",
     "traceback": [
      "\u001b[0;31m---------------------------------------------------------------------------\u001b[0m",
      "\u001b[0;31mKeyError\u001b[0m                                  Traceback (most recent call last)",
      "\u001b[0;32m<ipython-input-82-eb6157e7f445>\u001b[0m in \u001b[0;36m<module>\u001b[0;34m\u001b[0m\n\u001b[1;32m      1\u001b[0m \u001b[0;31m#create new data frame grouped by year to check\u001b[0m\u001b[0;34m\u001b[0m\u001b[0;34m\u001b[0m\u001b[0;34m\u001b[0m\u001b[0m\n\u001b[0;32m----> 2\u001b[0;31m \u001b[0myearlyStats\u001b[0m \u001b[0;34m=\u001b[0m \u001b[0mglobal_suicide_data\u001b[0m\u001b[0;34m.\u001b[0m\u001b[0mgroupby\u001b[0m\u001b[0;34m(\u001b[0m\u001b[0;34m'Year'\u001b[0m\u001b[0;34m)\u001b[0m\u001b[0;34m.\u001b[0m\u001b[0msum\u001b[0m\u001b[0;34m(\u001b[0m\u001b[0;34m)\u001b[0m\u001b[0;34m\u001b[0m\u001b[0;34m\u001b[0m\u001b[0m\n\u001b[0m\u001b[1;32m      3\u001b[0m \u001b[0myearlyStats\u001b[0m\u001b[0;34m.\u001b[0m\u001b[0msort\u001b[0m\u001b[0;34m(\u001b[0m\u001b[0;34m)\u001b[0m\u001b[0;34m\u001b[0m\u001b[0;34m\u001b[0m\u001b[0m\n",
      "\u001b[0;32m~/opt/anaconda3/envs/PythonData/lib/python3.6/site-packages/pandas/core/frame.py\u001b[0m in \u001b[0;36mgroupby\u001b[0;34m(self, by, axis, level, as_index, sort, group_keys, squeeze, observed)\u001b[0m\n\u001b[1;32m   5808\u001b[0m             \u001b[0mgroup_keys\u001b[0m\u001b[0;34m=\u001b[0m\u001b[0mgroup_keys\u001b[0m\u001b[0;34m,\u001b[0m\u001b[0;34m\u001b[0m\u001b[0;34m\u001b[0m\u001b[0m\n\u001b[1;32m   5809\u001b[0m             \u001b[0msqueeze\u001b[0m\u001b[0;34m=\u001b[0m\u001b[0msqueeze\u001b[0m\u001b[0;34m,\u001b[0m\u001b[0;34m\u001b[0m\u001b[0;34m\u001b[0m\u001b[0m\n\u001b[0;32m-> 5810\u001b[0;31m             \u001b[0mobserved\u001b[0m\u001b[0;34m=\u001b[0m\u001b[0mobserved\u001b[0m\u001b[0;34m,\u001b[0m\u001b[0;34m\u001b[0m\u001b[0;34m\u001b[0m\u001b[0m\n\u001b[0m\u001b[1;32m   5811\u001b[0m         )\n\u001b[1;32m   5812\u001b[0m \u001b[0;34m\u001b[0m\u001b[0m\n",
      "\u001b[0;32m~/opt/anaconda3/envs/PythonData/lib/python3.6/site-packages/pandas/core/groupby/groupby.py\u001b[0m in \u001b[0;36m__init__\u001b[0;34m(self, obj, keys, axis, level, grouper, exclusions, selection, as_index, sort, group_keys, squeeze, observed, mutated)\u001b[0m\n\u001b[1;32m    407\u001b[0m                 \u001b[0msort\u001b[0m\u001b[0;34m=\u001b[0m\u001b[0msort\u001b[0m\u001b[0;34m,\u001b[0m\u001b[0;34m\u001b[0m\u001b[0;34m\u001b[0m\u001b[0m\n\u001b[1;32m    408\u001b[0m                 \u001b[0mobserved\u001b[0m\u001b[0;34m=\u001b[0m\u001b[0mobserved\u001b[0m\u001b[0;34m,\u001b[0m\u001b[0;34m\u001b[0m\u001b[0;34m\u001b[0m\u001b[0m\n\u001b[0;32m--> 409\u001b[0;31m                 \u001b[0mmutated\u001b[0m\u001b[0;34m=\u001b[0m\u001b[0mself\u001b[0m\u001b[0;34m.\u001b[0m\u001b[0mmutated\u001b[0m\u001b[0;34m,\u001b[0m\u001b[0;34m\u001b[0m\u001b[0;34m\u001b[0m\u001b[0m\n\u001b[0m\u001b[1;32m    410\u001b[0m             )\n\u001b[1;32m    411\u001b[0m \u001b[0;34m\u001b[0m\u001b[0m\n",
      "\u001b[0;32m~/opt/anaconda3/envs/PythonData/lib/python3.6/site-packages/pandas/core/groupby/grouper.py\u001b[0m in \u001b[0;36mget_grouper\u001b[0;34m(obj, key, axis, level, sort, observed, mutated, validate)\u001b[0m\n\u001b[1;32m    596\u001b[0m                 \u001b[0min_axis\u001b[0m\u001b[0;34m,\u001b[0m \u001b[0mname\u001b[0m\u001b[0;34m,\u001b[0m \u001b[0mlevel\u001b[0m\u001b[0;34m,\u001b[0m \u001b[0mgpr\u001b[0m \u001b[0;34m=\u001b[0m \u001b[0;32mFalse\u001b[0m\u001b[0;34m,\u001b[0m \u001b[0;32mNone\u001b[0m\u001b[0;34m,\u001b[0m \u001b[0mgpr\u001b[0m\u001b[0;34m,\u001b[0m \u001b[0;32mNone\u001b[0m\u001b[0;34m\u001b[0m\u001b[0;34m\u001b[0m\u001b[0m\n\u001b[1;32m    597\u001b[0m             \u001b[0;32melse\u001b[0m\u001b[0;34m:\u001b[0m\u001b[0;34m\u001b[0m\u001b[0;34m\u001b[0m\u001b[0m\n\u001b[0;32m--> 598\u001b[0;31m                 \u001b[0;32mraise\u001b[0m \u001b[0mKeyError\u001b[0m\u001b[0;34m(\u001b[0m\u001b[0mgpr\u001b[0m\u001b[0;34m)\u001b[0m\u001b[0;34m\u001b[0m\u001b[0;34m\u001b[0m\u001b[0m\n\u001b[0m\u001b[1;32m    599\u001b[0m         \u001b[0;32melif\u001b[0m \u001b[0misinstance\u001b[0m\u001b[0;34m(\u001b[0m\u001b[0mgpr\u001b[0m\u001b[0;34m,\u001b[0m \u001b[0mGrouper\u001b[0m\u001b[0;34m)\u001b[0m \u001b[0;32mand\u001b[0m \u001b[0mgpr\u001b[0m\u001b[0;34m.\u001b[0m\u001b[0mkey\u001b[0m \u001b[0;32mis\u001b[0m \u001b[0;32mnot\u001b[0m \u001b[0;32mNone\u001b[0m\u001b[0;34m:\u001b[0m\u001b[0;34m\u001b[0m\u001b[0;34m\u001b[0m\u001b[0m\n\u001b[1;32m    600\u001b[0m             \u001b[0;31m# Add key to exclusions\u001b[0m\u001b[0;34m\u001b[0m\u001b[0;34m\u001b[0m\u001b[0;34m\u001b[0m\u001b[0m\n",
      "\u001b[0;31mKeyError\u001b[0m: 'Year'"
     ]
    }
   ],
   "source": [
    "#create new data frame grouped by year to check\n",
    "yearlyStats = global_suicide_data.groupby('Year').sum()\n",
    "yearlyStats.sort()"
   ]
  },
  {
   "cell_type": "code",
   "execution_count": 16,
   "metadata": {},
   "outputs": [
    {
     "data": {
      "text/html": [
       "<div>\n",
       "<style scoped>\n",
       "    .dataframe tbody tr th:only-of-type {\n",
       "        vertical-align: middle;\n",
       "    }\n",
       "\n",
       "    .dataframe tbody tr th {\n",
       "        vertical-align: top;\n",
       "    }\n",
       "\n",
       "    .dataframe thead th {\n",
       "        text-align: right;\n",
       "    }\n",
       "</style>\n",
       "<table border=\"1\" class=\"dataframe\">\n",
       "  <thead>\n",
       "    <tr style=\"text-align: right;\">\n",
       "      <th></th>\n",
       "      <th>Year</th>\n",
       "      <th>SuicidesNo</th>\n",
       "      <th>Population</th>\n",
       "      <th>Suicides/100kPop</th>\n",
       "      <th>GdpPerCapital($)</th>\n",
       "    </tr>\n",
       "    <tr>\n",
       "      <th>Country</th>\n",
       "      <th></th>\n",
       "      <th></th>\n",
       "      <th></th>\n",
       "      <th></th>\n",
       "      <th></th>\n",
       "    </tr>\n",
       "  </thead>\n",
       "  <tbody>\n",
       "    <tr>\n",
       "      <th>Albania</th>\n",
       "      <td>264660</td>\n",
       "      <td>956</td>\n",
       "      <td>30706067</td>\n",
       "      <td>446.38</td>\n",
       "      <td>388020</td>\n",
       "    </tr>\n",
       "    <tr>\n",
       "      <th>Antigua and Barbuda</th>\n",
       "      <td>337188</td>\n",
       "      <td>9</td>\n",
       "      <td>1164590</td>\n",
       "      <td>146.90</td>\n",
       "      <td>2200824</td>\n",
       "    </tr>\n",
       "    <tr>\n",
       "      <th>Argentina</th>\n",
       "      <td>385440</td>\n",
       "      <td>48927</td>\n",
       "      <td>585500629</td>\n",
       "      <td>1955.73</td>\n",
       "      <td>1780188</td>\n",
       "    </tr>\n",
       "    <tr>\n",
       "      <th>Armenia</th>\n",
       "      <td>357492</td>\n",
       "      <td>1004</td>\n",
       "      <td>43460973</td>\n",
       "      <td>557.41</td>\n",
       "      <td>499376</td>\n",
       "    </tr>\n",
       "    <tr>\n",
       "      <th>Aruba</th>\n",
       "      <td>288792</td>\n",
       "      <td>84</td>\n",
       "      <td>1104162</td>\n",
       "      <td>1172.54</td>\n",
       "      <td>3601524</td>\n",
       "    </tr>\n",
       "    <tr>\n",
       "      <th>...</th>\n",
       "      <td>...</td>\n",
       "      <td>...</td>\n",
       "      <td>...</td>\n",
       "      <td>...</td>\n",
       "      <td>...</td>\n",
       "    </tr>\n",
       "    <tr>\n",
       "      <th>United Arab Emirates</th>\n",
       "      <td>144540</td>\n",
       "      <td>622</td>\n",
       "      <td>36502275</td>\n",
       "      <td>94.89</td>\n",
       "      <td>3035664</td>\n",
       "    </tr>\n",
       "    <tr>\n",
       "      <th>United Kingdom</th>\n",
       "      <td>385440</td>\n",
       "      <td>68815</td>\n",
       "      <td>925960697</td>\n",
       "      <td>1299.77</td>\n",
       "      <td>8146224</td>\n",
       "    </tr>\n",
       "    <tr>\n",
       "      <th>United States</th>\n",
       "      <td>385440</td>\n",
       "      <td>575514</td>\n",
       "      <td>4508454430</td>\n",
       "      <td>2485.52</td>\n",
       "      <td>9537960</td>\n",
       "    </tr>\n",
       "    <tr>\n",
       "      <th>Uruguay</th>\n",
       "      <td>361308</td>\n",
       "      <td>8333</td>\n",
       "      <td>46571743</td>\n",
       "      <td>3877.36</td>\n",
       "      <td>1784772</td>\n",
       "    </tr>\n",
       "    <tr>\n",
       "      <th>Uzbekistan</th>\n",
       "      <td>289008</td>\n",
       "      <td>19680</td>\n",
       "      <td>293989116</td>\n",
       "      <td>982.16</td>\n",
       "      <td>170292</td>\n",
       "    </tr>\n",
       "  </tbody>\n",
       "</table>\n",
       "<p>98 rows × 5 columns</p>\n",
       "</div>"
      ],
      "text/plain": [
       "                        Year  SuicidesNo  Population  Suicides/100kPop  \\\n",
       "Country                                                                  \n",
       "Albania               264660         956    30706067            446.38   \n",
       "Antigua and Barbuda   337188           9     1164590            146.90   \n",
       "Argentina             385440       48927   585500629           1955.73   \n",
       "Armenia               357492        1004    43460973            557.41   \n",
       "Aruba                 288792          84     1104162           1172.54   \n",
       "...                      ...         ...         ...               ...   \n",
       "United Arab Emirates  144540         622    36502275             94.89   \n",
       "United Kingdom        385440       68815   925960697           1299.77   \n",
       "United States         385440      575514  4508454430           2485.52   \n",
       "Uruguay               361308        8333    46571743           3877.36   \n",
       "Uzbekistan            289008       19680   293989116            982.16   \n",
       "\n",
       "                      GdpPerCapital($)  \n",
       "Country                                 \n",
       "Albania                         388020  \n",
       "Antigua and Barbuda            2200824  \n",
       "Argentina                      1780188  \n",
       "Armenia                         499376  \n",
       "Aruba                          3601524  \n",
       "...                                ...  \n",
       "United Arab Emirates           3035664  \n",
       "United Kingdom                 8146224  \n",
       "United States                  9537960  \n",
       "Uruguay                        1784772  \n",
       "Uzbekistan                      170292  \n",
       "\n",
       "[98 rows x 5 columns]"
      ]
     },
     "execution_count": 16,
     "metadata": {},
     "output_type": "execute_result"
    }
   ],
   "source": [
    "#Checkking countries for bad values\n",
    "countryStats = global_suicide_data.groupby('Country').sum()\n",
    "countryStats"
   ]
  },
  {
   "cell_type": "code",
   "execution_count": 17,
   "metadata": {},
   "outputs": [],
   "source": [
    "#dropping countries with bad data\n",
    "country_1 = global_suicide_data['Country'] != 'Antigua'\n",
    "country_2 = global_suicide_data['Country'] != 'Barbados'\n",
    "country_3 = global_suicide_data['Country'] != 'Grenada'\n",
    "country_4 = global_suicide_data['Country'] != 'Maldives'\n",
    "country_5 = global_suicide_data['Country'] != 'Montenegro'\n",
    "country_6 = global_suicide_data['Country'] != 'Saint Vincent'\n",
    "\n",
    "country_all = country_1 | country_2 | country_3 | country_4 | country_5 | country_6\n",
    "global_suicide_data= global_suicide_data[country_all]"
   ]
  },
  {
   "cell_type": "code",
   "execution_count": 18,
   "metadata": {},
   "outputs": [],
   "source": [
    "#removing 2016 due to being incomplete\n",
    "global_suicide_data = global_suicide_data[global_suicide_data.Year != 2016]"
   ]
  },
  {
   "cell_type": "code",
   "execution_count": 19,
   "metadata": {},
   "outputs": [
    {
     "data": {
      "text/plain": [
       "(16008, 10)"
      ]
     },
     "execution_count": 19,
     "metadata": {},
     "output_type": "execute_result"
    }
   ],
   "source": [
    "global_suicide_data.shape"
   ]
  },
  {
   "cell_type": "code",
   "execution_count": 20,
   "metadata": {},
   "outputs": [
    {
     "data": {
      "text/html": [
       "<div>\n",
       "<style scoped>\n",
       "    .dataframe tbody tr th:only-of-type {\n",
       "        vertical-align: middle;\n",
       "    }\n",
       "\n",
       "    .dataframe tbody tr th {\n",
       "        vertical-align: top;\n",
       "    }\n",
       "\n",
       "    .dataframe thead th {\n",
       "        text-align: right;\n",
       "    }\n",
       "</style>\n",
       "<table border=\"1\" class=\"dataframe\">\n",
       "  <thead>\n",
       "    <tr style=\"text-align: right;\">\n",
       "      <th></th>\n",
       "      <th>Country</th>\n",
       "      <th>Year</th>\n",
       "      <th>Gender</th>\n",
       "      <th>Age</th>\n",
       "      <th>SuicidesNo</th>\n",
       "      <th>Population</th>\n",
       "      <th>Suicides/100kPop</th>\n",
       "      <th>GdpForYear($)</th>\n",
       "      <th>GdpPerCapital($)</th>\n",
       "      <th>Generation</th>\n",
       "    </tr>\n",
       "  </thead>\n",
       "  <tbody>\n",
       "    <tr>\n",
       "      <th>17254</th>\n",
       "      <td>Netherlands</td>\n",
       "      <td>2000</td>\n",
       "      <td>female</td>\n",
       "      <td>25-34 years</td>\n",
       "      <td>67</td>\n",
       "      <td>1212404</td>\n",
       "      <td>5.53</td>\n",
       "      <td>412,807,259,996</td>\n",
       "      <td>27644</td>\n",
       "      <td>Generation X</td>\n",
       "    </tr>\n",
       "    <tr>\n",
       "      <th>26294</th>\n",
       "      <td>Ukraine</td>\n",
       "      <td>2005</td>\n",
       "      <td>male</td>\n",
       "      <td>5-14 years</td>\n",
       "      <td>49</td>\n",
       "      <td>2506950</td>\n",
       "      <td>1.95</td>\n",
       "      <td>86,142,018,069</td>\n",
       "      <td>1917</td>\n",
       "      <td>Millenials</td>\n",
       "    </tr>\n",
       "    <tr>\n",
       "      <th>23397</th>\n",
       "      <td>South Africa</td>\n",
       "      <td>2005</td>\n",
       "      <td>male</td>\n",
       "      <td>25-34 years</td>\n",
       "      <td>123</td>\n",
       "      <td>4115079</td>\n",
       "      <td>2.99</td>\n",
       "      <td>257,671,413,751</td>\n",
       "      <td>5914</td>\n",
       "      <td>Generation X</td>\n",
       "    </tr>\n",
       "    <tr>\n",
       "      <th>1336</th>\n",
       "      <td>Aruba</td>\n",
       "      <td>2004</td>\n",
       "      <td>female</td>\n",
       "      <td>35-54 years</td>\n",
       "      <td>0</td>\n",
       "      <td>17769</td>\n",
       "      <td>0.00</td>\n",
       "      <td>2,228,279,330</td>\n",
       "      <td>24133</td>\n",
       "      <td>Boomers</td>\n",
       "    </tr>\n",
       "    <tr>\n",
       "      <th>26668</th>\n",
       "      <td>United Kingdom</td>\n",
       "      <td>2001</td>\n",
       "      <td>male</td>\n",
       "      <td>25-34 years</td>\n",
       "      <td>723</td>\n",
       "      <td>4243590</td>\n",
       "      <td>17.04</td>\n",
       "      <td>1,621,510,004,318</td>\n",
       "      <td>29179</td>\n",
       "      <td>Generation X</td>\n",
       "    </tr>\n",
       "    <tr>\n",
       "      <th>8322</th>\n",
       "      <td>El Salvador</td>\n",
       "      <td>2012</td>\n",
       "      <td>male</td>\n",
       "      <td>15-24 years</td>\n",
       "      <td>100</td>\n",
       "      <td>618195</td>\n",
       "      <td>16.18</td>\n",
       "      <td>21,386,153,000</td>\n",
       "      <td>3806</td>\n",
       "      <td>Millenials</td>\n",
       "    </tr>\n",
       "    <tr>\n",
       "      <th>20482</th>\n",
       "      <td>Republic of Korea</td>\n",
       "      <td>2006</td>\n",
       "      <td>male</td>\n",
       "      <td>75+ years</td>\n",
       "      <td>722</td>\n",
       "      <td>466922</td>\n",
       "      <td>154.63</td>\n",
       "      <td>1,011,797,457,139</td>\n",
       "      <td>21753</td>\n",
       "      <td>Silent</td>\n",
       "    </tr>\n",
       "    <tr>\n",
       "      <th>25234</th>\n",
       "      <td>Thailand</td>\n",
       "      <td>2010</td>\n",
       "      <td>male</td>\n",
       "      <td>15-24 years</td>\n",
       "      <td>387</td>\n",
       "      <td>4905031</td>\n",
       "      <td>7.89</td>\n",
       "      <td>341,105,009,515</td>\n",
       "      <td>5707</td>\n",
       "      <td>Millenials</td>\n",
       "    </tr>\n",
       "    <tr>\n",
       "      <th>27436</th>\n",
       "      <td>Uruguay</td>\n",
       "      <td>2005</td>\n",
       "      <td>male</td>\n",
       "      <td>75+ years</td>\n",
       "      <td>55</td>\n",
       "      <td>71161</td>\n",
       "      <td>77.29</td>\n",
       "      <td>17,362,857,684</td>\n",
       "      <td>5655</td>\n",
       "      <td>Silent</td>\n",
       "    </tr>\n",
       "    <tr>\n",
       "      <th>20480</th>\n",
       "      <td>Republic of Korea</td>\n",
       "      <td>2005</td>\n",
       "      <td>female</td>\n",
       "      <td>5-14 years</td>\n",
       "      <td>20</td>\n",
       "      <td>3223612</td>\n",
       "      <td>0.62</td>\n",
       "      <td>898,137,194,716</td>\n",
       "      <td>19460</td>\n",
       "      <td>Millenials</td>\n",
       "    </tr>\n",
       "  </tbody>\n",
       "</table>\n",
       "</div>"
      ],
      "text/plain": [
       "                 Country  Year  Gender          Age  SuicidesNo  Population  \\\n",
       "17254        Netherlands  2000  female  25-34 years          67     1212404   \n",
       "26294            Ukraine  2005    male   5-14 years          49     2506950   \n",
       "23397       South Africa  2005    male  25-34 years         123     4115079   \n",
       "1336               Aruba  2004  female  35-54 years           0       17769   \n",
       "26668     United Kingdom  2001    male  25-34 years         723     4243590   \n",
       "8322         El Salvador  2012    male  15-24 years         100      618195   \n",
       "20482  Republic of Korea  2006    male    75+ years         722      466922   \n",
       "25234           Thailand  2010    male  15-24 years         387     4905031   \n",
       "27436            Uruguay  2005    male    75+ years          55       71161   \n",
       "20480  Republic of Korea  2005  female   5-14 years          20     3223612   \n",
       "\n",
       "       Suicides/100kPop      GdpForYear($)  GdpPerCapital($)    Generation  \n",
       "17254              5.53    412,807,259,996             27644  Generation X  \n",
       "26294              1.95     86,142,018,069              1917    Millenials  \n",
       "23397              2.99    257,671,413,751              5914  Generation X  \n",
       "1336               0.00      2,228,279,330             24133       Boomers  \n",
       "26668             17.04  1,621,510,004,318             29179  Generation X  \n",
       "8322              16.18     21,386,153,000              3806    Millenials  \n",
       "20482            154.63  1,011,797,457,139             21753        Silent  \n",
       "25234              7.89    341,105,009,515              5707    Millenials  \n",
       "27436             77.29     17,362,857,684              5655        Silent  \n",
       "20480              0.62    898,137,194,716             19460    Millenials  "
      ]
     },
     "execution_count": 20,
     "metadata": {},
     "output_type": "execute_result"
    }
   ],
   "source": [
    "global_suicide_data.sample(10)"
   ]
  },
  {
   "cell_type": "code",
   "execution_count": 21,
   "metadata": {},
   "outputs": [
    {
     "data": {
      "text/plain": [
       "array(['Albania', 'Antigua and Barbuda', 'Argentina', 'Armenia', 'Aruba',\n",
       "       'Australia', 'Austria', 'Azerbaijan', 'Bahamas', 'Bahrain',\n",
       "       'Barbados', 'Belarus', 'Belgium', 'Belize',\n",
       "       'Bosnia and Herzegovina', 'Brazil', 'Bulgaria', 'Cabo Verde',\n",
       "       'Canada', 'Chile', 'Colombia', 'Costa Rica', 'Croatia', 'Cuba',\n",
       "       'Cyprus', 'Czech Republic', 'Denmark', 'Ecuador', 'El Salvador',\n",
       "       'Estonia', 'Fiji', 'Finland', 'France', 'Georgia', 'Germany',\n",
       "       'Greece', 'Grenada', 'Guatemala', 'Guyana', 'Hungary', 'Iceland',\n",
       "       'Ireland', 'Israel', 'Italy', 'Jamaica', 'Japan', 'Kazakhstan',\n",
       "       'Kiribati', 'Kuwait', 'Kyrgyzstan', 'Latvia', 'Lithuania',\n",
       "       'Luxembourg', 'Maldives', 'Malta', 'Mauritius', 'Mexico',\n",
       "       'Montenegro', 'Netherlands', 'New Zealand', 'Nicaragua', 'Norway',\n",
       "       'Oman', 'Panama', 'Paraguay', 'Philippines', 'Poland', 'Portugal',\n",
       "       'Puerto Rico', 'Qatar', 'Republic of Korea', 'Romania',\n",
       "       'Russian Federation', 'Saint Lucia',\n",
       "       'Saint Vincent and Grenadines', 'San Marino', 'Serbia',\n",
       "       'Seychelles', 'Singapore', 'Slovakia', 'Slovenia', 'South Africa',\n",
       "       'Spain', 'Sri Lanka', 'Suriname', 'Sweden', 'Switzerland',\n",
       "       'Thailand', 'Trinidad and Tobago', 'Turkey', 'Turkmenistan',\n",
       "       'Ukraine', 'United Arab Emirates', 'United Kingdom',\n",
       "       'United States', 'Uruguay', 'Uzbekistan'], dtype=object)"
      ]
     },
     "execution_count": 21,
     "metadata": {},
     "output_type": "execute_result"
    }
   ],
   "source": [
    "global_suicide_data.Country.unique()"
   ]
  },
  {
   "cell_type": "code",
   "execution_count": 22,
   "metadata": {},
   "outputs": [],
   "source": [
    "\n",
    "#create lists of countries per continent\n",
    "europe = ['Albania', 'Austria', 'Azerbaijan', 'Belarus', 'Belgium', 'Bosnia and Herzegovina', 'Bulgaria', 'Croatia', 'Cyprus', 'Czech Republic', 'Denmark', 'Estonia', 'Finland', 'France', 'Georgia', 'Germany', 'Greece', 'Hungary', 'Iceland', 'Ireland', 'Italy', 'Latvia', 'Lithuania', 'Luxembourg', 'Malta', 'Montenegro', 'Netherlands', 'Norway', 'Poland', 'Portugal', 'Romania', 'Russian Federation', 'San Marino', 'Serbia', 'Slovakia', 'Slovenia', 'Spain', 'Sweden', 'Switzerland', 'Ukraine', 'United Kingdom'] \n",
    "asia = ['Armenia', 'Bahrain', 'Israel', 'Japan', 'Kazakhstan', 'Kuwait', 'Kyrgyzstan', 'Macau', 'Maldives', 'Mongolia', 'Oman', 'Philippines', 'Qatar', 'Republic of Korea', 'Singapore', 'Sri Lanka', 'Thailand', 'Turkey', 'Turkmenistan', 'United Arab Emirates', 'Uzbekistan']\n",
    "northamerica = ['Antigua and Barbuda', 'Bahamas', 'Barbados', 'Belize', 'Canada', 'Costa Rica', 'Cuba', 'Dominica', 'El Salvador', 'Grenada', 'Guatemala', 'Jamaica', 'Mexico', 'Nicaragua', 'Panama', 'Puerto Rico', 'Saint Kitts and Nevis', 'Saint Lucia', 'Saint Vincent and Grenadines', 'United States']\n",
    "southamerica =  ['Argentina', 'Aruba', 'Brazil', 'Chile', 'Colombia', 'Ecuador', 'Guyana', 'Paraguay', 'Suriname', 'Trinidad and Tobago', 'Uruguay']\n",
    "africa = ['Cabo Verde', 'Mauritius', 'Seychelles', 'South Africa'] \n",
    "australiaoceania = ['Australia', 'Fiji', 'Kiribati', 'New Zealand']"
   ]
  },
  {
   "cell_type": "code",
   "execution_count": 23,
   "metadata": {},
   "outputs": [],
   "source": [
    "#move these to a dictionary of continents\n",
    "continents = {country: 'Asia' for country in asia}\n",
    "continents.update({country: 'Europe' for country in europe})\n",
    "continents.update({country: 'Africa' for country in africa})\n",
    "continents.update({country: 'North_America' for country in northamerica})\n",
    "continents.update({country: 'South_America' for country in southamerica})\n",
    "continents.update({country: 'Australia_Oceania' for country in australiaoceania})"
   ]
  },
  {
   "cell_type": "code",
   "execution_count": 24,
   "metadata": {},
   "outputs": [
    {
     "data": {
      "text/plain": [
       "array(['Albania', 'Antigua and Barbuda', 'Argentina', 'Armenia', 'Aruba',\n",
       "       'Australia', 'Austria', 'Azerbaijan', 'Bahamas', 'Bahrain',\n",
       "       'Barbados', 'Belarus', 'Belgium', 'Belize',\n",
       "       'Bosnia and Herzegovina', 'Brazil', 'Bulgaria', 'Cabo Verde',\n",
       "       'Canada', 'Chile', 'Colombia', 'Costa Rica', 'Croatia', 'Cuba',\n",
       "       'Cyprus', 'Czech Republic', 'Denmark', 'Ecuador', 'El Salvador',\n",
       "       'Estonia', 'Fiji', 'Finland', 'France', 'Georgia', 'Germany',\n",
       "       'Greece', 'Grenada', 'Guatemala', 'Guyana', 'Hungary', 'Iceland',\n",
       "       'Ireland', 'Israel', 'Italy', 'Jamaica', 'Japan', 'Kazakhstan',\n",
       "       'Kiribati', 'Kuwait', 'Kyrgyzstan', 'Latvia', 'Lithuania',\n",
       "       'Luxembourg', 'Maldives', 'Malta', 'Mauritius', 'Mexico',\n",
       "       'Montenegro', 'Netherlands', 'New Zealand', 'Nicaragua', 'Norway',\n",
       "       'Oman', 'Panama', 'Paraguay', 'Philippines', 'Poland', 'Portugal',\n",
       "       'Puerto Rico', 'Qatar', 'Republic of Korea', 'Romania',\n",
       "       'Russian Federation', 'Saint Lucia',\n",
       "       'Saint Vincent and Grenadines', 'San Marino', 'Serbia',\n",
       "       'Seychelles', 'Singapore', 'Slovakia', 'Slovenia', 'South Africa',\n",
       "       'Spain', 'Sri Lanka', 'Suriname', 'Sweden', 'Switzerland',\n",
       "       'Thailand', 'Trinidad and Tobago', 'Turkey', 'Turkmenistan',\n",
       "       'Ukraine', 'United Arab Emirates', 'United Kingdom',\n",
       "       'United States', 'Uruguay', 'Uzbekistan'], dtype=object)"
      ]
     },
     "execution_count": 24,
     "metadata": {},
     "output_type": "execute_result"
    }
   ],
   "source": [
    "global_suicide_data.Country.unique()"
   ]
  },
  {
   "cell_type": "code",
   "execution_count": 25,
   "metadata": {},
   "outputs": [],
   "source": [
    "#map continents to countries\n",
    "global_suicide_data['Continent'] = global_suicide_data['Country'].map(continents)"
   ]
  },
  {
   "cell_type": "code",
   "execution_count": 26,
   "metadata": {},
   "outputs": [
    {
     "data": {
      "text/plain": [
       "(16008, 11)"
      ]
     },
     "execution_count": 26,
     "metadata": {},
     "output_type": "execute_result"
    }
   ],
   "source": [
    "global_suicide_data.shape"
   ]
  },
  {
   "cell_type": "code",
   "execution_count": 27,
   "metadata": {},
   "outputs": [
    {
     "data": {
      "text/plain": [
       "Year\n",
       "2000    255832\n",
       "2001    250652\n",
       "2002    256095\n",
       "2003    256079\n",
       "2004    240861\n",
       "2005    234375\n",
       "2006    233361\n",
       "2007    233408\n",
       "2008    235447\n",
       "2009    243487\n",
       "2010    238702\n",
       "2011    236484\n",
       "2012    230160\n",
       "2013    223199\n",
       "2014    222984\n",
       "2015    203640\n",
       "Name: SuicidesNo, dtype: int64"
      ]
     },
     "execution_count": 27,
     "metadata": {},
     "output_type": "execute_result"
    }
   ],
   "source": [
    "data_per_year = global_suicide_data.groupby('Year').sum()\n",
    "data_per_year['SuicidesNo']"
   ]
  },
  {
   "cell_type": "code",
   "execution_count": 28,
   "metadata": {},
   "outputs": [],
   "source": [
    "plt.rcParams['figure.figsize'] = [12, 8]\n",
    "plt.close()"
   ]
  },
  {
   "cell_type": "code",
   "execution_count": 29,
   "metadata": {},
   "outputs": [
    {
     "data": {
      "image/png": "[encoded data removed]",
      "text/plain": [
       "<Figure size 432x72 with 1 Axes>"
      ]
     },
     "metadata": {},
     "output_type": "display_data"
    }
   ],
   "source": [
    "flatui = [\"#6cdae7\", \"#fd3a4a\", \"#ffaa1d\", \"#ff23e5\", \"#34495e\", \"#2ecc71\"]\n",
    "sns.set_palette(flatui)\n",
    "sns.palplot(sns.color_palette())"
   ]
  },
  {
   "cell_type": "code",
   "execution_count": 30,
   "metadata": {},
   "outputs": [
    {
     "data": {
      "image/png": "[encoded data removed]",
      "text/plain": [
       "<Figure size 576x432 with 1 Axes>"
      ]
     },
     "metadata": {},
     "output_type": "display_data"
    }
   ],
   "source": [
    "curr = global_suicide_data.dropna().groupby(['Year']).sum().reset_index()\n",
    "curr['per_100k'] = curr['SuicidesNo'] * 100000 / curr['Population']\n",
    "plt.figure(figsize = (8,6))\n",
    "plt.plot(curr['Year'], curr['per_100k'], label = \"Suicide Rate\")\n",
    "plt.plot(curr['Year'], [curr['per_100k'].mean()] * len(curr), '--', label = \"Mean\")\n",
    "plt.title(\"Global Suicide Rate from 1985 to 2015\", fontsize = 16)\n",
    "plt.xlabel(\"Year\", fontsize = 14)\n",
    "plt.ylabel(\"Suicide Rate per 100,000\", fontsize = 14)\n",
    "plt.legend()\n",
    "plt.show()\n"
   ]
  },
  {
   "cell_type": "code",
   "execution_count": 31,
   "metadata": {},
   "outputs": [
    {
     "data": {
      "text/html": [
       "<div>\n",
       "<style scoped>\n",
       "    .dataframe tbody tr th:only-of-type {\n",
       "        vertical-align: middle;\n",
       "    }\n",
       "\n",
       "    .dataframe tbody tr th {\n",
       "        vertical-align: top;\n",
       "    }\n",
       "\n",
       "    .dataframe thead th {\n",
       "        text-align: right;\n",
       "    }\n",
       "</style>\n",
       "<table border=\"1\" class=\"dataframe\">\n",
       "  <thead>\n",
       "    <tr style=\"text-align: right;\">\n",
       "      <th></th>\n",
       "      <th>Year</th>\n",
       "      <th>SuicidesNo</th>\n",
       "      <th>Population</th>\n",
       "      <th>Suicides/100kPop</th>\n",
       "      <th>GdpPerCapital($)</th>\n",
       "    </tr>\n",
       "    <tr>\n",
       "      <th>Continent</th>\n",
       "      <th></th>\n",
       "      <th></th>\n",
       "      <th></th>\n",
       "      <th></th>\n",
       "      <th></th>\n",
       "    </tr>\n",
       "  </thead>\n",
       "  <tbody>\n",
       "    <tr>\n",
       "      <th>Africa</th>\n",
       "      <td>2007.729167</td>\n",
       "      <td>14.770833</td>\n",
       "      <td>1.280232e+06</td>\n",
       "      <td>6.163090</td>\n",
       "      <td>8369.833333</td>\n",
       "    </tr>\n",
       "    <tr>\n",
       "      <th>Asia</th>\n",
       "      <td>2007.430380</td>\n",
       "      <td>307.735584</td>\n",
       "      <td>2.075328e+06</td>\n",
       "      <td>10.571902</td>\n",
       "      <td>20760.978903</td>\n",
       "    </tr>\n",
       "    <tr>\n",
       "      <th>Australia_Oceania</th>\n",
       "      <td>2006.547619</td>\n",
       "      <td>86.882937</td>\n",
       "      <td>7.198890e+05</td>\n",
       "      <td>9.840972</td>\n",
       "      <td>27726.380952</td>\n",
       "    </tr>\n",
       "    <tr>\n",
       "      <th>Europe</th>\n",
       "      <td>2007.324232</td>\n",
       "      <td>259.448379</td>\n",
       "      <td>1.537148e+06</td>\n",
       "      <td>15.605151</td>\n",
       "      <td>28637.912969</td>\n",
       "    </tr>\n",
       "    <tr>\n",
       "      <th>North_America</th>\n",
       "      <td>2007.281853</td>\n",
       "      <td>242.648970</td>\n",
       "      <td>2.333570e+06</td>\n",
       "      <td>6.508729</td>\n",
       "      <td>14040.142857</td>\n",
       "    </tr>\n",
       "    <tr>\n",
       "      <th>South_America</th>\n",
       "      <td>2007.049383</td>\n",
       "      <td>148.495370</td>\n",
       "      <td>2.391359e+06</td>\n",
       "      <td>12.942932</td>\n",
       "      <td>8610.216049</td>\n",
       "    </tr>\n",
       "  </tbody>\n",
       "</table>\n",
       "</div>"
      ],
      "text/plain": [
       "                          Year  SuicidesNo    Population  Suicides/100kPop  \\\n",
       "Continent                                                                    \n",
       "Africa             2007.729167   14.770833  1.280232e+06          6.163090   \n",
       "Asia               2007.430380  307.735584  2.075328e+06         10.571902   \n",
       "Australia_Oceania  2006.547619   86.882937  7.198890e+05          9.840972   \n",
       "Europe             2007.324232  259.448379  1.537148e+06         15.605151   \n",
       "North_America      2007.281853  242.648970  2.333570e+06          6.508729   \n",
       "South_America      2007.049383  148.495370  2.391359e+06         12.942932   \n",
       "\n",
       "                   GdpPerCapital($)  \n",
       "Continent                            \n",
       "Africa                  8369.833333  \n",
       "Asia                   20760.978903  \n",
       "Australia_Oceania      27726.380952  \n",
       "Europe                 28637.912969  \n",
       "North_America          14040.142857  \n",
       "South_America           8610.216049  "
      ]
     },
     "execution_count": 31,
     "metadata": {},
     "output_type": "execute_result"
    }
   ],
   "source": [
    "#group data by continent\n",
    "data_per_continent = global_suicide_data.groupby('Continent').mean()\n",
    "data_per_continent"
   ]
  },
  {
   "cell_type": "code",
   "execution_count": 32,
   "metadata": {},
   "outputs": [
    {
     "data": {
      "image/png": "[encoded data removed]",
      "text/plain": [
       "<Figure size 1080x720 with 1 Axes>"
      ]
     },
     "metadata": {},
     "output_type": "display_data"
    }
   ],
   "source": [
    "#plot mean suicides/year by continent\n",
    "ax = data_per_continent['Suicides/100kPop'].plot(kind='bar', figsize=(15, 10), fontsize=14)\n",
    "plt.title('Mean Suicides/Year by Continent', fontsize = 22)\n",
    "ax.set_xlabel(\"Continent\", fontsize=20)\n",
    "ax.set_ylabel(\"Suicides/100k Population\", fontsize=20)\n",
    "plt.show()"
   ]
  },
  {
   "cell_type": "code",
   "execution_count": 33,
   "metadata": {},
   "outputs": [
    {
     "data": {
      "text/html": [
       "<div>\n",
       "<style scoped>\n",
       "    .dataframe tbody tr th:only-of-type {\n",
       "        vertical-align: middle;\n",
       "    }\n",
       "\n",
       "    .dataframe tbody tr th {\n",
       "        vertical-align: top;\n",
       "    }\n",
       "\n",
       "    .dataframe thead th {\n",
       "        text-align: right;\n",
       "    }\n",
       "</style>\n",
       "<table border=\"1\" class=\"dataframe\">\n",
       "  <thead>\n",
       "    <tr style=\"text-align: right;\">\n",
       "      <th></th>\n",
       "      <th>Continent</th>\n",
       "      <th>Year</th>\n",
       "      <th>Suicides/100kPop</th>\n",
       "    </tr>\n",
       "  </thead>\n",
       "  <tbody>\n",
       "    <tr>\n",
       "      <th>132</th>\n",
       "      <td>Europe</td>\n",
       "      <td>2000</td>\n",
       "      <td>7.33</td>\n",
       "    </tr>\n",
       "    <tr>\n",
       "      <th>133</th>\n",
       "      <td>Europe</td>\n",
       "      <td>2000</td>\n",
       "      <td>5.64</td>\n",
       "    </tr>\n",
       "    <tr>\n",
       "      <th>134</th>\n",
       "      <td>Europe</td>\n",
       "      <td>2000</td>\n",
       "      <td>5.29</td>\n",
       "    </tr>\n",
       "    <tr>\n",
       "      <th>135</th>\n",
       "      <td>Europe</td>\n",
       "      <td>2000</td>\n",
       "      <td>4.02</td>\n",
       "    </tr>\n",
       "    <tr>\n",
       "      <th>136</th>\n",
       "      <td>Europe</td>\n",
       "      <td>2000</td>\n",
       "      <td>2.27</td>\n",
       "    </tr>\n",
       "    <tr>\n",
       "      <th>...</th>\n",
       "      <td>...</td>\n",
       "      <td>...</td>\n",
       "      <td>...</td>\n",
       "    </tr>\n",
       "    <tr>\n",
       "      <th>27815</th>\n",
       "      <td>Asia</td>\n",
       "      <td>2014</td>\n",
       "      <td>2.96</td>\n",
       "    </tr>\n",
       "    <tr>\n",
       "      <th>27816</th>\n",
       "      <td>Asia</td>\n",
       "      <td>2014</td>\n",
       "      <td>2.58</td>\n",
       "    </tr>\n",
       "    <tr>\n",
       "      <th>27817</th>\n",
       "      <td>Asia</td>\n",
       "      <td>2014</td>\n",
       "      <td>2.17</td>\n",
       "    </tr>\n",
       "    <tr>\n",
       "      <th>27818</th>\n",
       "      <td>Asia</td>\n",
       "      <td>2014</td>\n",
       "      <td>1.67</td>\n",
       "    </tr>\n",
       "    <tr>\n",
       "      <th>27819</th>\n",
       "      <td>Asia</td>\n",
       "      <td>2014</td>\n",
       "      <td>1.46</td>\n",
       "    </tr>\n",
       "  </tbody>\n",
       "</table>\n",
       "<p>16008 rows × 3 columns</p>\n",
       "</div>"
      ],
      "text/plain": [
       "      Continent  Year  Suicides/100kPop\n",
       "132      Europe  2000              7.33\n",
       "133      Europe  2000              5.64\n",
       "134      Europe  2000              5.29\n",
       "135      Europe  2000              4.02\n",
       "136      Europe  2000              2.27\n",
       "...         ...   ...               ...\n",
       "27815      Asia  2014              2.96\n",
       "27816      Asia  2014              2.58\n",
       "27817      Asia  2014              2.17\n",
       "27818      Asia  2014              1.67\n",
       "27819      Asia  2014              1.46\n",
       "\n",
       "[16008 rows x 3 columns]"
      ]
     },
     "execution_count": 33,
     "metadata": {},
     "output_type": "execute_result"
    }
   ],
   "source": [
    "\n",
    "dftesting = global_suicide_data[['Continent','Year','Suicides/100kPop']]\n",
    "dftesting"
   ]
  },
  {
   "cell_type": "code",
   "execution_count": 34,
   "metadata": {},
   "outputs": [],
   "source": [
    "dfAgg = dftesting.groupby(['Continent','Year'],sort=True,as_index=False)['Suicides/100kPop'].mean()"
   ]
  },
  {
   "cell_type": "code",
   "execution_count": 35,
   "metadata": {},
   "outputs": [
    {
     "data": {
      "text/plain": [
       "<function matplotlib.pyplot.show(*args, **kw)>"
      ]
     },
     "execution_count": 35,
     "metadata": {},
     "output_type": "execute_result"
    },
    {
     "data": {
      "image/png": "[encoded data removed]",
      "text/plain": [
       "<Figure size 864x576 with 1 Axes>"
      ]
     },
     "metadata": {},
     "output_type": "display_data"
    }
   ],
   "source": [
    "#plotting mean suicide/100k by continent, year by year\n",
    "by_cont = dfAgg.groupby('Continent')\n",
    "\n",
    "for name, group in by_cont:\n",
    "    plt.plot(group['Year'], group['Suicides/100kPop'], label=name, linewidth=6.0)\n",
    "    \n",
    "\n",
    "plt.title('Mean Suicide/100k, Year by Year, per Continent', fontsize = 22)\n",
    "plt.ylabel('Suicides/100k', fontsize = 20)\n",
    "plt.xlabel('Year', fontsize = 20)\n",
    "leg = plt.legend(fontsize = 12)\n",
    "for line in leg.get_lines():\n",
    "    line.set_linewidth(10)\n",
    "plt.show"
   ]
  },
  {
   "cell_type": "code",
   "execution_count": 36,
   "metadata": {},
   "outputs": [
    {
     "data": {
      "text/plain": [
       "Text(0.5, 0, 'Country')"
      ]
     },
     "execution_count": 36,
     "metadata": {},
     "output_type": "execute_result"
    },
    {
     "data": {
      "image/png": "[encoded data removed]",
      "text/plain": [
       "<Figure size 1080x288 with 1 Axes>"
      ]
     },
     "metadata": {},
     "output_type": "display_data"
    }
   ],
   "source": [
    "#plotting countries with the highest suicide rate\n",
    "data_suicide_mean = global_suicide_data['Suicides/100kPop'].groupby(global_suicide_data.Country).mean().sort_values(ascending=False)\n",
    "f,ax = plt.subplots(1,1,figsize=(15,4))\n",
    "ax = sns.barplot(data_suicide_mean.head(10).index,data_suicide_mean.head(10))\n",
    "plt.ylabel('Suicides/100k', fontsize = 20)\n",
    "plt.xlabel('Country', fontsize = 20)"
   ]
  },
  {
   "cell_type": "code",
   "execution_count": 37,
   "metadata": {},
   "outputs": [],
   "source": [
    "#creating sub frame for USA only \n",
    "dfUSA = global_suicide_data[global_suicide_data.Country == 'United States']\n",
    "usa_by_year = dfUSA.groupby('Year').sum()"
   ]
  },
  {
   "cell_type": "code",
   "execution_count": 38,
   "metadata": {},
   "outputs": [
    {
     "data": {
      "text/html": [
       "<div>\n",
       "<style scoped>\n",
       "    .dataframe tbody tr th:only-of-type {\n",
       "        vertical-align: middle;\n",
       "    }\n",
       "\n",
       "    .dataframe tbody tr th {\n",
       "        vertical-align: top;\n",
       "    }\n",
       "\n",
       "    .dataframe thead th {\n",
       "        text-align: right;\n",
       "    }\n",
       "</style>\n",
       "<table border=\"1\" class=\"dataframe\">\n",
       "  <thead>\n",
       "    <tr style=\"text-align: right;\">\n",
       "      <th></th>\n",
       "      <th>Year</th>\n",
       "      <th>SuicidesNo</th>\n",
       "      <th>Population</th>\n",
       "      <th>Suicides/100kPop</th>\n",
       "      <th>GdpPerCapital($)</th>\n",
       "    </tr>\n",
       "  </thead>\n",
       "  <tbody>\n",
       "    <tr>\n",
       "      <th>Year</th>\n",
       "      <td>1.000000</td>\n",
       "      <td>0.120717</td>\n",
       "      <td>0.092452</td>\n",
       "      <td>0.062626</td>\n",
       "      <td>0.982037</td>\n",
       "    </tr>\n",
       "    <tr>\n",
       "      <th>SuicidesNo</th>\n",
       "      <td>0.120717</td>\n",
       "      <td>1.000000</td>\n",
       "      <td>0.605890</td>\n",
       "      <td>0.674699</td>\n",
       "      <td>0.116494</td>\n",
       "    </tr>\n",
       "    <tr>\n",
       "      <th>Population</th>\n",
       "      <td>0.092452</td>\n",
       "      <td>0.605890</td>\n",
       "      <td>1.000000</td>\n",
       "      <td>-0.035493</td>\n",
       "      <td>0.090906</td>\n",
       "    </tr>\n",
       "    <tr>\n",
       "      <th>Suicides/100kPop</th>\n",
       "      <td>0.062626</td>\n",
       "      <td>0.674699</td>\n",
       "      <td>-0.035493</td>\n",
       "      <td>1.000000</td>\n",
       "      <td>0.058545</td>\n",
       "    </tr>\n",
       "    <tr>\n",
       "      <th>GdpPerCapital($)</th>\n",
       "      <td>0.982037</td>\n",
       "      <td>0.116494</td>\n",
       "      <td>0.090906</td>\n",
       "      <td>0.058545</td>\n",
       "      <td>1.000000</td>\n",
       "    </tr>\n",
       "  </tbody>\n",
       "</table>\n",
       "</div>"
      ],
      "text/plain": [
       "                      Year  SuicidesNo  Population  Suicides/100kPop  \\\n",
       "Year              1.000000    0.120717    0.092452          0.062626   \n",
       "SuicidesNo        0.120717    1.000000    0.605890          0.674699   \n",
       "Population        0.092452    0.605890    1.000000         -0.035493   \n",
       "Suicides/100kPop  0.062626    0.674699   -0.035493          1.000000   \n",
       "GdpPerCapital($)  0.982037    0.116494    0.090906          0.058545   \n",
       "\n",
       "                  GdpPerCapital($)  \n",
       "Year                      0.982037  \n",
       "SuicidesNo                0.116494  \n",
       "Population                0.090906  \n",
       "Suicides/100kPop          0.058545  \n",
       "GdpPerCapital($)          1.000000  "
      ]
     },
     "execution_count": 38,
     "metadata": {},
     "output_type": "execute_result"
    }
   ],
   "source": [
    "dfUSA.corr(method ='pearson')"
   ]
  },
  {
   "cell_type": "code",
   "execution_count": 39,
   "metadata": {},
   "outputs": [
    {
     "data": {
      "text/plain": [
       "<matplotlib.axes._subplots.AxesSubplot at 0x7fc680fc1b38>"
      ]
     },
     "execution_count": 39,
     "metadata": {},
     "output_type": "execute_result"
    },
    {
     "data": {
      "image/png": "[encoded data removed]",
      "text/plain": [
       "<Figure size 864x576 with 2 Axes>"
      ]
     },
     "metadata": {},
     "output_type": "display_data"
    }
   ],
   "source": [
    "sns.heatmap(dfUSA.corr(method = 'pearson'),cmap='YlGnBu',annot=True)"
   ]
  },
  {
   "cell_type": "code",
   "execution_count": 40,
   "metadata": {},
   "outputs": [
    {
     "data": {
      "image/png": "[encoded data removed]",
      "text/plain": [
       "<Figure size 864x576 with 1 Axes>"
      ]
     },
     "metadata": {},
     "output_type": "display_data"
    }
   ],
   "source": [
    "usa_by_year['Suicides/100kPop'].plot()\n",
    "plt.title('USA Suicides Rate', fontsize = 22)\n",
    "plt.ylabel('Suicides/100k Population', fontsize = 20)\n",
    "plt.xlabel('Year', fontsize = 20)\n",
    "plt.show()"
   ]
  },
  {
   "cell_type": "code",
   "execution_count": 41,
   "metadata": {},
   "outputs": [],
   "source": [
    "\n",
    "#new data frame with only data from 2015\n",
    "df2015 = global_suicide_data[global_suicide_data.Year == 2015]"
   ]
  },
  {
   "cell_type": "code",
   "execution_count": 42,
   "metadata": {},
   "outputs": [],
   "source": [
    "df2015 = df2015[['Country','Suicides/100kPop','GdpPerCapital($)', 'Continent']]"
   ]
  },
  {
   "cell_type": "code",
   "execution_count": 58,
   "metadata": {},
   "outputs": [
    {
     "data": {
      "text/html": [
       "<div>\n",
       "<style scoped>\n",
       "    .dataframe tbody tr th:only-of-type {\n",
       "        vertical-align: middle;\n",
       "    }\n",
       "\n",
       "    .dataframe tbody tr th {\n",
       "        vertical-align: top;\n",
       "    }\n",
       "\n",
       "    .dataframe thead th {\n",
       "        text-align: right;\n",
       "    }\n",
       "</style>\n",
       "<table border=\"1\" class=\"dataframe\">\n",
       "  <thead>\n",
       "    <tr style=\"text-align: right;\">\n",
       "      <th></th>\n",
       "      <th>Suicides/100kPop</th>\n",
       "      <th>GdpPerCapital($)</th>\n",
       "    </tr>\n",
       "    <tr>\n",
       "      <th>Country</th>\n",
       "      <th></th>\n",
       "      <th></th>\n",
       "    </tr>\n",
       "  </thead>\n",
       "  <tbody>\n",
       "    <tr>\n",
       "      <th>Antigua and Barbuda</th>\n",
       "      <td>15.62</td>\n",
       "      <td>178236</td>\n",
       "    </tr>\n",
       "    <tr>\n",
       "      <th>Argentina</th>\n",
       "      <td>112.13</td>\n",
       "      <td>179772</td>\n",
       "    </tr>\n",
       "    <tr>\n",
       "      <th>Armenia</th>\n",
       "      <td>45.28</td>\n",
       "      <td>45300</td>\n",
       "    </tr>\n",
       "    <tr>\n",
       "      <th>Australia</th>\n",
       "      <td>154.18</td>\n",
       "      <td>727872</td>\n",
       "    </tr>\n",
       "    <tr>\n",
       "      <th>Austria</th>\n",
       "      <td>194.62</td>\n",
       "      <td>557808</td>\n",
       "    </tr>\n",
       "    <tr>\n",
       "      <th>...</th>\n",
       "      <td>...</td>\n",
       "      <td>...</td>\n",
       "    </tr>\n",
       "    <tr>\n",
       "      <th>Turkmenistan</th>\n",
       "      <td>28.48</td>\n",
       "      <td>87912</td>\n",
       "    </tr>\n",
       "    <tr>\n",
       "      <th>Ukraine</th>\n",
       "      <td>244.72</td>\n",
       "      <td>27072</td>\n",
       "    </tr>\n",
       "    <tr>\n",
       "      <th>United Kingdom</th>\n",
       "      <td>86.74</td>\n",
       "      <td>566880</td>\n",
       "    </tr>\n",
       "    <tr>\n",
       "      <th>United States</th>\n",
       "      <td>175.41</td>\n",
       "      <td>724644</td>\n",
       "    </tr>\n",
       "    <tr>\n",
       "      <th>Uruguay</th>\n",
       "      <td>270.02</td>\n",
       "      <td>200352</td>\n",
       "    </tr>\n",
       "  </tbody>\n",
       "</table>\n",
       "<p>62 rows × 2 columns</p>\n",
       "</div>"
      ],
      "text/plain": [
       "                     Suicides/100kPop  GdpPerCapital($)\n",
       "Country                                                \n",
       "Antigua and Barbuda             15.62            178236\n",
       "Argentina                      112.13            179772\n",
       "Armenia                         45.28             45300\n",
       "Australia                      154.18            727872\n",
       "Austria                        194.62            557808\n",
       "...                               ...               ...\n",
       "Turkmenistan                    28.48             87912\n",
       "Ukraine                        244.72             27072\n",
       "United Kingdom                  86.74            566880\n",
       "United States                  175.41            724644\n",
       "Uruguay                        270.02            200352\n",
       "\n",
       "[62 rows x 2 columns]"
      ]
     },
     "execution_count": 58,
     "metadata": {},
     "output_type": "execute_result"
    }
   ],
   "source": [
    "df2015check = df2015.groupby('Country').sum()\n",
    "df2015check"
   ]
  },
  {
   "cell_type": "code",
   "execution_count": 59,
   "metadata": {},
   "outputs": [],
   "source": [
    "df2015check['GdpPerCapital($)'] = df2015check['GdpPerCapital($)'].div(2)"
   ]
  },
  {
   "cell_type": "code",
   "execution_count": 60,
   "metadata": {},
   "outputs": [
    {
     "data": {
      "text/html": [
       "<div>\n",
       "<style scoped>\n",
       "    .dataframe tbody tr th:only-of-type {\n",
       "        vertical-align: middle;\n",
       "    }\n",
       "\n",
       "    .dataframe tbody tr th {\n",
       "        vertical-align: top;\n",
       "    }\n",
       "\n",
       "    .dataframe thead th {\n",
       "        text-align: right;\n",
       "    }\n",
       "</style>\n",
       "<table border=\"1\" class=\"dataframe\">\n",
       "  <thead>\n",
       "    <tr style=\"text-align: right;\">\n",
       "      <th></th>\n",
       "      <th>Country</th>\n",
       "      <th>Suicides/100kPop</th>\n",
       "      <th>GdpPerCapital($)</th>\n",
       "    </tr>\n",
       "  </thead>\n",
       "  <tbody>\n",
       "    <tr>\n",
       "      <th>0</th>\n",
       "      <td>Antigua and Barbuda</td>\n",
       "      <td>15.62</td>\n",
       "      <td>89118.0</td>\n",
       "    </tr>\n",
       "    <tr>\n",
       "      <th>1</th>\n",
       "      <td>Argentina</td>\n",
       "      <td>112.13</td>\n",
       "      <td>89886.0</td>\n",
       "    </tr>\n",
       "    <tr>\n",
       "      <th>2</th>\n",
       "      <td>Armenia</td>\n",
       "      <td>45.28</td>\n",
       "      <td>22650.0</td>\n",
       "    </tr>\n",
       "    <tr>\n",
       "      <th>3</th>\n",
       "      <td>Australia</td>\n",
       "      <td>154.18</td>\n",
       "      <td>363936.0</td>\n",
       "    </tr>\n",
       "    <tr>\n",
       "      <th>4</th>\n",
       "      <td>Austria</td>\n",
       "      <td>194.62</td>\n",
       "      <td>278904.0</td>\n",
       "    </tr>\n",
       "    <tr>\n",
       "      <th>...</th>\n",
       "      <td>...</td>\n",
       "      <td>...</td>\n",
       "      <td>...</td>\n",
       "    </tr>\n",
       "    <tr>\n",
       "      <th>57</th>\n",
       "      <td>Turkmenistan</td>\n",
       "      <td>28.48</td>\n",
       "      <td>43956.0</td>\n",
       "    </tr>\n",
       "    <tr>\n",
       "      <th>58</th>\n",
       "      <td>Ukraine</td>\n",
       "      <td>244.72</td>\n",
       "      <td>13536.0</td>\n",
       "    </tr>\n",
       "    <tr>\n",
       "      <th>59</th>\n",
       "      <td>United Kingdom</td>\n",
       "      <td>86.74</td>\n",
       "      <td>283440.0</td>\n",
       "    </tr>\n",
       "    <tr>\n",
       "      <th>60</th>\n",
       "      <td>United States</td>\n",
       "      <td>175.41</td>\n",
       "      <td>362322.0</td>\n",
       "    </tr>\n",
       "    <tr>\n",
       "      <th>61</th>\n",
       "      <td>Uruguay</td>\n",
       "      <td>270.02</td>\n",
       "      <td>100176.0</td>\n",
       "    </tr>\n",
       "  </tbody>\n",
       "</table>\n",
       "<p>62 rows × 3 columns</p>\n",
       "</div>"
      ],
      "text/plain": [
       "                Country  Suicides/100kPop  GdpPerCapital($)\n",
       "0   Antigua and Barbuda             15.62           89118.0\n",
       "1             Argentina            112.13           89886.0\n",
       "2               Armenia             45.28           22650.0\n",
       "3             Australia            154.18          363936.0\n",
       "4               Austria            194.62          278904.0\n",
       "..                  ...               ...               ...\n",
       "57         Turkmenistan             28.48           43956.0\n",
       "58              Ukraine            244.72           13536.0\n",
       "59       United Kingdom             86.74          283440.0\n",
       "60        United States            175.41          362322.0\n",
       "61              Uruguay            270.02          100176.0\n",
       "\n",
       "[62 rows x 3 columns]"
      ]
     },
     "execution_count": 60,
     "metadata": {},
     "output_type": "execute_result"
    }
   ],
   "source": [
    "df2015check.reset_index(level=0, inplace=True)\n",
    "df2015check"
   ]
  },
  {
   "cell_type": "code",
   "execution_count": 47,
   "metadata": {},
   "outputs": [
    {
     "data": {
      "image/png": "[encoded data removed]",
      "text/plain": [
       "<Figure size 864x576 with 1 Axes>"
      ]
     },
     "metadata": {},
     "output_type": "display_data"
    }
   ],
   "source": [
    "sns.scatterplot(x='GdpPerCapital($)', y='Suicides/100kPop', data=df2015check, hue='Country',legend=False) \n",
    "plt.title('Suicide Rates: 2015')\n",
    "plt.ylabel('Suicide Rate')\n",
    "plt.xlabel('GDP')\n",
    "plt.show()\n",
    "# Checking data for rates"
   ]
  },
  {
   "cell_type": "code",
   "execution_count": 48,
   "metadata": {},
   "outputs": [
    {
     "data": {
      "text/plain": [
       "(744, 4)"
      ]
     },
     "execution_count": 48,
     "metadata": {},
     "output_type": "execute_result"
    }
   ],
   "source": [
    "df2015.shape"
   ]
  },
  {
   "cell_type": "code",
   "execution_count": 49,
   "metadata": {},
   "outputs": [
    {
     "name": "stderr",
     "output_type": "stream",
     "text": [
      "/Users/mathluvacoding/opt/anaconda3/envs/PythonData/lib/python3.6/site-packages/ipykernel_launcher.py:1: FutureWarning: Indexing with multiple keys (implicitly converted to a tuple of keys) will be deprecated, use a list instead.\n",
      "  \"\"\"Entry point for launching an IPython kernel.\n"
     ]
    }
   ],
   "source": [
    "dfcont = df2015.groupby(['Continent','Country'],sort=True,as_index=False)['Suicides/100kPop','GdpPerCapital($)'].sum()"
   ]
  },
  {
   "cell_type": "code",
   "execution_count": 50,
   "metadata": {},
   "outputs": [],
   "source": [
    "dfcont['GdpPerCapital($)'] = dfcont['GdpPerCapital($)'].div(2)\n",
    "dfcont.reset_index(level=0, inplace=True)"
   ]
  },
  {
   "cell_type": "code",
   "execution_count": null,
   "metadata": {},
   "outputs": [],
   "source": [
    "dfcont"
   ]
  },
  {
   "cell_type": "code",
   "execution_count": null,
   "metadata": {},
   "outputs": [],
   "source": [
    "#plot suicide rate vs gdp\n",
    "plt.figure(figsize=(20,16))\n",
    "sns.scatterplot(x='GdpPerCapital($)',s=300, y='Suicides/100kPop',data=dfcont, hue='Continent') \n",
    "plt.title('Suicide Rates: 2015', fontsize= 30)\n",
    "plt.ylabel('Suicide Rate /100k Population', fontsize = 22)\n",
    "plt.xlabel('GDP ($)', fontsize = 22)\n",
    "plt.xticks(fontsize=20)\n",
    "plt.yticks(fontsize=20)\n",
    "plt.legend(loc=1, prop={'size': 30})\n",
    "\n",
    "\n",
    "plt.show()"
   ]
  },
  {
   "cell_type": "code",
   "execution_count": null,
   "metadata": {},
   "outputs": [],
   "source": [
    "#regression plot for suicide rates vs gdp\n",
    "plt.figure(figsize=(20,16))\n",
    "sns.regplot(x=\"GdpPerCapital($)\", y=\"Suicides/100kPop\", data=dfcont, color = 'b')\n",
    "plt.title('Suicide Rates: 2015', fontsize= 30)\n",
    "plt.ylabel('Suicide Rate /100k Population', fontsize = 22)\n",
    "plt.xlabel('GDP($)', fontsize = 22)\n",
    "plt.xticks(fontsize=20)\n",
    "plt.yticks(fontsize=20)\n",
    "plt.show()"
   ]
  },
  {
   "cell_type": "code",
   "execution_count": null,
   "metadata": {},
   "outputs": [],
   "source": [
    "plt.figure(figsize=(6,6))\n",
    "curr = global_suicide_data.groupby(['Age']).sum().reset_index()\n",
    "plt.bar(curr['Age'].values, curr['SuicidesNo'].values * 100000 / curr['Population'].values)\n",
    "plt.title('Global Suicide Count per Age Group', fontsize = 14)\n",
    "plt.xlabel('Age Group', fontsize = 14)\n",
    "plt.ylabel('Suicide Count per 100,000', fontsize = 14)\n",
    "plt.xticks(rotation = 45)\n",
    "plt.show()"
   ]
  },
  {
   "cell_type": "code",
   "execution_count": null,
   "metadata": {},
   "outputs": [],
   "source": [
    "curr = global_suicide_data.groupby(['Year', 'Age']).sum().reset_index()\n",
    "plt.figure(figsize = (8,6))\n",
    "for age_group in curr['Age'].unique():\n",
    "    sub = curr[curr['Age'] == age_group]\n",
    "    sub['per_100k'] = sub['SuicidesNo'] * 100000 / sub['Population']\n",
    "    plt.plot(sub['Year'], sub['per_100k'], label = age_group)\n",
    "\n",
    "plt.title('Suicide count from 1985 - 2015', fontsize = 18)\n",
    "plt.xlabel('Year', fontsize = 14)\n",
    "plt.ylabel('Suicide Count per 100,000', fontsize = 14)\n",
    "plt.legend()\n",
    "plt.show()\n",
    "\n"
   ]
  },
  {
   "cell_type": "code",
   "execution_count": null,
   "metadata": {},
   "outputs": [],
   "source": [
    "curr = global_suicide_data[(global_suicide_data['SuicidesNo'] != np.NaN) & (global_suicide_data['Population'] != np.NaN)]\n",
    "curr = global_suicide_data.groupby(['Year', 'Gender']).sum().reset_index()\n",
    "plt.figure(figsize = (8,6))\n",
    "for sex in curr['Gender'].unique():\n",
    "    sub = curr[curr['Gender'] == sex]\n",
    "    sub['per_100k'] = sub['SuicidesNo'] * 100000 / sub['Population']\n",
    "    plt.plot(sub['Year'], sub['per_100k'], label = sex)\n",
    "\n",
    "plt.title('Suicide count based on Gender', fontsize = 18)\n",
    "plt.xlabel('Year', fontsize = 14)\n",
    "plt.ylabel('Suicide count per 100,000', fontsize = 14)\n",
    "plt.ylim(bottom = 0)\n",
    "plt.legend()\n",
    "plt.show()\n",
    "\n",
    "plt.figure(figsize = (8,6))\n",
    "for sex in curr['Gender'].unique():\n",
    "    sub = curr[curr['Gender'] == sex]\n",
    "    plt.plot(sub['Year'], sub['SuicidesNo'], label = sex)\n",
    "\n",
    "plt.title('Suicide count based on Gender', fontsize = 18)\n",
    "plt.xlabel('Year', fontsize = 14)\n",
    "plt.ylabel('Total Suicide Count', fontsize = 14)\n",
    "plt.ylim(bottom = 0)\n",
    "plt.legend()\n",
    "plt.show()"
   ]
  },
  {
   "cell_type": "code",
   "execution_count": null,
   "metadata": {},
   "outputs": [],
   "source": [
    "\n",
    "# Generate pie plot showing the distribution of female versus male suicide percent\n",
    "suicide_gender = global_suicide_data.groupby(\"Gender\")\n",
    "\n",
    "gender_suicide_percent = 100*suicide_gender['SuicidesNo'].sum()/global_suicide_data['SuicidesNo'].sum()\n",
    "gender_suicide_percent"
   ]
  },
  {
   "cell_type": "code",
   "execution_count": null,
   "metadata": {},
   "outputs": [],
   "source": [
    "\n",
    "# Pie Plot\n",
    "suicide_vs_age = gender_suicide_percent.plot(kind='pie', y='Gender', title=\"Female Vs. Male Suicide Rate Percent (2000-2015)\",\\\n",
    "                startangle=100, autopct='%1.1f%%',shadow=True, fontsize=20, colors =[\"r\",\"b\"],legend =False, explode =(0, 0.1))\n",
    "plt.tight_layout()\n",
    "\n",
    "plt.show()"
   ]
  },
  {
   "cell_type": "code",
   "execution_count": null,
   "metadata": {},
   "outputs": [],
   "source": []
  }
 ],
 "metadata": {
  "kernelspec": {
   "display_name": "Python [conda env:PythonData] *",
   "language": "python",
   "name": "conda-env-PythonData-py"
  },
  "language_info": {
   "codemirror_mode": {
    "name": "ipython",
    "version": 3
   },
   "file_extension": ".py",
   "mimetype": "text/x-python",
   "name": "python",
   "nbconvert_exporter": "python",
   "pygments_lexer": "ipython3",
   "version": "3.6.10"
  }
 },
 "nbformat": 4,
 "nbformat_minor": 4
}
