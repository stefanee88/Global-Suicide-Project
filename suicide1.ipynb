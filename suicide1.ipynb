{
 "cells": [
  {
   "cell_type": "code",
   "execution_count": null,
   "metadata": {},
   "outputs": [],
   "source": [
    "%matplotlib inline"
   ]
  },
  {
   "cell_type": "code",
   "execution_count": null,
   "metadata": {},
   "outputs": [],
   "source": [
    "import matplotlib.pyplot as plt\n",
    "from matplotlib import cm\n",
    "import pandas as pd\n",
    "import datapackage\n",
    "import scipy.stats as st\n",
    "from sklearn import datasets\n",
    "import numpy as np\n",
    "import seaborn as sns\n",
    "import json\n",
    "from scipy.stats import ttest_ind\n",
    "plt.style.use('seaborn')"
   ]
  },
  {
   "cell_type": "code",
   "execution_count": null,
   "metadata": {},
   "outputs": [],
   "source": [
    "global_suicide_data = \"master.csv\"\n",
    "global_suicide_data = pd.read_csv(global_suicide_data)\n"
   ]
  },
  {
   "cell_type": "code",
   "execution_count": null,
   "metadata": {},
   "outputs": [],
   "source": [
    "tiffany_copy=pd.read_csv('master.csv')\n",
    "tiffany_copy_df = pd.DataFrame(tiffany_copy)\n",
    "tiffany_copy_df.head()"
   ]
  },
  {
   "cell_type": "code",
   "execution_count": null,
   "metadata": {},
   "outputs": [],
   "source": [
    "tiffany_clean = tiffany_copy_df[['country','year','sex','age','suicides_no','population']].groupby(['country']).sum().sort_values(by=['suicides_no'], ascending=False)\n",
    "tiffany_clean"
   ]
  },
  {
   "cell_type": "code",
   "execution_count": null,
   "metadata": {
    "scrolled": true
   },
   "outputs": [],
   "source": [
    "tiff_top_five = tiffany_copy_df[tiffany_copy_df['country'].isin(['Russian Federation','United States','Japan','France','Ukraine'])]\n",
    "tiff_top_five_df= pd.DataFrame(tiff_top_five)\n",
    "tiff_top_five_df"
   ]
  },
  {
   "cell_type": "code",
   "execution_count": null,
   "metadata": {
    "scrolled": true
   },
   "outputs": [],
   "source": [
    "tiff_top_five_df = tiff_top_five_df.loc[(tiff_top_five_df['year']>=1990)&(tiff_top_five_df['year']<2016)]\n",
    "tiff_top_five_df"
   ]
  },
  {
   "cell_type": "code",
   "execution_count": null,
   "metadata": {},
   "outputs": [],
   "source": [
    "#Calculate the IQR and quantitatively determine if there are any potential outliers. \n",
    "quartiles=tiff_top_five['suicides_no'].quantile([.25,.50,.75])\n",
    "iqr=quartiles[.75]-quartiles[.25] #iqr = Q3-Q1\n",
    "min_outlier_value = quartiles[.25] - (1.5*iqr)\n",
    "max_outlier_value = quartiles[.75] + (1.5*iqr)\n",
    "outliers_values =tiff_top_five.loc[(tiff_top_five['suicides_no'] < min_outlier_value)|(tiff_top_five['suicides_no'] > max_outlier_value)]\n",
    "print(outliers_values[['country','year','suicides_no']])\n",
    "print(f'Potential outliers for the top five countries with the highest suicide rates are values below {np.round(min_outlier_value, decimals =2)} and greater than {np.round(max_outlier_value, decimals =2)} suicides.')"
   ]
  },
  {
   "cell_type": "code",
   "execution_count": null,
   "metadata": {
    "scrolled": false
   },
   "outputs": [],
   "source": [
    "tiff_top_five_no_outliers=tiff_top_five.loc[(tiff_top_five['suicides_no']>min_outlier_value)&(tiff_top_five['suicides_no']<max_outlier_value)]\n",
    "tiff_top_five_no_outliers.boxplot(column=['suicides_no'],by=['country'])\n",
    "plt.title('Number of Suicides by Country (1990-2015)')\n",
    "plt.xlabel('Country')\n",
    "plt.ylabel('Number of Suicides')"
   ]
  },
  {
   "cell_type": "code",
   "execution_count": null,
   "metadata": {},
   "outputs": [],
   "source": [
    "#same data but horizontal and color\n",
    "sns.boxplot(x='suicides_no',y='country',data=tiff_top_five_no_outliers)\n",
    "plt.title('Number of Suicides by Country (1990-2015)')\n",
    "plt.xlabel('Number of Suicides')\n",
    "plt.ylabel('Country')"
   ]
  },
  {
   "cell_type": "code",
   "execution_count": null,
   "metadata": {
    "scrolled": true
   },
   "outputs": [],
   "source": [
    "#swarmplot puts actual data points on the box and whisker plot\n",
    "sns.swarmplot(x='suicides_no',y='country', hue='sex', data=tiff_top_five_no_outliers)\n",
    "sns.boxplot(x='suicides_no',y='country', data=tiff_top_five_no_outliers)\n",
    "plt.title('Number of Suicides by Country (1990-2015)')\n",
    "plt.xlabel('Number of Suicides')\n",
    "plt.ylabel('Country')"
   ]
  },
  {
   "cell_type": "code",
   "execution_count": null,
   "metadata": {
    "scrolled": true
   },
   "outputs": [],
   "source": [
    "#data broken down by gender for each country\n",
    "sns.boxplot(x='suicides_no',y='country', hue='sex', data=tiff_top_five_no_outliers)\n",
    "plt.title('Number of Suicides by Country and Gender (1990-2015)')\n",
    "plt.xlabel('Number of Suicides')\n",
    "plt.ylabel('Country')"
   ]
  },
  {
   "cell_type": "code",
   "execution_count": null,
   "metadata": {
    "scrolled": true
   },
   "outputs": [],
   "source": [
    "#Calculate the IQR and quantitatively determine if there are any potential outliers\n",
    "#population per 100k\n",
    "quartiles=tiff_top_five['suicides/100k pop'].quantile([.25,.50,.75])\n",
    "iqr=quartiles[.75]-quartiles[.25] #iqr = Q3-Q1\n",
    "min_outlier_value = quartiles[.25] - (1.5*iqr)\n",
    "max_outlier_value = quartiles[.75] + (1.5*iqr)\n",
    "outliers_values =tiff_top_five.loc[(tiff_top_five['suicides/100k pop'] < min_outlier_value)|(tiff_top_five['suicides/100k pop'] > max_outlier_value)]\n",
    "print(outliers_values[['country','year','suicides/100k pop']])\n",
    "print(f'Potential outliers for the top five countries with the highest suicide rates are values per 100k below {np.round(min_outlier_value, decimals =2)} and greater than {np.round(max_outlier_value, decimals =2)} suicides.')"
   ]
  },
  {
   "cell_type": "code",
   "execution_count": null,
   "metadata": {},
   "outputs": [],
   "source": [
    "tiff_top_five_no_outliers=tiff_top_five.loc[tiff_top_five['suicides/100k pop']<max_outlier_value]\n",
    "tiff_top_five_no_outliers.boxplot(column=['suicides/100k pop'],by=['country'])\n",
    "plt.title('Number of Suicides by Country (1990-2015)')\n",
    "plt.xlabel('Country')\n",
    "plt.ylabel('Number of Suicides per 100k')"
   ]
  },
  {
   "cell_type": "code",
   "execution_count": null,
   "metadata": {
    "scrolled": true
   },
   "outputs": [],
   "source": [
    "#same data but horizontal and color\n",
    "sns.boxplot(x='suicides/100k pop',y='country',data=tiff_top_five_no_outliers)\n",
    "plt.title('Number of Suicides by Country (1990-2015)')\n",
    "plt.xlabel('Number of Suicides per 100k')\n",
    "plt.ylabel('Country')"
   ]
  },
  {
   "cell_type": "code",
   "execution_count": null,
   "metadata": {
    "scrolled": true
   },
   "outputs": [],
   "source": [
    "#swarmplot puts actual data points on the box and whisker plot\n",
    "sns.swarmplot(x='suicides/100k pop',y='country', hue='sex', data=tiff_top_five_no_outliers)\n",
    "sns.boxplot(x='suicides/100k pop',y='country', data=tiff_top_five_no_outliers)\n",
    "plt.title('Number of Suicides by Country (1990-2015)')\n",
    "plt.xlabel('Number of Suicides per 100k')\n",
    "plt.ylabel('Country')"
   ]
  },
  {
   "cell_type": "code",
   "execution_count": null,
   "metadata": {
    "scrolled": true
   },
   "outputs": [],
   "source": [
    "#data broken down by gender for each country\n",
    "sns.boxplot(x='country',y='suicides/100k pop', hue='sex', data=tiff_top_five_no_outliers)\n",
    "plt.title('Number of Suicides by Country and Gender (1990-2015)')\n",
    "plt.xlabel('Country')\n",
    "plt.ylabel('Number of Suicides per 100k')"
   ]
  },
  {
   "cell_type": "code",
   "execution_count": null,
   "metadata": {},
   "outputs": [],
   "source": [
    "# box plot of year versus number of suicides\n",
    "tiff_usa=tiff_top_five.loc[(tiff_top_five['country']=='United States')]\n",
    "tiff_usa.boxplot(column=['suicides_no'],by=['age'])\n",
    "plt.title('Number of Suicides in the United States by Age group (1990-2015)')\n",
    "plt.xlabel('Age Group')\n",
    "plt.ylabel('Number of Suicides')\n",
    "plt.figure(figsize=(10,10))\n"
   ]
  },
  {
   "cell_type": "code",
   "execution_count": null,
   "metadata": {},
   "outputs": [],
   "source": [
    "sns.boxplot(y='age',x='suicides_no', hue='sex',data=tiff_usa, palette ='Set2')\n",
    "plt.title('Number of Suicides in the United States by Age group (1990-2015)')\n",
    "plt.xlabel('Number of Suicides')\n",
    "plt.ylabel('Age Group')\n",
    "plt.figure(figsize=(10,10))\n"
   ]
  },
  {
   "cell_type": "code",
   "execution_count": null,
   "metadata": {
    "scrolled": true
   },
   "outputs": [],
   "source": [
    "box_plot=sns.catplot(y=\"suicides_no\",x='age',col='sex',data=tiff_usa, kind=\"box\",height=12, aspect=.9)\n",
    "box_plot.set_axis_labels(\"Age Group\", \"Number of Suicides\")"
   ]
  },
  {
   "cell_type": "code",
   "execution_count": null,
   "metadata": {},
   "outputs": [],
   "source": [
    "males= tiff_top_five['suicides_no'].loc[(tiff_top_five['country']=='United States')&(tiff_top_five['sex']=='male')]\n",
    "females= tiff_top_five['suicides_no'].loc[(tiff_top_five['country']=='United States')&(tiff_top_five['sex']=='female')]"
   ]
  },
  {
   "cell_type": "code",
   "execution_count": null,
   "metadata": {},
   "outputs": [],
   "source": [
    "#function to graph distribution of variable and highlight mean\n",
    "def distribution(variable):\n",
    "    plt.figure()\n",
    "    ax=sns.distplot(variable)\n",
    "    plt.axvline(np.mean(variable), color='k',linestyle='dashed',linewidth=5)\n",
    "    _, max_=plt.ylim()\n",
    "    plt.text(variable.mean() + variable.mean()/10,\n",
    "             max_ - max_ /10, \n",
    "             \"Mean: {:.2f}\".format(variable.mean()),)\n",
    "    return plt.figure()"
   ]
  },
  {
   "cell_type": "code",
   "execution_count": null,
   "metadata": {},
   "outputs": [],
   "source": [
    "print(len(males))\n",
    "print(len(females))"
   ]
  },
  {
   "cell_type": "code",
   "execution_count": null,
   "metadata": {},
   "outputs": [],
   "source": [
    "distribution(males)"
   ]
  },
  {
   "cell_type": "code",
   "execution_count": null,
   "metadata": {},
   "outputs": [],
   "source": [
    "distribution(females)"
   ]
  },
  {
   "cell_type": "code",
   "execution_count": null,
   "metadata": {},
   "outputs": [],
   "source": [
    "#function to run independent t-test, test used to determine whether there is a\n",
    "#statistically significant difference between the means in two unrelated groups (ex:gender)\n",
    "def ttestcompare(var1,var2,alpha,sample_size):\n",
    "    stat, p=ttest_ind(var1,var2)\n",
    "    print('Statistics=%.3f, p%.3f' % (stat,p))\n",
    "    if p>alpha:\n",
    "        print('Same distributions (fail to reject H0)')\n",
    "    else:\n",
    "        print('Different distributions (reject H0) and accept the alternative hypothesis that both means are from different distributions')"
   ]
  },
  {
   "cell_type": "code",
   "execution_count": null,
   "metadata": {},
   "outputs": [],
   "source": [
    "sample_size=30\n",
    "male_sampled = np.random.choice(males,sample_size)\n",
    "female_sampled=np.random.choice(females,sample_size)\n",
    "ttestcompare(male_sampled, female_sampled,.05,sample_size)"
   ]
  },
  {
   "cell_type": "code",
   "execution_count": null,
   "metadata": {},
   "outputs": [],
   "source": [
    "tiff_usa = tiff_usa.groupby('year').sum().reset_index()\n",
    "tiff_usa_df = pd.DataFrame(tiff_usa)\n",
    "tiff_usa_df"
   ]
  },
  {
   "cell_type": "code",
   "execution_count": null,
   "metadata": {
    "scrolled": true
   },
   "outputs": [],
   "source": [
    "(slope, intercept, rvalue, pvalue, stderr) = st.linregress(tiff_usa_df['year'] ,tiff_usa_df['suicides_no'])\n",
    "regression_values = tiff_usa_df['year'] *slope + intercept\n",
    "plt.plot(tiff_usa_df['year'], regression_values)\n",
    "plt.scatter(tiff_usa_df['year'] ,tiff_usa_df['suicides_no'])\n",
    "plt.show()"
   ]
  },
  {
   "cell_type": "code",
   "execution_count": null,
   "metadata": {},
   "outputs": [],
   "source": [
    "print(f'The correlation coefficient for the number of suicides per year in the United States is {np.round(rvalue, decimals = 2)}')\n",
    "print(f'The linear regression model is y =  {np.round(slope, decimals =2)} x +  {np.round(intercept, decimals =2)}')"
   ]
  },
  {
   "cell_type": "code",
   "execution_count": null,
   "metadata": {},
   "outputs": [],
   "source": [
    "global_suicide_data.head()\n"
   ]
  },
  {
   "cell_type": "code",
   "execution_count": null,
   "metadata": {},
   "outputs": [],
   "source": [
    "global_suicide_data.info()"
   ]
  },
  {
   "cell_type": "code",
   "execution_count": null,
   "metadata": {},
   "outputs": [],
   "source": [
    "global_suicide_data.columns"
   ]
  },
  {
   "cell_type": "code",
   "execution_count": null,
   "metadata": {},
   "outputs": [],
   "source": [
    "#clean columns\n",
    "global_suicide_data=global_suicide_data.rename(columns={'country':'Country','year':'Year','sex':'Gender','age':'Age'\n",
    "                     ,'suicides_no':'SuicidesNo','population':'Population',\n",
    "                      'suicides/100k pop':'Suicides/100kPop','country-year':'Country/Year',\n",
    "                      'HDI for year':'HDIForYear',' gdp_for_year ($) ':'GdpForYear($)',\n",
    "                      'gdp_per_capita ($)':'GdpPerCapital($)','generation':'Generation'})"
   ]
  },
  {
   "cell_type": "code",
   "execution_count": null,
   "metadata": {},
   "outputs": [],
   "source": [
    "#checking for null values\n",
    "global_suicide_data.isnull().any()"
   ]
  },
  {
   "cell_type": "code",
   "execution_count": null,
   "metadata": {},
   "outputs": [],
   "source": [
    "#count amount of null values\n",
    "global_suicide_data.isnull().sum()"
   ]
  },
  {
   "cell_type": "code",
   "execution_count": null,
   "metadata": {},
   "outputs": [],
   "source": [
    "global_suicide_data.drop('HDIForYear', axis=1, inplace = True)"
   ]
  },
  {
   "cell_type": "code",
   "execution_count": null,
   "metadata": {},
   "outputs": [],
   "source": [
    "global_suicide_data.drop('Country/Year', axis=1, inplace=True)"
   ]
  },
  {
   "cell_type": "code",
   "execution_count": null,
   "metadata": {},
   "outputs": [],
   "source": [
    "global_suicide_data = global_suicide_data[global_suicide_data.Year >= 2000]"
   ]
  },
  {
   "cell_type": "code",
   "execution_count": null,
   "metadata": {},
   "outputs": [],
   "source": [
    "global_suicide_data[\"Year\"].value_counts()"
   ]
  },
  {
   "cell_type": "code",
   "execution_count": null,
   "metadata": {},
   "outputs": [],
   "source": [
    "#here we have dropped unneeded columns, as well as filtered the data\n",
    "global_suicide_data.shape"
   ]
  },
  {
   "cell_type": "code",
   "execution_count": null,
   "metadata": {
    "scrolled": true
   },
   "outputs": [],
   "source": [
    "#create new data frame grouped by year to check\n",
    "yearlyStats = global_suicide_data.groupby('Year').sum()\n",
    "yearlyStats.sort()"
   ]
  },
  {
   "cell_type": "code",
   "execution_count": null,
   "metadata": {},
   "outputs": [],
   "source": [
    "#Checkking countries for bad values\n",
    "countryStats = global_suicide_data.groupby('Country').sum()\n",
    "countryStats"
   ]
  },
  {
   "cell_type": "code",
   "execution_count": null,
   "metadata": {},
   "outputs": [],
   "source": [
    "#dropping countries with bad data\n",
    "country_1 = global_suicide_data['Country'] != 'Antigua'\n",
    "country_2 = global_suicide_data['Country'] != 'Barbados'\n",
    "country_3 = global_suicide_data['Country'] != 'Grenada'\n",
    "country_4 = global_suicide_data['Country'] != 'Maldives'\n",
    "country_5 = global_suicide_data['Country'] != 'Montenegro'\n",
    "country_6 = global_suicide_data['Country'] != 'Saint Vincent'\n",
    "\n",
    "country_all = country_1 | country_2 | country_3 | country_4 | country_5 | country_6\n",
    "global_suicide_data= global_suicide_data[country_all]"
   ]
  },
  {
   "cell_type": "code",
   "execution_count": null,
   "metadata": {},
   "outputs": [],
   "source": [
    "#removing 2016 due to being incomplete\n",
    "global_suicide_data = global_suicide_data[global_suicide_data.Year != 2016]"
   ]
  },
  {
   "cell_type": "code",
   "execution_count": null,
   "metadata": {},
   "outputs": [],
   "source": [
    "global_suicide_data.shape"
   ]
  },
  {
   "cell_type": "code",
   "execution_count": null,
   "metadata": {},
   "outputs": [],
   "source": [
    "global_suicide_data.sample(10)"
   ]
  },
  {
   "cell_type": "code",
   "execution_count": null,
   "metadata": {},
   "outputs": [],
   "source": [
    "global_suicide_data.Country.unique()"
   ]
  },
  {
   "cell_type": "code",
   "execution_count": null,
   "metadata": {},
   "outputs": [],
   "source": [
    "\n",
    "#create lists of countries per continent\n",
    "europe = ['Albania', 'Austria', 'Azerbaijan', 'Belarus', 'Belgium', 'Bosnia and Herzegovina', 'Bulgaria', 'Croatia', 'Cyprus', 'Czech Republic', 'Denmark', 'Estonia', 'Finland', 'France', 'Georgia', 'Germany', 'Greece', 'Hungary', 'Iceland', 'Ireland', 'Italy', 'Latvia', 'Lithuania', 'Luxembourg', 'Malta', 'Montenegro', 'Netherlands', 'Norway', 'Poland', 'Portugal', 'Romania', 'Russian Federation', 'San Marino', 'Serbia', 'Slovakia', 'Slovenia', 'Spain', 'Sweden', 'Switzerland', 'Ukraine', 'United Kingdom'] \n",
    "asia = ['Armenia', 'Bahrain', 'Israel', 'Japan', 'Kazakhstan', 'Kuwait', 'Kyrgyzstan', 'Macau', 'Maldives', 'Mongolia', 'Oman', 'Philippines', 'Qatar', 'Republic of Korea', 'Singapore', 'Sri Lanka', 'Thailand', 'Turkey', 'Turkmenistan', 'United Arab Emirates', 'Uzbekistan']\n",
    "northamerica = ['Antigua and Barbuda', 'Bahamas', 'Barbados', 'Belize', 'Canada', 'Costa Rica', 'Cuba', 'Dominica', 'El Salvador', 'Grenada', 'Guatemala', 'Jamaica', 'Mexico', 'Nicaragua', 'Panama', 'Puerto Rico', 'Saint Kitts and Nevis', 'Saint Lucia', 'Saint Vincent and Grenadines', 'United States']\n",
    "southamerica =  ['Argentina', 'Aruba', 'Brazil', 'Chile', 'Colombia', 'Ecuador', 'Guyana', 'Paraguay', 'Suriname', 'Trinidad and Tobago', 'Uruguay']\n",
    "africa = ['Cabo Verde', 'Mauritius', 'Seychelles', 'South Africa'] \n",
    "australiaoceania = ['Australia', 'Fiji', 'Kiribati', 'New Zealand']"
   ]
  },
  {
   "cell_type": "code",
   "execution_count": null,
   "metadata": {},
   "outputs": [],
   "source": [
    "#move these to a dictionary of continents\n",
    "continents = {country: 'Asia' for country in asia}\n",
    "continents.update({country: 'Europe' for country in europe})\n",
    "continents.update({country: 'Africa' for country in africa})\n",
    "continents.update({country: 'North_America' for country in northamerica})\n",
    "continents.update({country: 'South_America' for country in southamerica})\n",
    "continents.update({country: 'Australia_Oceania' for country in australiaoceania})"
   ]
  },
  {
   "cell_type": "code",
   "execution_count": null,
   "metadata": {},
   "outputs": [],
   "source": [
    "global_suicide_data.Country.unique()"
   ]
  },
  {
   "cell_type": "code",
   "execution_count": null,
   "metadata": {},
   "outputs": [],
   "source": [
    "#map continents to countries\n",
    "global_suicide_data['Continent'] = global_suicide_data['Country'].map(continents)"
   ]
  },
  {
   "cell_type": "code",
   "execution_count": null,
   "metadata": {},
   "outputs": [],
   "source": [
    "global_suicide_data.shape"
   ]
  },
  {
   "cell_type": "code",
   "execution_count": null,
   "metadata": {},
   "outputs": [],
   "source": [
    "data_per_year = global_suicide_data.groupby('Year').sum()\n",
    "data_per_year['SuicidesNo']"
   ]
  },
  {
   "cell_type": "code",
   "execution_count": null,
   "metadata": {},
   "outputs": [],
   "source": [
    "plt.rcParams['figure.figsize'] = [12, 8]\n",
    "plt.close()"
   ]
  },
  {
   "cell_type": "code",
   "execution_count": null,
   "metadata": {},
   "outputs": [],
   "source": [
    "flatui = [\"#6cdae7\", \"#fd3a4a\", \"#ffaa1d\", \"#ff23e5\", \"#34495e\", \"#2ecc71\"]\n",
    "sns.set_palette(flatui)\n",
    "sns.palplot(sns.color_palette())"
   ]
  },
  {
   "cell_type": "code",
   "execution_count": null,
   "metadata": {},
   "outputs": [],
   "source": [
    "curr = global_suicide_data.dropna().groupby(['Year']).sum().reset_index()\n",
    "curr['per_100k'] = curr['SuicidesNo'] * 100000 / curr['Population']\n",
    "plt.figure(figsize = (8,6))\n",
    "plt.plot(curr['Year'], curr['per_100k'], label = \"Suicide Rate\")\n",
    "plt.plot(curr['Year'], [curr['per_100k'].mean()] * len(curr), '--', label = \"Mean\")\n",
    "plt.title(\"Global Suicide Rate from 1985 to 2015\", fontsize = 16)\n",
    "plt.xlabel(\"Year\", fontsize = 14)\n",
    "plt.ylabel(\"Suicide Rate per 100,000\", fontsize = 14)\n",
    "plt.legend()\n",
    "plt.show()\n"
   ]
  },
  {
   "cell_type": "code",
   "execution_count": null,
   "metadata": {},
   "outputs": [],
   "source": [
    "#group data by continent\n",
    "data_per_continent = global_suicide_data.groupby('Continent').mean()\n",
    "data_per_continent"
   ]
  },
  {
   "cell_type": "code",
   "execution_count": null,
   "metadata": {},
   "outputs": [],
   "source": [
    "#plot mean suicides/year by continent\n",
    "ax = data_per_continent['Suicides/100kPop'].plot(kind='bar', figsize=(15, 10), fontsize=14)\n",
    "plt.title('Mean Suicides/Year by Continent', fontsize = 22)\n",
    "ax.set_xlabel(\"Continent\", fontsize=20)\n",
    "ax.set_ylabel(\"Suicides/100k Population\", fontsize=20)\n",
    "plt.show()"
   ]
  },
  {
   "cell_type": "code",
   "execution_count": null,
   "metadata": {},
   "outputs": [],
   "source": [
    "\n",
    "dftesting = global_suicide_data[['Continent','Year','Suicides/100kPop']]\n",
    "dftesting"
   ]
  },
  {
   "cell_type": "code",
   "execution_count": null,
   "metadata": {},
   "outputs": [],
   "source": [
    "dfAgg = dftesting.groupby(['Continent','Year'],sort=True,as_index=False)['Suicides/100kPop'].mean()"
   ]
  },
  {
   "cell_type": "code",
   "execution_count": null,
   "metadata": {},
   "outputs": [],
   "source": [
    "#plotting mean suicide/100k by continent, year by year\n",
    "by_cont = dfAgg.groupby('Continent')\n",
    "\n",
    "for name, group in by_cont:\n",
    "    plt.plot(group['Year'], group['Suicides/100kPop'], label=name, linewidth=6.0)\n",
    "    \n",
    "\n",
    "plt.title('Mean Suicide/100k, Year by Year, per Continent', fontsize = 22)\n",
    "plt.ylabel('Suicides/100k', fontsize = 20)\n",
    "plt.xlabel('Year', fontsize = 20)\n",
    "leg = plt.legend(fontsize = 12)\n",
    "for line in leg.get_lines():\n",
    "    line.set_linewidth(10)\n",
    "plt.show"
   ]
  },
  {
   "cell_type": "code",
   "execution_count": null,
   "metadata": {},
   "outputs": [],
   "source": [
    "#plotting countries with the highest suicide rate\n",
    "data_suicide_mean = global_suicide_data['Suicides/100kPop'].groupby(global_suicide_data.Country).mean().sort_values(ascending=False)\n",
    "f,ax = plt.subplots(1,1,figsize=(15,4))\n",
    "ax = sns.barplot(data_suicide_mean.head(10).index,data_suicide_mean.head(10))\n",
    "plt.ylabel('Suicides/100k', fontsize = 20)\n",
    "plt.xlabel('Country', fontsize = 20)"
   ]
  },
  {
   "cell_type": "code",
   "execution_count": null,
   "metadata": {},
   "outputs": [],
   "source": [
    "#creating sub frame for USA only \n",
    "dfUSA = global_suicide_data[global_suicide_data.Country == 'United States']\n",
    "usa_by_year = dfUSA.groupby('Year').sum()"
   ]
  },
  {
   "cell_type": "code",
   "execution_count": null,
   "metadata": {},
   "outputs": [],
   "source": [
    "dfUSA.corr(method ='pearson')"
   ]
  },
  {
   "cell_type": "code",
   "execution_count": null,
   "metadata": {},
   "outputs": [],
   "source": [
    "sns.heatmap(dfUSA.corr(method = 'pearson'),cmap='YlGnBu',annot=True)"
   ]
  },
  {
   "cell_type": "code",
   "execution_count": null,
   "metadata": {},
   "outputs": [],
   "source": [
    "usa_by_year['Suicides/100kPop'].plot()\n",
    "plt.title('USA Suicides Rate', fontsize = 22)\n",
    "plt.ylabel('Suicides/100k Population', fontsize = 20)\n",
    "plt.xlabel('Year', fontsize = 20)\n",
    "plt.show()"
   ]
  },
  {
   "cell_type": "code",
   "execution_count": null,
   "metadata": {},
   "outputs": [],
   "source": [
    "\n",
    "#new data frame with only data from 2015\n",
    "df2015 = global_suicide_data[global_suicide_data.Year == 2015]"
   ]
  },
  {
   "cell_type": "code",
   "execution_count": null,
   "metadata": {},
   "outputs": [],
   "source": [
    "df2015 = df2015[['Country','Suicides/100kPop','GdpPerCapital($)', 'Continent']]"
   ]
  },
  {
   "cell_type": "code",
   "execution_count": null,
   "metadata": {},
   "outputs": [],
   "source": [
    "df2015check = df2015.groupby('Country').sum()\n",
    "df2015check"
   ]
  },
  {
   "cell_type": "code",
   "execution_count": null,
   "metadata": {},
   "outputs": [],
   "source": [
    "df2015check['GdpPerCapital($)'] = df2015check['GdpPerCapital($)'].div(2)"
   ]
  },
  {
   "cell_type": "code",
   "execution_count": null,
   "metadata": {},
   "outputs": [],
   "source": [
    "df2015check.reset_index(level=0, inplace=True)\n",
    "df2015check"
   ]
  },
  {
   "cell_type": "code",
   "execution_count": null,
   "metadata": {},
   "outputs": [],
   "source": [
    "sns.scatterplot(x='GdpPerCapital($)', y='Suicides/100kPop', data=df2015check, hue='Country',legend=False) \n",
    "plt.title('Suicide Rates: 2015')\n",
    "plt.ylabel('Suicide Rate')\n",
    "plt.xlabel('GDP')\n",
    "plt.show()\n",
    "# Checking data for rates"
   ]
  },
  {
   "cell_type": "code",
   "execution_count": null,
   "metadata": {},
   "outputs": [],
   "source": [
    "df2015.shape"
   ]
  },
  {
   "cell_type": "code",
   "execution_count": null,
   "metadata": {},
   "outputs": [],
   "source": [
    "dfcont = df2015.groupby(['Continent','Country'],sort=True,as_index=False)['Suicides/100kPop','GdpPerCapital($)'].sum()"
   ]
  },
  {
   "cell_type": "code",
   "execution_count": null,
   "metadata": {},
   "outputs": [],
   "source": [
    "dfcont['GdpPerCapital($)'] = dfcont['GdpPerCapital($)'].div(2)\n",
    "dfcont.reset_index(level=0, inplace=True)"
   ]
  },
  {
   "cell_type": "code",
   "execution_count": null,
   "metadata": {},
   "outputs": [],
   "source": [
    "dfcont"
   ]
  },
  {
   "cell_type": "code",
   "execution_count": null,
   "metadata": {},
   "outputs": [],
   "source": [
    "#plot suicide rate vs gdp\n",
    "plt.figure(figsize=(20,16))\n",
    "sns.scatterplot(x='GdpPerCapital($)',s=300, y='Suicides/100kPop',data=dfcont, hue='Continent') \n",
    "plt.title('Suicide Rates: 2015', fontsize= 30)\n",
    "plt.ylabel('Suicide Rate /100k Population', fontsize = 22)\n",
    "plt.xlabel('GDP ($)', fontsize = 22)\n",
    "plt.xticks(fontsize=20)\n",
    "plt.yticks(fontsize=20)\n",
    "plt.legend(loc=1, prop={'size': 30})\n",
    "\n",
    "\n",
    "plt.show()"
   ]
  },
  {
   "cell_type": "code",
   "execution_count": null,
   "metadata": {},
   "outputs": [],
   "source": [
    "#regression plot for suicide rates vs gdp\n",
    "plt.figure(figsize=(20,16))\n",
    "sns.regplot(x=\"GdpPerCapital($)\", y=\"Suicides/100kPop\", data=dfcont, color = 'b')\n",
    "plt.title('Suicide Rates: 2015', fontsize= 30)\n",
    "plt.ylabel('Suicide Rate /100k Population', fontsize = 22)\n",
    "plt.xlabel('GDP($)', fontsize = 22)\n",
    "plt.xticks(fontsize=20)\n",
    "plt.yticks(fontsize=20)\n",
    "plt.show()"
   ]
  },
  {
   "cell_type": "code",
   "execution_count": null,
   "metadata": {},
   "outputs": [],
   "source": [
    "plt.figure(figsize=(6,6))\n",
    "curr = global_suicide_data.groupby(['Age']).sum().reset_index()\n",
    "plt.bar(curr['Age'].values, curr['SuicidesNo'].values * 100000 / curr['Population'].values)\n",
    "plt.title('Global Suicide Count per Age Group', fontsize = 14)\n",
    "plt.xlabel('Age Group', fontsize = 14)\n",
    "plt.ylabel('Suicide Count per 100,000', fontsize = 14)\n",
    "plt.xticks(rotation = 45)\n",
    "plt.show()"
   ]
  },
  {
   "cell_type": "code",
   "execution_count": null,
   "metadata": {},
   "outputs": [],
   "source": [
    "curr = global_suicide_data.groupby(['Year', 'Age']).sum().reset_index()\n",
    "plt.figure(figsize = (8,6))\n",
    "for age_group in curr['Age'].unique():\n",
    "    sub = curr[curr['Age'] == age_group]\n",
    "    sub['per_100k'] = sub['SuicidesNo'] * 100000 / sub['Population']\n",
    "    plt.plot(sub['Year'], sub['per_100k'], label = age_group)\n",
    "\n",
    "plt.title('Suicide count from 1985 - 2015', fontsize = 18)\n",
    "plt.xlabel('Year', fontsize = 14)\n",
    "plt.ylabel('Suicide Count per 100,000', fontsize = 14)\n",
    "plt.legend()\n",
    "plt.show()\n",
    "\n"
   ]
  },
  {
   "cell_type": "code",
   "execution_count": null,
   "metadata": {},
   "outputs": [],
   "source": [
    "curr = global_suicide_data[(global_suicide_data['SuicidesNo'] != np.NaN) & (global_suicide_data['Population'] != np.NaN)]\n",
    "curr = global_suicide_data.groupby(['Year', 'Gender']).sum().reset_index()\n",
    "plt.figure(figsize = (8,6))\n",
    "for sex in curr['Gender'].unique():\n",
    "    sub = curr[curr['Gender'] == sex]\n",
    "    sub['per_100k'] = sub['SuicidesNo'] * 100000 / sub['Population']\n",
    "    plt.plot(sub['Year'], sub['per_100k'], label = sex)\n",
    "\n",
    "plt.title('Suicide count based on Gender', fontsize = 18)\n",
    "plt.xlabel('Year', fontsize = 14)\n",
    "plt.ylabel('Suicide count per 100,000', fontsize = 14)\n",
    "plt.ylim(bottom = 0)\n",
    "plt.legend()\n",
    "plt.show()\n",
    "\n",
    "plt.figure(figsize = (8,6))\n",
    "for sex in curr['Gender'].unique():\n",
    "    sub = curr[curr['Gender'] == sex]\n",
    "    plt.plot(sub['Year'], sub['SuicidesNo'], label = sex)\n",
    "\n",
    "plt.title('Suicide count based on Gender', fontsize = 18)\n",
    "plt.xlabel('Year', fontsize = 14)\n",
    "plt.ylabel('Total Suicide Count', fontsize = 14)\n",
    "plt.ylim(bottom = 0)\n",
    "plt.legend()\n",
    "plt.show()"
   ]
  },
  {
   "cell_type": "code",
   "execution_count": null,
   "metadata": {},
   "outputs": [],
   "source": [
    "\n",
    "# Generate pie plot showing the distribution of female versus male suicide percent\n",
    "suicide_gender = global_suicide_data.groupby(\"Gender\")\n",
    "\n",
    "gender_suicide_percent = 100*suicide_gender['SuicidesNo'].sum()/global_suicide_data['SuicidesNo'].sum()\n",
    "gender_suicide_percent"
   ]
  },
  {
   "cell_type": "code",
   "execution_count": null,
   "metadata": {},
   "outputs": [],
   "source": [
    "\n",
    "# Pie Plot\n",
    "suicide_vs_age = gender_suicide_percent.plot(kind='pie', y='Gender', title=\"Female Vs. Male Suicide Rate Percent (2000-2015)\",\\\n",
    "                startangle=100, autopct='%1.1f%%',shadow=True, fontsize=20, colors =[\"r\",\"b\"],legend =False, explode =(0, 0.1))\n",
    "plt.tight_layout()\n",
    "\n",
    "plt.show()"
   ]
  },
  {
   "cell_type": "code",
   "execution_count": null,
   "metadata": {},
   "outputs": [],
   "source": []
  }
 ],
 "metadata": {
  "kernelspec": {
   "display_name": "Python [conda env:PythonData] *",
   "language": "python",
   "name": "conda-env-PythonData-py"
  },
  "language_info": {
   "codemirror_mode": {
    "name": "ipython",
    "version": 3
   },
   "file_extension": ".py",
   "mimetype": "text/x-python",
   "name": "python",
   "nbconvert_exporter": "python",
   "pygments_lexer": "ipython3",
   "version": "3.6.10"
  }
 },
 "nbformat": 4,
 "nbformat_minor": 4
}
